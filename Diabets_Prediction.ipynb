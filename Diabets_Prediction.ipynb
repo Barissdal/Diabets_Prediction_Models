{
  "nbformat": 4,
  "nbformat_minor": 0,
  "metadata": {
    "colab": {
      "name": "Diabets Prediction.ipynb",
      "provenance": [],
      "collapsed_sections": [],
      "authorship_tag": "ABX9TyM9yERFB3OQLMLfbTroUo/8",
      "include_colab_link": true
    },
    "kernelspec": {
      "name": "python3",
      "display_name": "Python 3"
    },
    "language_info": {
      "name": "python"
    },
    "accelerator": "GPU"
  },
  "cells": [
    {
      "cell_type": "markdown",
      "metadata": {
        "id": "view-in-github",
        "colab_type": "text"
      },
      "source": [
        "<a href=\"https://colab.research.google.com/github/Barissdal/Diabets_Prediction_Models/blob/main/Diabets_Prediction.ipynb\" target=\"_parent\"><img src=\"https://colab.research.google.com/assets/colab-badge.svg\" alt=\"Open In Colab\"/></a>"
      ]
    },
    {
      "cell_type": "code",
      "execution_count": 3,
      "metadata": {
        "colab": {
          "base_uri": "https://localhost:8080/"
        },
        "id": "gMhffdfMe1G-",
        "outputId": "e0e306e3-7f44-4eae-b419-dc6f22a6e7b1"
      },
      "outputs": [
        {
          "output_type": "stream",
          "name": "stdout",
          "text": [
            "Mounted at /content/drive\n"
          ]
        }
      ],
      "source": [
        "from google.colab import drive\n",
        "drive.mount('/content/drive')"
      ]
    },
    {
      "cell_type": "code",
      "source": [
        "!pip install skompiler"
      ],
      "metadata": {
        "colab": {
          "base_uri": "https://localhost:8080/"
        },
        "id": "pQRpyVxbfwZv",
        "outputId": "70389593-2cb0-4268-8fc3-b57838e480c7"
      },
      "execution_count": 4,
      "outputs": [
        {
          "output_type": "stream",
          "name": "stdout",
          "text": [
            "Collecting skompiler\n",
            "  Downloading SKompiler-0.6.tar.gz (45 kB)\n",
            "\u001b[?25l\r\u001b[K     |███████▎                        | 10 kB 36.6 MB/s eta 0:00:01\r\u001b[K     |██████████████▌                 | 20 kB 18.1 MB/s eta 0:00:01\r\u001b[K     |█████████████████████▊          | 30 kB 10.2 MB/s eta 0:00:01\r\u001b[K     |█████████████████████████████   | 40 kB 8.3 MB/s eta 0:00:01\r\u001b[K     |████████████████████████████████| 45 kB 1.9 MB/s \n",
            "\u001b[?25hRequirement already satisfied: scikit-learn>=0.22 in /usr/local/lib/python3.7/dist-packages (from skompiler) (1.0.2)\n",
            "Requirement already satisfied: threadpoolctl>=2.0.0 in /usr/local/lib/python3.7/dist-packages (from scikit-learn>=0.22->skompiler) (3.0.0)\n",
            "Requirement already satisfied: joblib>=0.11 in /usr/local/lib/python3.7/dist-packages (from scikit-learn>=0.22->skompiler) (1.1.0)\n",
            "Requirement already satisfied: scipy>=1.1.0 in /usr/local/lib/python3.7/dist-packages (from scikit-learn>=0.22->skompiler) (1.4.1)\n",
            "Requirement already satisfied: numpy>=1.14.6 in /usr/local/lib/python3.7/dist-packages (from scikit-learn>=0.22->skompiler) (1.19.5)\n",
            "Building wheels for collected packages: skompiler\n",
            "  Building wheel for skompiler (setup.py) ... \u001b[?25l\u001b[?25hdone\n",
            "  Created wheel for skompiler: filename=SKompiler-0.6-py3-none-any.whl size=54286 sha256=03fc662efe9faf72efa901d9791718f72397550b825600a5fccd3a33dc1b5a17\n",
            "  Stored in directory: /root/.cache/pip/wheels/47/1c/59/b80a730f4afd2144bad854df4b167b812486c9d4c1bd4cf4c5\n",
            "Successfully built skompiler\n",
            "Installing collected packages: skompiler\n",
            "Successfully installed skompiler-0.6\n"
          ]
        }
      ]
    },
    {
      "cell_type": "code",
      "source": [
        "import pandas as pd\n",
        "import numpy as np\n",
        "import matplotlib.pyplot as plt\n",
        "from matplotlib.colors import ListedColormap\n",
        "import seaborn as sns\n",
        "import statsmodels.api as sm\n",
        "import statsmodels.formula.api as smf\n",
        "from sklearn.linear_model import LogisticRegression,LogisticRegressionCV\n",
        "from sklearn.model_selection import train_test_split,cross_val_score,cross_val_predict,ShuffleSplit,GridSearchCV\n",
        "from sklearn.decomposition import PCA\n",
        "from sklearn.tree import DecisionTreeClassifier,plot_tree\n",
        "from sklearn import preprocessing\n",
        "from sklearn.pipeline import Pipeline\n",
        "from sklearn.preprocessing import StandardScaler,scale, RobustScaler\n",
        "from sklearn.metrics import confusion_matrix,accuracy_score, roc_auc_score,roc_curve, classification_report,mean_squared_error,f1_score,recall_score,precision_score\n",
        "from sklearn.neighbors import KNeighborsClassifier,LocalOutlierFactor \n",
        "from sklearn.ensemble import RandomForestClassifier,BaseEnsemble,GradientBoostingClassifier\n",
        "from sklearn.svm import SVC,LinearSVC\n",
        "from sklearn.naive_bayes import GaussianNB\n",
        "import time\n",
        "from xgboost import XGBClassifier\n",
        "from skompiler import skompile\n",
        "from lightgbm import LGBMClassifier\n",
        "from joblib import dump, load"
      ],
      "metadata": {
        "colab": {
          "base_uri": "https://localhost:8080/"
        },
        "id": "z2MlPAfee9RP",
        "outputId": "b3e0b559-8264-41f6-d89a-1c69937589d7"
      },
      "execution_count": 5,
      "outputs": [
        {
          "output_type": "stream",
          "name": "stderr",
          "text": [
            "/usr/local/lib/python3.7/dist-packages/statsmodels/tools/_testing.py:19: FutureWarning: pandas.util.testing is deprecated. Use the functions in the public API at pandas.testing instead.\n",
            "  import pandas.util.testing as tm\n"
          ]
        }
      ]
    },
    {
      "cell_type": "code",
      "source": [
        "df_ = pd.read_csv(\"/content/drive/MyDrive/resource/diabetes.csv\")\n"
      ],
      "metadata": {
        "id": "XhxJjMjQfNid"
      },
      "execution_count": 6,
      "outputs": []
    },
    {
      "cell_type": "code",
      "source": [
        "df = df_.copy()\n",
        "df.head()"
      ],
      "metadata": {
        "colab": {
          "base_uri": "https://localhost:8080/",
          "height": 206
        },
        "id": "0UZiu3ergHfe",
        "outputId": "871d271b-c36c-4e22-e1c8-e890e96e1b90"
      },
      "execution_count": 7,
      "outputs": [
        {
          "output_type": "execute_result",
          "data": {
            "text/html": [
              "\n",
              "  <div id=\"df-c18160a1-3247-4dc6-8353-0a034e4404f6\">\n",
              "    <div class=\"colab-df-container\">\n",
              "      <div>\n",
              "<style scoped>\n",
              "    .dataframe tbody tr th:only-of-type {\n",
              "        vertical-align: middle;\n",
              "    }\n",
              "\n",
              "    .dataframe tbody tr th {\n",
              "        vertical-align: top;\n",
              "    }\n",
              "\n",
              "    .dataframe thead th {\n",
              "        text-align: right;\n",
              "    }\n",
              "</style>\n",
              "<table border=\"1\" class=\"dataframe\">\n",
              "  <thead>\n",
              "    <tr style=\"text-align: right;\">\n",
              "      <th></th>\n",
              "      <th>Pregnancies</th>\n",
              "      <th>Glucose</th>\n",
              "      <th>BloodPressure</th>\n",
              "      <th>SkinThickness</th>\n",
              "      <th>Insulin</th>\n",
              "      <th>BMI</th>\n",
              "      <th>DiabetesPedigreeFunction</th>\n",
              "      <th>Age</th>\n",
              "      <th>Outcome</th>\n",
              "    </tr>\n",
              "  </thead>\n",
              "  <tbody>\n",
              "    <tr>\n",
              "      <th>0</th>\n",
              "      <td>6</td>\n",
              "      <td>148</td>\n",
              "      <td>72</td>\n",
              "      <td>35</td>\n",
              "      <td>0</td>\n",
              "      <td>33.6</td>\n",
              "      <td>0.627</td>\n",
              "      <td>50</td>\n",
              "      <td>1</td>\n",
              "    </tr>\n",
              "    <tr>\n",
              "      <th>1</th>\n",
              "      <td>1</td>\n",
              "      <td>85</td>\n",
              "      <td>66</td>\n",
              "      <td>29</td>\n",
              "      <td>0</td>\n",
              "      <td>26.6</td>\n",
              "      <td>0.351</td>\n",
              "      <td>31</td>\n",
              "      <td>0</td>\n",
              "    </tr>\n",
              "    <tr>\n",
              "      <th>2</th>\n",
              "      <td>8</td>\n",
              "      <td>183</td>\n",
              "      <td>64</td>\n",
              "      <td>0</td>\n",
              "      <td>0</td>\n",
              "      <td>23.3</td>\n",
              "      <td>0.672</td>\n",
              "      <td>32</td>\n",
              "      <td>1</td>\n",
              "    </tr>\n",
              "    <tr>\n",
              "      <th>3</th>\n",
              "      <td>1</td>\n",
              "      <td>89</td>\n",
              "      <td>66</td>\n",
              "      <td>23</td>\n",
              "      <td>94</td>\n",
              "      <td>28.1</td>\n",
              "      <td>0.167</td>\n",
              "      <td>21</td>\n",
              "      <td>0</td>\n",
              "    </tr>\n",
              "    <tr>\n",
              "      <th>4</th>\n",
              "      <td>0</td>\n",
              "      <td>137</td>\n",
              "      <td>40</td>\n",
              "      <td>35</td>\n",
              "      <td>168</td>\n",
              "      <td>43.1</td>\n",
              "      <td>2.288</td>\n",
              "      <td>33</td>\n",
              "      <td>1</td>\n",
              "    </tr>\n",
              "  </tbody>\n",
              "</table>\n",
              "</div>\n",
              "      <button class=\"colab-df-convert\" onclick=\"convertToInteractive('df-c18160a1-3247-4dc6-8353-0a034e4404f6')\"\n",
              "              title=\"Convert this dataframe to an interactive table.\"\n",
              "              style=\"display:none;\">\n",
              "        \n",
              "  <svg xmlns=\"http://www.w3.org/2000/svg\" height=\"24px\"viewBox=\"0 0 24 24\"\n",
              "       width=\"24px\">\n",
              "    <path d=\"M0 0h24v24H0V0z\" fill=\"none\"/>\n",
              "    <path d=\"M18.56 5.44l.94 2.06.94-2.06 2.06-.94-2.06-.94-.94-2.06-.94 2.06-2.06.94zm-11 1L8.5 8.5l.94-2.06 2.06-.94-2.06-.94L8.5 2.5l-.94 2.06-2.06.94zm10 10l.94 2.06.94-2.06 2.06-.94-2.06-.94-.94-2.06-.94 2.06-2.06.94z\"/><path d=\"M17.41 7.96l-1.37-1.37c-.4-.4-.92-.59-1.43-.59-.52 0-1.04.2-1.43.59L10.3 9.45l-7.72 7.72c-.78.78-.78 2.05 0 2.83L4 21.41c.39.39.9.59 1.41.59.51 0 1.02-.2 1.41-.59l7.78-7.78 2.81-2.81c.8-.78.8-2.07 0-2.86zM5.41 20L4 18.59l7.72-7.72 1.47 1.35L5.41 20z\"/>\n",
              "  </svg>\n",
              "      </button>\n",
              "      \n",
              "  <style>\n",
              "    .colab-df-container {\n",
              "      display:flex;\n",
              "      flex-wrap:wrap;\n",
              "      gap: 12px;\n",
              "    }\n",
              "\n",
              "    .colab-df-convert {\n",
              "      background-color: #E8F0FE;\n",
              "      border: none;\n",
              "      border-radius: 50%;\n",
              "      cursor: pointer;\n",
              "      display: none;\n",
              "      fill: #1967D2;\n",
              "      height: 32px;\n",
              "      padding: 0 0 0 0;\n",
              "      width: 32px;\n",
              "    }\n",
              "\n",
              "    .colab-df-convert:hover {\n",
              "      background-color: #E2EBFA;\n",
              "      box-shadow: 0px 1px 2px rgba(60, 64, 67, 0.3), 0px 1px 3px 1px rgba(60, 64, 67, 0.15);\n",
              "      fill: #174EA6;\n",
              "    }\n",
              "\n",
              "    [theme=dark] .colab-df-convert {\n",
              "      background-color: #3B4455;\n",
              "      fill: #D2E3FC;\n",
              "    }\n",
              "\n",
              "    [theme=dark] .colab-df-convert:hover {\n",
              "      background-color: #434B5C;\n",
              "      box-shadow: 0px 1px 3px 1px rgba(0, 0, 0, 0.15);\n",
              "      filter: drop-shadow(0px 1px 2px rgba(0, 0, 0, 0.3));\n",
              "      fill: #FFFFFF;\n",
              "    }\n",
              "  </style>\n",
              "\n",
              "      <script>\n",
              "        const buttonEl =\n",
              "          document.querySelector('#df-c18160a1-3247-4dc6-8353-0a034e4404f6 button.colab-df-convert');\n",
              "        buttonEl.style.display =\n",
              "          google.colab.kernel.accessAllowed ? 'block' : 'none';\n",
              "\n",
              "        async function convertToInteractive(key) {\n",
              "          const element = document.querySelector('#df-c18160a1-3247-4dc6-8353-0a034e4404f6');\n",
              "          const dataTable =\n",
              "            await google.colab.kernel.invokeFunction('convertToInteractive',\n",
              "                                                     [key], {});\n",
              "          if (!dataTable) return;\n",
              "\n",
              "          const docLinkHtml = 'Like what you see? Visit the ' +\n",
              "            '<a target=\"_blank\" href=https://colab.research.google.com/notebooks/data_table.ipynb>data table notebook</a>'\n",
              "            + ' to learn more about interactive tables.';\n",
              "          element.innerHTML = '';\n",
              "          dataTable['output_type'] = 'display_data';\n",
              "          await google.colab.output.renderOutput(dataTable, element);\n",
              "          const docLink = document.createElement('div');\n",
              "          docLink.innerHTML = docLinkHtml;\n",
              "          element.appendChild(docLink);\n",
              "        }\n",
              "      </script>\n",
              "    </div>\n",
              "  </div>\n",
              "  "
            ],
            "text/plain": [
              "   Pregnancies  Glucose  BloodPressure  ...  DiabetesPedigreeFunction  Age  Outcome\n",
              "0            6      148             72  ...                     0.627   50        1\n",
              "1            1       85             66  ...                     0.351   31        0\n",
              "2            8      183             64  ...                     0.672   32        1\n",
              "3            1       89             66  ...                     0.167   21        0\n",
              "4            0      137             40  ...                     2.288   33        1\n",
              "\n",
              "[5 rows x 9 columns]"
            ]
          },
          "metadata": {},
          "execution_count": 7
        }
      ]
    },
    {
      "cell_type": "code",
      "source": [
        "df.describe()"
      ],
      "metadata": {
        "colab": {
          "base_uri": "https://localhost:8080/",
          "height": 300
        },
        "id": "3Q086NyqgNWK",
        "outputId": "83909f50-67b5-4813-95ec-9227f6875190"
      },
      "execution_count": 8,
      "outputs": [
        {
          "output_type": "execute_result",
          "data": {
            "text/html": [
              "\n",
              "  <div id=\"df-d3a8180f-9aa4-4b7a-b3e9-caad85db6747\">\n",
              "    <div class=\"colab-df-container\">\n",
              "      <div>\n",
              "<style scoped>\n",
              "    .dataframe tbody tr th:only-of-type {\n",
              "        vertical-align: middle;\n",
              "    }\n",
              "\n",
              "    .dataframe tbody tr th {\n",
              "        vertical-align: top;\n",
              "    }\n",
              "\n",
              "    .dataframe thead th {\n",
              "        text-align: right;\n",
              "    }\n",
              "</style>\n",
              "<table border=\"1\" class=\"dataframe\">\n",
              "  <thead>\n",
              "    <tr style=\"text-align: right;\">\n",
              "      <th></th>\n",
              "      <th>Pregnancies</th>\n",
              "      <th>Glucose</th>\n",
              "      <th>BloodPressure</th>\n",
              "      <th>SkinThickness</th>\n",
              "      <th>Insulin</th>\n",
              "      <th>BMI</th>\n",
              "      <th>DiabetesPedigreeFunction</th>\n",
              "      <th>Age</th>\n",
              "      <th>Outcome</th>\n",
              "    </tr>\n",
              "  </thead>\n",
              "  <tbody>\n",
              "    <tr>\n",
              "      <th>count</th>\n",
              "      <td>768.000000</td>\n",
              "      <td>768.000000</td>\n",
              "      <td>768.000000</td>\n",
              "      <td>768.000000</td>\n",
              "      <td>768.000000</td>\n",
              "      <td>768.000000</td>\n",
              "      <td>768.000000</td>\n",
              "      <td>768.000000</td>\n",
              "      <td>768.000000</td>\n",
              "    </tr>\n",
              "    <tr>\n",
              "      <th>mean</th>\n",
              "      <td>3.845052</td>\n",
              "      <td>120.894531</td>\n",
              "      <td>69.105469</td>\n",
              "      <td>20.536458</td>\n",
              "      <td>79.799479</td>\n",
              "      <td>31.992578</td>\n",
              "      <td>0.471876</td>\n",
              "      <td>33.240885</td>\n",
              "      <td>0.348958</td>\n",
              "    </tr>\n",
              "    <tr>\n",
              "      <th>std</th>\n",
              "      <td>3.369578</td>\n",
              "      <td>31.972618</td>\n",
              "      <td>19.355807</td>\n",
              "      <td>15.952218</td>\n",
              "      <td>115.244002</td>\n",
              "      <td>7.884160</td>\n",
              "      <td>0.331329</td>\n",
              "      <td>11.760232</td>\n",
              "      <td>0.476951</td>\n",
              "    </tr>\n",
              "    <tr>\n",
              "      <th>min</th>\n",
              "      <td>0.000000</td>\n",
              "      <td>0.000000</td>\n",
              "      <td>0.000000</td>\n",
              "      <td>0.000000</td>\n",
              "      <td>0.000000</td>\n",
              "      <td>0.000000</td>\n",
              "      <td>0.078000</td>\n",
              "      <td>21.000000</td>\n",
              "      <td>0.000000</td>\n",
              "    </tr>\n",
              "    <tr>\n",
              "      <th>25%</th>\n",
              "      <td>1.000000</td>\n",
              "      <td>99.000000</td>\n",
              "      <td>62.000000</td>\n",
              "      <td>0.000000</td>\n",
              "      <td>0.000000</td>\n",
              "      <td>27.300000</td>\n",
              "      <td>0.243750</td>\n",
              "      <td>24.000000</td>\n",
              "      <td>0.000000</td>\n",
              "    </tr>\n",
              "    <tr>\n",
              "      <th>50%</th>\n",
              "      <td>3.000000</td>\n",
              "      <td>117.000000</td>\n",
              "      <td>72.000000</td>\n",
              "      <td>23.000000</td>\n",
              "      <td>30.500000</td>\n",
              "      <td>32.000000</td>\n",
              "      <td>0.372500</td>\n",
              "      <td>29.000000</td>\n",
              "      <td>0.000000</td>\n",
              "    </tr>\n",
              "    <tr>\n",
              "      <th>75%</th>\n",
              "      <td>6.000000</td>\n",
              "      <td>140.250000</td>\n",
              "      <td>80.000000</td>\n",
              "      <td>32.000000</td>\n",
              "      <td>127.250000</td>\n",
              "      <td>36.600000</td>\n",
              "      <td>0.626250</td>\n",
              "      <td>41.000000</td>\n",
              "      <td>1.000000</td>\n",
              "    </tr>\n",
              "    <tr>\n",
              "      <th>max</th>\n",
              "      <td>17.000000</td>\n",
              "      <td>199.000000</td>\n",
              "      <td>122.000000</td>\n",
              "      <td>99.000000</td>\n",
              "      <td>846.000000</td>\n",
              "      <td>67.100000</td>\n",
              "      <td>2.420000</td>\n",
              "      <td>81.000000</td>\n",
              "      <td>1.000000</td>\n",
              "    </tr>\n",
              "  </tbody>\n",
              "</table>\n",
              "</div>\n",
              "      <button class=\"colab-df-convert\" onclick=\"convertToInteractive('df-d3a8180f-9aa4-4b7a-b3e9-caad85db6747')\"\n",
              "              title=\"Convert this dataframe to an interactive table.\"\n",
              "              style=\"display:none;\">\n",
              "        \n",
              "  <svg xmlns=\"http://www.w3.org/2000/svg\" height=\"24px\"viewBox=\"0 0 24 24\"\n",
              "       width=\"24px\">\n",
              "    <path d=\"M0 0h24v24H0V0z\" fill=\"none\"/>\n",
              "    <path d=\"M18.56 5.44l.94 2.06.94-2.06 2.06-.94-2.06-.94-.94-2.06-.94 2.06-2.06.94zm-11 1L8.5 8.5l.94-2.06 2.06-.94-2.06-.94L8.5 2.5l-.94 2.06-2.06.94zm10 10l.94 2.06.94-2.06 2.06-.94-2.06-.94-.94-2.06-.94 2.06-2.06.94z\"/><path d=\"M17.41 7.96l-1.37-1.37c-.4-.4-.92-.59-1.43-.59-.52 0-1.04.2-1.43.59L10.3 9.45l-7.72 7.72c-.78.78-.78 2.05 0 2.83L4 21.41c.39.39.9.59 1.41.59.51 0 1.02-.2 1.41-.59l7.78-7.78 2.81-2.81c.8-.78.8-2.07 0-2.86zM5.41 20L4 18.59l7.72-7.72 1.47 1.35L5.41 20z\"/>\n",
              "  </svg>\n",
              "      </button>\n",
              "      \n",
              "  <style>\n",
              "    .colab-df-container {\n",
              "      display:flex;\n",
              "      flex-wrap:wrap;\n",
              "      gap: 12px;\n",
              "    }\n",
              "\n",
              "    .colab-df-convert {\n",
              "      background-color: #E8F0FE;\n",
              "      border: none;\n",
              "      border-radius: 50%;\n",
              "      cursor: pointer;\n",
              "      display: none;\n",
              "      fill: #1967D2;\n",
              "      height: 32px;\n",
              "      padding: 0 0 0 0;\n",
              "      width: 32px;\n",
              "    }\n",
              "\n",
              "    .colab-df-convert:hover {\n",
              "      background-color: #E2EBFA;\n",
              "      box-shadow: 0px 1px 2px rgba(60, 64, 67, 0.3), 0px 1px 3px 1px rgba(60, 64, 67, 0.15);\n",
              "      fill: #174EA6;\n",
              "    }\n",
              "\n",
              "    [theme=dark] .colab-df-convert {\n",
              "      background-color: #3B4455;\n",
              "      fill: #D2E3FC;\n",
              "    }\n",
              "\n",
              "    [theme=dark] .colab-df-convert:hover {\n",
              "      background-color: #434B5C;\n",
              "      box-shadow: 0px 1px 3px 1px rgba(0, 0, 0, 0.15);\n",
              "      filter: drop-shadow(0px 1px 2px rgba(0, 0, 0, 0.3));\n",
              "      fill: #FFFFFF;\n",
              "    }\n",
              "  </style>\n",
              "\n",
              "      <script>\n",
              "        const buttonEl =\n",
              "          document.querySelector('#df-d3a8180f-9aa4-4b7a-b3e9-caad85db6747 button.colab-df-convert');\n",
              "        buttonEl.style.display =\n",
              "          google.colab.kernel.accessAllowed ? 'block' : 'none';\n",
              "\n",
              "        async function convertToInteractive(key) {\n",
              "          const element = document.querySelector('#df-d3a8180f-9aa4-4b7a-b3e9-caad85db6747');\n",
              "          const dataTable =\n",
              "            await google.colab.kernel.invokeFunction('convertToInteractive',\n",
              "                                                     [key], {});\n",
              "          if (!dataTable) return;\n",
              "\n",
              "          const docLinkHtml = 'Like what you see? Visit the ' +\n",
              "            '<a target=\"_blank\" href=https://colab.research.google.com/notebooks/data_table.ipynb>data table notebook</a>'\n",
              "            + ' to learn more about interactive tables.';\n",
              "          element.innerHTML = '';\n",
              "          dataTable['output_type'] = 'display_data';\n",
              "          await google.colab.output.renderOutput(dataTable, element);\n",
              "          const docLink = document.createElement('div');\n",
              "          docLink.innerHTML = docLinkHtml;\n",
              "          element.appendChild(docLink);\n",
              "        }\n",
              "      </script>\n",
              "    </div>\n",
              "  </div>\n",
              "  "
            ],
            "text/plain": [
              "       Pregnancies     Glucose  ...         Age     Outcome\n",
              "count   768.000000  768.000000  ...  768.000000  768.000000\n",
              "mean      3.845052  120.894531  ...   33.240885    0.348958\n",
              "std       3.369578   31.972618  ...   11.760232    0.476951\n",
              "min       0.000000    0.000000  ...   21.000000    0.000000\n",
              "25%       1.000000   99.000000  ...   24.000000    0.000000\n",
              "50%       3.000000  117.000000  ...   29.000000    0.000000\n",
              "75%       6.000000  140.250000  ...   41.000000    1.000000\n",
              "max      17.000000  199.000000  ...   81.000000    1.000000\n",
              "\n",
              "[8 rows x 9 columns]"
            ]
          },
          "metadata": {},
          "execution_count": 8
        }
      ]
    },
    {
      "cell_type": "markdown",
      "source": [
        "Feature Engineering"
      ],
      "metadata": {
        "id": "hOnafi-Zg27q"
      }
    },
    {
      "cell_type": "code",
      "source": [
        "df.info()"
      ],
      "metadata": {
        "colab": {
          "base_uri": "https://localhost:8080/"
        },
        "id": "8SuCewkvg5Xk",
        "outputId": "7468957a-30d1-4109-c57e-b2c4c3ef713a"
      },
      "execution_count": 9,
      "outputs": [
        {
          "output_type": "stream",
          "name": "stdout",
          "text": [
            "<class 'pandas.core.frame.DataFrame'>\n",
            "RangeIndex: 768 entries, 0 to 767\n",
            "Data columns (total 9 columns):\n",
            " #   Column                    Non-Null Count  Dtype  \n",
            "---  ------                    --------------  -----  \n",
            " 0   Pregnancies               768 non-null    int64  \n",
            " 1   Glucose                   768 non-null    int64  \n",
            " 2   BloodPressure             768 non-null    int64  \n",
            " 3   SkinThickness             768 non-null    int64  \n",
            " 4   Insulin                   768 non-null    int64  \n",
            " 5   BMI                       768 non-null    float64\n",
            " 6   DiabetesPedigreeFunction  768 non-null    float64\n",
            " 7   Age                       768 non-null    int64  \n",
            " 8   Outcome                   768 non-null    int64  \n",
            "dtypes: float64(2), int64(7)\n",
            "memory usage: 54.1 KB\n"
          ]
        }
      ]
    },
    {
      "cell_type": "code",
      "source": [
        "df.Pregnancies.dtypes"
      ],
      "metadata": {
        "colab": {
          "base_uri": "https://localhost:8080/"
        },
        "id": "xrRqsdZ3g7M6",
        "outputId": "91041c70-af6e-452b-ac5b-7ba5f9f0c286"
      },
      "execution_count": 16,
      "outputs": [
        {
          "output_type": "execute_result",
          "data": {
            "text/plain": [
              "dtype('int64')"
            ]
          },
          "metadata": {},
          "execution_count": 16
        }
      ]
    },
    {
      "cell_type": "code",
      "source": [
        "def grab_col_names(dataframe, cat_th=3, car_th=10):\n",
        "    # cat_cols, cat_but_car\n",
        "    cat_cols = [col for col in dataframe.columns if dataframe[col].dtypes == \"O\"]\n",
        "    num_but_cat = [col for col in dataframe.columns if dataframe[col].nunique() < cat_th and\n",
        "                   dataframe[col].dtypes != \"O\"]\n",
        "    cat_but_car = [col for col in dataframe.columns if dataframe[col].nunique() > car_th and\n",
        "                   dataframe[col].dtypes == \"O\"]\n",
        "    cat_cols = cat_cols + num_but_cat\n",
        "    cat_cols = [col for col in cat_cols if col not in cat_but_car]\n",
        "\n",
        "    # num_cols\n",
        "    num_cols = [col for col in dataframe.columns if dataframe[col].dtypes != \"O\"]\n",
        "    num_cols = [col for col in num_cols if col not in num_but_cat]\n",
        "\n",
        "    print(f\"Observations: {dataframe.shape[0]}\")\n",
        "    print(f\"Variables: {dataframe.shape[1]}\")\n",
        "    print(f'cat_cols: {len(cat_cols)}')\n",
        "    print(f'num_cols: {len(num_cols)}')\n",
        "    print(f'cat_but_car: {len(cat_but_car)}')\n",
        "    print(f'num_but_cat: {len(num_but_cat)}')\n",
        "    return cat_cols, num_cols, cat_but_car\n",
        "cat_cols, num_cols, cat_but_car = grab_col_names(df)"
      ],
      "metadata": {
        "colab": {
          "base_uri": "https://localhost:8080/"
        },
        "id": "MzU2J73Hg_YI",
        "outputId": "a9843b36-9351-4083-9253-58021f354f4c"
      },
      "execution_count": 24,
      "outputs": [
        {
          "output_type": "stream",
          "name": "stdout",
          "text": [
            "Observations: 768\n",
            "Variables: 14\n",
            "cat_cols: 1\n",
            "num_cols: 13\n",
            "cat_but_car: 0\n",
            "num_but_cat: 1\n"
          ]
        }
      ]
    },
    {
      "cell_type": "code",
      "source": [
        "def check_outlier(dataframe, col_name):\n",
        "    low_limit, up_limit = outlier_thresholds(dataframe, col_name)\n",
        "    if dataframe[(dataframe[col_name] > up_limit) | (dataframe[col_name] < low_limit)].any(axis=None):\n",
        "        return True\n",
        "    else:\n",
        "        return False"
      ],
      "metadata": {
        "id": "KCspZ6RSkRA6"
      },
      "execution_count": 9,
      "outputs": []
    },
    {
      "cell_type": "code",
      "source": [
        "def outlier_thresholds(dataframe, col_name, q1=0.05, q3=0.95):\n",
        "    quartile1 = dataframe[col_name].quantile(q1)\n",
        "    quartile3 = dataframe[col_name].quantile(q3)\n",
        "    interquantile_range = quartile3 - quartile1\n",
        "    up_limit = quartile3 + 1.5 * interquantile_range\n",
        "    low_limit = quartile1 - 1.5 * interquantile_range\n",
        "    return low_limit, up_limit"
      ],
      "metadata": {
        "id": "6prpMK2Tkb3k"
      },
      "execution_count": 10,
      "outputs": []
    },
    {
      "cell_type": "code",
      "source": [
        "for col in num_cols:\n",
        "    print(col, check_outlier(df, col))"
      ],
      "metadata": {
        "colab": {
          "base_uri": "https://localhost:8080/"
        },
        "id": "GLAdvORPkeXd",
        "outputId": "7d29b587-5aff-4624-a2b6-ba711a4e6797"
      },
      "execution_count": 69,
      "outputs": [
        {
          "output_type": "stream",
          "name": "stdout",
          "text": [
            "Pregnancies False\n",
            "Glucose False\n",
            "BloodPressure False\n",
            "SkinThickness False\n",
            "Insulin True\n",
            "BMI False\n",
            "DiabetesPedigreeFunction False\n",
            "Age False\n"
          ]
        }
      ]
    },
    {
      "cell_type": "code",
      "source": [
        "low, up = outlier_thresholds(df, \"Insulin\")\n",
        "df[((df[\"Insulin\"] < low) | (df[\"Insulin\"] > up))].shape"
      ],
      "metadata": {
        "colab": {
          "base_uri": "https://localhost:8080/"
        },
        "id": "7iGF5zPvkiAa",
        "outputId": "7d7f5d1d-90e5-48ff-8418-625ddd2649fe"
      },
      "execution_count": 70,
      "outputs": [
        {
          "output_type": "execute_result",
          "data": {
            "text/plain": [
              "(2, 9)"
            ]
          },
          "metadata": {},
          "execution_count": 70
        }
      ]
    },
    {
      "cell_type": "code",
      "source": [
        "df[((df[\"Insulin\"] < low) | (df[\"Insulin\"] > up))]"
      ],
      "metadata": {
        "colab": {
          "base_uri": "https://localhost:8080/",
          "height": 112
        },
        "id": "bllIX6_CrHbT",
        "outputId": "fb8688f2-15e8-4196-e504-9f0866e84b6c"
      },
      "execution_count": 71,
      "outputs": [
        {
          "output_type": "execute_result",
          "data": {
            "text/html": [
              "\n",
              "  <div id=\"df-1f4a2201-6ba4-4db2-8ae8-ff36b9db4bbb\">\n",
              "    <div class=\"colab-df-container\">\n",
              "      <div>\n",
              "<style scoped>\n",
              "    .dataframe tbody tr th:only-of-type {\n",
              "        vertical-align: middle;\n",
              "    }\n",
              "\n",
              "    .dataframe tbody tr th {\n",
              "        vertical-align: top;\n",
              "    }\n",
              "\n",
              "    .dataframe thead th {\n",
              "        text-align: right;\n",
              "    }\n",
              "</style>\n",
              "<table border=\"1\" class=\"dataframe\">\n",
              "  <thead>\n",
              "    <tr style=\"text-align: right;\">\n",
              "      <th></th>\n",
              "      <th>Pregnancies</th>\n",
              "      <th>Glucose</th>\n",
              "      <th>BloodPressure</th>\n",
              "      <th>SkinThickness</th>\n",
              "      <th>Insulin</th>\n",
              "      <th>BMI</th>\n",
              "      <th>DiabetesPedigreeFunction</th>\n",
              "      <th>Age</th>\n",
              "      <th>Outcome</th>\n",
              "    </tr>\n",
              "  </thead>\n",
              "  <tbody>\n",
              "    <tr>\n",
              "      <th>13</th>\n",
              "      <td>1</td>\n",
              "      <td>189</td>\n",
              "      <td>60</td>\n",
              "      <td>23</td>\n",
              "      <td>846</td>\n",
              "      <td>30.1</td>\n",
              "      <td>0.398</td>\n",
              "      <td>59</td>\n",
              "      <td>1</td>\n",
              "    </tr>\n",
              "    <tr>\n",
              "      <th>228</th>\n",
              "      <td>4</td>\n",
              "      <td>197</td>\n",
              "      <td>70</td>\n",
              "      <td>39</td>\n",
              "      <td>744</td>\n",
              "      <td>36.7</td>\n",
              "      <td>2.329</td>\n",
              "      <td>31</td>\n",
              "      <td>0</td>\n",
              "    </tr>\n",
              "  </tbody>\n",
              "</table>\n",
              "</div>\n",
              "      <button class=\"colab-df-convert\" onclick=\"convertToInteractive('df-1f4a2201-6ba4-4db2-8ae8-ff36b9db4bbb')\"\n",
              "              title=\"Convert this dataframe to an interactive table.\"\n",
              "              style=\"display:none;\">\n",
              "        \n",
              "  <svg xmlns=\"http://www.w3.org/2000/svg\" height=\"24px\"viewBox=\"0 0 24 24\"\n",
              "       width=\"24px\">\n",
              "    <path d=\"M0 0h24v24H0V0z\" fill=\"none\"/>\n",
              "    <path d=\"M18.56 5.44l.94 2.06.94-2.06 2.06-.94-2.06-.94-.94-2.06-.94 2.06-2.06.94zm-11 1L8.5 8.5l.94-2.06 2.06-.94-2.06-.94L8.5 2.5l-.94 2.06-2.06.94zm10 10l.94 2.06.94-2.06 2.06-.94-2.06-.94-.94-2.06-.94 2.06-2.06.94z\"/><path d=\"M17.41 7.96l-1.37-1.37c-.4-.4-.92-.59-1.43-.59-.52 0-1.04.2-1.43.59L10.3 9.45l-7.72 7.72c-.78.78-.78 2.05 0 2.83L4 21.41c.39.39.9.59 1.41.59.51 0 1.02-.2 1.41-.59l7.78-7.78 2.81-2.81c.8-.78.8-2.07 0-2.86zM5.41 20L4 18.59l7.72-7.72 1.47 1.35L5.41 20z\"/>\n",
              "  </svg>\n",
              "      </button>\n",
              "      \n",
              "  <style>\n",
              "    .colab-df-container {\n",
              "      display:flex;\n",
              "      flex-wrap:wrap;\n",
              "      gap: 12px;\n",
              "    }\n",
              "\n",
              "    .colab-df-convert {\n",
              "      background-color: #E8F0FE;\n",
              "      border: none;\n",
              "      border-radius: 50%;\n",
              "      cursor: pointer;\n",
              "      display: none;\n",
              "      fill: #1967D2;\n",
              "      height: 32px;\n",
              "      padding: 0 0 0 0;\n",
              "      width: 32px;\n",
              "    }\n",
              "\n",
              "    .colab-df-convert:hover {\n",
              "      background-color: #E2EBFA;\n",
              "      box-shadow: 0px 1px 2px rgba(60, 64, 67, 0.3), 0px 1px 3px 1px rgba(60, 64, 67, 0.15);\n",
              "      fill: #174EA6;\n",
              "    }\n",
              "\n",
              "    [theme=dark] .colab-df-convert {\n",
              "      background-color: #3B4455;\n",
              "      fill: #D2E3FC;\n",
              "    }\n",
              "\n",
              "    [theme=dark] .colab-df-convert:hover {\n",
              "      background-color: #434B5C;\n",
              "      box-shadow: 0px 1px 3px 1px rgba(0, 0, 0, 0.15);\n",
              "      filter: drop-shadow(0px 1px 2px rgba(0, 0, 0, 0.3));\n",
              "      fill: #FFFFFF;\n",
              "    }\n",
              "  </style>\n",
              "\n",
              "      <script>\n",
              "        const buttonEl =\n",
              "          document.querySelector('#df-1f4a2201-6ba4-4db2-8ae8-ff36b9db4bbb button.colab-df-convert');\n",
              "        buttonEl.style.display =\n",
              "          google.colab.kernel.accessAllowed ? 'block' : 'none';\n",
              "\n",
              "        async function convertToInteractive(key) {\n",
              "          const element = document.querySelector('#df-1f4a2201-6ba4-4db2-8ae8-ff36b9db4bbb');\n",
              "          const dataTable =\n",
              "            await google.colab.kernel.invokeFunction('convertToInteractive',\n",
              "                                                     [key], {});\n",
              "          if (!dataTable) return;\n",
              "\n",
              "          const docLinkHtml = 'Like what you see? Visit the ' +\n",
              "            '<a target=\"_blank\" href=https://colab.research.google.com/notebooks/data_table.ipynb>data table notebook</a>'\n",
              "            + ' to learn more about interactive tables.';\n",
              "          element.innerHTML = '';\n",
              "          dataTable['output_type'] = 'display_data';\n",
              "          await google.colab.output.renderOutput(dataTable, element);\n",
              "          const docLink = document.createElement('div');\n",
              "          docLink.innerHTML = docLinkHtml;\n",
              "          element.appendChild(docLink);\n",
              "        }\n",
              "      </script>\n",
              "    </div>\n",
              "  </div>\n",
              "  "
            ],
            "text/plain": [
              "     Pregnancies  Glucose  ...  Age  Outcome\n",
              "13             1      189  ...   59        1\n",
              "228            4      197  ...   31        0\n",
              "\n",
              "[2 rows x 9 columns]"
            ]
          },
          "metadata": {},
          "execution_count": 71
        }
      ]
    },
    {
      "cell_type": "code",
      "source": [
        "clf = LocalOutlierFactor(n_neighbors=20)\n",
        "clf.fit_predict(df)"
      ],
      "metadata": {
        "id": "_bYvaNu7mHLd"
      },
      "execution_count": null,
      "outputs": []
    },
    {
      "cell_type": "code",
      "source": [
        "df_scores = clf.negative_outlier_factor_\n",
        "scores = pd.DataFrame(np.sort(df_scores))\n",
        "scores.plot(stacked=True, xlim=[0, 20], style='.-')\n",
        "plt.show()"
      ],
      "metadata": {
        "colab": {
          "base_uri": "https://localhost:8080/",
          "height": 268
        },
        "id": "GC_C1d3ukrNX",
        "outputId": "ca3b99b7-8f91-4d41-cd23-36c715fecada"
      },
      "execution_count": 73,
      "outputs": [
        {
          "output_type": "display_data",
          "data": {
            "image/png": "[encoded data removed]",
            "text/plain": [
              "<Figure size 432x288 with 1 Axes>"
            ]
          },
          "metadata": {}
        }
      ]
    },
    {
      "cell_type": "code",
      "source": [
        "sns.set_theme(style=\"whitegrid\")\n",
        "sns.boxplot(data=df, orient=\"h\", palette=\"Set2\")\n",
        "plt.show()"
      ],
      "metadata": {
        "colab": {
          "base_uri": "https://localhost:8080/",
          "height": 268
        },
        "id": "_K5LT8U8p_4j",
        "outputId": "39112879-cec6-4643-aff8-31bb577b1867"
      },
      "execution_count": 74,
      "outputs": [
        {
          "output_type": "display_data",
          "data": {
            "image/png": "[encoded data removed]",
            "text/plain": [
              "<Figure size 432x288 with 1 Axes>"
            ]
          },
          "metadata": {}
        }
      ]
    },
    {
      "cell_type": "code",
      "source": [
        "def replace_with_thresholds(dataframe, variable):\n",
        "    low_limit, up_limit = outlier_thresholds(dataframe, variable)\n",
        "    dataframe.loc[(dataframe[variable] < low_limit), variable] = low_limit\n",
        "    dataframe.loc[(dataframe[variable] > up_limit), variable] = up_limit"
      ],
      "metadata": {
        "id": "Cc7OE9onn465"
      },
      "execution_count": 11,
      "outputs": []
    },
    {
      "cell_type": "code",
      "source": [
        "for i in df.columns:\n",
        " low, up = outlier_thresholds(df, i)\n",
        " if ((df[i] < low) | (df[i] > up)).any():\n",
        "      print(f\"\\nIndices: {df[(df[i] < low) | (df[i] > up)].index}\\n\")\n",
        "      print(df[(df[i] < low) | (df[i] > up)].head())\n",
        "      replace_with_thresholds(df,i)\n"
      ],
      "metadata": {
        "colab": {
          "base_uri": "https://localhost:8080/"
        },
        "id": "tlkmisINq9IR",
        "outputId": "ba24dfce-6a35-4d4d-bed8-a4904433ea45"
      },
      "execution_count": 12,
      "outputs": [
        {
          "output_type": "stream",
          "name": "stdout",
          "text": [
            "\n",
            "Indices: Int64Index([13, 228], dtype='int64')\n",
            "\n",
            "     Pregnancies  Glucose  ...  Age  Outcome\n",
            "13             1      189  ...   59        1\n",
            "228            4      197  ...   31        0\n",
            "\n",
            "[2 rows x 9 columns]\n"
          ]
        }
      ]
    },
    {
      "cell_type": "code",
      "source": [
        "outlier_thresholds(df, \"Insulin\")"
      ],
      "metadata": {
        "colab": {
          "base_uri": "https://localhost:8080/"
        },
        "id": "ZVz0zUz4rQom",
        "outputId": "79d97f24-d045-40db-cfd8-e4bedc6c16c5"
      },
      "execution_count": 77,
      "outputs": [
        {
          "output_type": "execute_result",
          "data": {
            "text/plain": [
              "(-34.5, 113.5)"
            ]
          },
          "metadata": {},
          "execution_count": 77
        }
      ]
    },
    {
      "cell_type": "code",
      "source": [
        "low, up = outlier_thresholds(df, \"Insulin\")\n",
        "\n",
        "df[(df[\"Insulin\"] < low) | (df[\"Insulin\"] > up)].head()"
      ],
      "metadata": {
        "colab": {
          "base_uri": "https://localhost:8080/",
          "height": 49
        },
        "id": "nmHOQfUOoUpS",
        "outputId": "3036d807-ac81-43bf-c550-258b4c995061"
      },
      "execution_count": 79,
      "outputs": [
        {
          "output_type": "execute_result",
          "data": {
            "text/html": [
              "\n",
              "  <div id=\"df-3aea0689-c7f3-49e7-b4fa-b3df6ab46001\">\n",
              "    <div class=\"colab-df-container\">\n",
              "      <div>\n",
              "<style scoped>\n",
              "    .dataframe tbody tr th:only-of-type {\n",
              "        vertical-align: middle;\n",
              "    }\n",
              "\n",
              "    .dataframe tbody tr th {\n",
              "        vertical-align: top;\n",
              "    }\n",
              "\n",
              "    .dataframe thead th {\n",
              "        text-align: right;\n",
              "    }\n",
              "</style>\n",
              "<table border=\"1\" class=\"dataframe\">\n",
              "  <thead>\n",
              "    <tr style=\"text-align: right;\">\n",
              "      <th></th>\n",
              "      <th>Pregnancies</th>\n",
              "      <th>Glucose</th>\n",
              "      <th>BloodPressure</th>\n",
              "      <th>SkinThickness</th>\n",
              "      <th>Insulin</th>\n",
              "      <th>BMI</th>\n",
              "      <th>DiabetesPedigreeFunction</th>\n",
              "      <th>Age</th>\n",
              "      <th>Outcome</th>\n",
              "    </tr>\n",
              "  </thead>\n",
              "  <tbody>\n",
              "  </tbody>\n",
              "</table>\n",
              "</div>\n",
              "      <button class=\"colab-df-convert\" onclick=\"convertToInteractive('df-3aea0689-c7f3-49e7-b4fa-b3df6ab46001')\"\n",
              "              title=\"Convert this dataframe to an interactive table.\"\n",
              "              style=\"display:none;\">\n",
              "        \n",
              "  <svg xmlns=\"http://www.w3.org/2000/svg\" height=\"24px\"viewBox=\"0 0 24 24\"\n",
              "       width=\"24px\">\n",
              "    <path d=\"M0 0h24v24H0V0z\" fill=\"none\"/>\n",
              "    <path d=\"M18.56 5.44l.94 2.06.94-2.06 2.06-.94-2.06-.94-.94-2.06-.94 2.06-2.06.94zm-11 1L8.5 8.5l.94-2.06 2.06-.94-2.06-.94L8.5 2.5l-.94 2.06-2.06.94zm10 10l.94 2.06.94-2.06 2.06-.94-2.06-.94-.94-2.06-.94 2.06-2.06.94z\"/><path d=\"M17.41 7.96l-1.37-1.37c-.4-.4-.92-.59-1.43-.59-.52 0-1.04.2-1.43.59L10.3 9.45l-7.72 7.72c-.78.78-.78 2.05 0 2.83L4 21.41c.39.39.9.59 1.41.59.51 0 1.02-.2 1.41-.59l7.78-7.78 2.81-2.81c.8-.78.8-2.07 0-2.86zM5.41 20L4 18.59l7.72-7.72 1.47 1.35L5.41 20z\"/>\n",
              "  </svg>\n",
              "      </button>\n",
              "      \n",
              "  <style>\n",
              "    .colab-df-container {\n",
              "      display:flex;\n",
              "      flex-wrap:wrap;\n",
              "      gap: 12px;\n",
              "    }\n",
              "\n",
              "    .colab-df-convert {\n",
              "      background-color: #E8F0FE;\n",
              "      border: none;\n",
              "      border-radius: 50%;\n",
              "      cursor: pointer;\n",
              "      display: none;\n",
              "      fill: #1967D2;\n",
              "      height: 32px;\n",
              "      padding: 0 0 0 0;\n",
              "      width: 32px;\n",
              "    }\n",
              "\n",
              "    .colab-df-convert:hover {\n",
              "      background-color: #E2EBFA;\n",
              "      box-shadow: 0px 1px 2px rgba(60, 64, 67, 0.3), 0px 1px 3px 1px rgba(60, 64, 67, 0.15);\n",
              "      fill: #174EA6;\n",
              "    }\n",
              "\n",
              "    [theme=dark] .colab-df-convert {\n",
              "      background-color: #3B4455;\n",
              "      fill: #D2E3FC;\n",
              "    }\n",
              "\n",
              "    [theme=dark] .colab-df-convert:hover {\n",
              "      background-color: #434B5C;\n",
              "      box-shadow: 0px 1px 3px 1px rgba(0, 0, 0, 0.15);\n",
              "      filter: drop-shadow(0px 1px 2px rgba(0, 0, 0, 0.3));\n",
              "      fill: #FFFFFF;\n",
              "    }\n",
              "  </style>\n",
              "\n",
              "      <script>\n",
              "        const buttonEl =\n",
              "          document.querySelector('#df-3aea0689-c7f3-49e7-b4fa-b3df6ab46001 button.colab-df-convert');\n",
              "        buttonEl.style.display =\n",
              "          google.colab.kernel.accessAllowed ? 'block' : 'none';\n",
              "\n",
              "        async function convertToInteractive(key) {\n",
              "          const element = document.querySelector('#df-3aea0689-c7f3-49e7-b4fa-b3df6ab46001');\n",
              "          const dataTable =\n",
              "            await google.colab.kernel.invokeFunction('convertToInteractive',\n",
              "                                                     [key], {});\n",
              "          if (!dataTable) return;\n",
              "\n",
              "          const docLinkHtml = 'Like what you see? Visit the ' +\n",
              "            '<a target=\"_blank\" href=https://colab.research.google.com/notebooks/data_table.ipynb>data table notebook</a>'\n",
              "            + ' to learn more about interactive tables.';\n",
              "          element.innerHTML = '';\n",
              "          dataTable['output_type'] = 'display_data';\n",
              "          await google.colab.output.renderOutput(dataTable, element);\n",
              "          const docLink = document.createElement('div');\n",
              "          docLink.innerHTML = docLinkHtml;\n",
              "          element.appendChild(docLink);\n",
              "        }\n",
              "      </script>\n",
              "    </div>\n",
              "  </div>\n",
              "  "
            ],
            "text/plain": [
              "Empty DataFrame\n",
              "Columns: [Pregnancies, Glucose, BloodPressure, SkinThickness, Insulin, BMI, DiabetesPedigreeFunction, Age, Outcome]\n",
              "Index: []"
            ]
          },
          "metadata": {},
          "execution_count": 79
        }
      ]
    },
    {
      "cell_type": "code",
      "source": [
        "check_outlier(df, \"Insulin\")"
      ],
      "metadata": {
        "colab": {
          "base_uri": "https://localhost:8080/"
        },
        "id": "vgQBO-kUo2IQ",
        "outputId": "11723959-f940-483e-9ef2-f8730972c01d"
      },
      "execution_count": 81,
      "outputs": [
        {
          "output_type": "execute_result",
          "data": {
            "text/plain": [
              "False"
            ]
          },
          "metadata": {},
          "execution_count": 81
        }
      ]
    },
    {
      "cell_type": "code",
      "source": [
        "sns.set_theme(style=\"whitegrid\")\n",
        "sns.boxplot(data=df, orient=\"h\", palette=\"Set2\")\n",
        "plt.show()"
      ],
      "metadata": {
        "colab": {
          "base_uri": "https://localhost:8080/",
          "height": 268
        },
        "id": "PZBfPUJVqJ4E",
        "outputId": "ccdb0912-ab6a-48ec-b97f-72d328428c9b"
      },
      "execution_count": 61,
      "outputs": [
        {
          "output_type": "display_data",
          "data": {
            "image/png": "[encoded data removed]",
            "text/plain": [
              "<Figure size 432x288 with 1 Axes>"
            ]
          },
          "metadata": {}
        }
      ]
    },
    {
      "cell_type": "code",
      "source": [
        "df.isnull().values.any()"
      ],
      "metadata": {
        "colab": {
          "base_uri": "https://localhost:8080/"
        },
        "id": "rnfQ9toOo4qR",
        "outputId": "4842e5be-2e33-4aed-8a7b-f413c661d91a"
      },
      "execution_count": 82,
      "outputs": [
        {
          "output_type": "execute_result",
          "data": {
            "text/plain": [
              "False"
            ]
          },
          "metadata": {},
          "execution_count": 82
        }
      ]
    },
    {
      "cell_type": "code",
      "source": [
        "for col in num_cols:\n",
        "    print(col, outlier_thresholds(df, col))"
      ],
      "metadata": {
        "colab": {
          "base_uri": "https://localhost:8080/"
        },
        "id": "UhTJwJlVpB_I",
        "outputId": "400e9eb4-13b1-4b4c-e814-40f7ea4b31e4"
      },
      "execution_count": 83,
      "outputs": [
        {
          "output_type": "stream",
          "name": "stdout",
          "text": [
            "Pregnancies (-15.0, 25.0)\n",
            "Glucose (-74.0, 334.0)\n",
            "BloodPressure (-38.249999999999986, 166.95)\n",
            "SkinThickness (-66.0, 110.0)\n",
            "Insulin (-439.5, 732.5)\n",
            "BMI (-12.09249999999999, 78.2875)\n",
            "DiabetesPedigreeFunction (-1.3483999999999996, 2.621599999999999)\n",
            "Age (-34.5, 113.5)\n"
          ]
        }
      ]
    },
    {
      "cell_type": "code",
      "source": [
        "def missing_values_table(dataframe, na_name=False):\n",
        "    na_columns = [col for col in dataframe.columns if dataframe[col].isnull().sum() > 0]\n",
        "\n",
        "    n_miss = dataframe[na_columns].isnull().sum().sort_values(ascending=False)\n",
        "    ratio = (dataframe[na_columns].isnull().sum() / dataframe.shape[0] * 100).sort_values(ascending=False)\n",
        "    missing_df = pd.concat([n_miss, np.round(ratio, 2)], axis=1, keys=['n_miss', 'ratio'])\n",
        "    print(missing_df, end=\"\\n\")\n",
        "\n",
        "    if na_name:\n",
        "        return na_columns\n",
        "missing_values_table(df)"
      ],
      "metadata": {
        "colab": {
          "base_uri": "https://localhost:8080/"
        },
        "id": "piRHH5SipI5Z",
        "outputId": "80b6fc8b-6779-4e93-8fdd-0399e429dd7b"
      },
      "execution_count": 13,
      "outputs": [
        {
          "output_type": "stream",
          "name": "stdout",
          "text": [
            "Empty DataFrame\n",
            "Columns: [n_miss, ratio]\n",
            "Index: []\n"
          ]
        }
      ]
    },
    {
      "cell_type": "code",
      "source": [
        "plt.figure(figsize=(10,10))\n",
        "sns.heatmap(df.corr(),annot=True)"
      ],
      "metadata": {
        "colab": {
          "base_uri": "https://localhost:8080/",
          "height": 750
        },
        "id": "_ORgBhl8rxpU",
        "outputId": "8c262ee7-d7fd-4599-c1b2-c92e95bdab81"
      },
      "execution_count": 85,
      "outputs": [
        {
          "output_type": "execute_result",
          "data": {
            "text/plain": [
              "<matplotlib.axes._subplots.AxesSubplot at 0x7f6eff9d7cd0>"
            ]
          },
          "metadata": {},
          "execution_count": 85
        },
        {
          "output_type": "display_data",
          "data": {
            "image/png": "[encoded data removed]",
            "text/plain": [
              "<Figure size 720x720 with 2 Axes>"
            ]
          },
          "metadata": {}
        }
      ]
    },
    {
      "cell_type": "code",
      "source": [
        "# heatmap\n",
        "import missingno as msno\n",
        "msno.heatmap(df)\n",
        "plt.show()"
      ],
      "metadata": {
        "colab": {
          "base_uri": "https://localhost:8080/",
          "height": 762
        },
        "id": "dojVAHOvr7IE",
        "outputId": "449c445d-fe88-4459-b001-16d4391cdc23"
      },
      "execution_count": 87,
      "outputs": [
        {
          "output_type": "stream",
          "name": "stderr",
          "text": [
            "/usr/local/lib/python3.7/dist-packages/seaborn/matrix.py:305: UserWarning: Attempting to set identical bottom == top == 0 results in singular transformations; automatically expanding.\n",
            "  ax.set(xlim=(0, self.data.shape[1]), ylim=(0, self.data.shape[0]))\n",
            "/usr/local/lib/python3.7/dist-packages/seaborn/matrix.py:305: UserWarning: Attempting to set identical left == right == 0 results in singular transformations; automatically expanding.\n",
            "  ax.set(xlim=(0, self.data.shape[1]), ylim=(0, self.data.shape[0]))\n"
          ]
        },
        {
          "output_type": "display_data",
          "data": {
            "image/png": "[encoded data removed]",
            "text/plain": [
              "<Figure size 1440x864 with 2 Axes>"
            ]
          },
          "metadata": {}
        }
      ]
    },
    {
      "cell_type": "code",
      "source": [
        "# NaN assignment operations with values of 0\n",
        "df[\"Glucose\"].replace({0:np.nan},inplace=True)\n",
        "df[\"BloodPressure\"].replace({0:np.nan},inplace=True)\n",
        "df[\"SkinThickness\"].replace({0:np.nan},inplace=True)\n",
        "df[\"Insulin\"].replace({0:np.nan},inplace=True)\n",
        "df[\"BMI\"].replace({0:np.nan},inplace=True)\n",
        "df[\"Age\"].replace({0:np.nan},inplace=True)"
      ],
      "metadata": {
        "id": "EowIajjqsXAK"
      },
      "execution_count": 14,
      "outputs": []
    },
    {
      "cell_type": "code",
      "source": [
        "df.head()"
      ],
      "metadata": {
        "colab": {
          "base_uri": "https://localhost:8080/",
          "height": 206
        },
        "id": "crpuUoYstFRi",
        "outputId": "7fab025a-0b1f-476f-b61a-3fc152288b40"
      },
      "execution_count": 89,
      "outputs": [
        {
          "output_type": "execute_result",
          "data": {
            "text/html": [
              "\n",
              "  <div id=\"df-bb33415e-f6d8-401c-ab8f-9b12004ef660\">\n",
              "    <div class=\"colab-df-container\">\n",
              "      <div>\n",
              "<style scoped>\n",
              "    .dataframe tbody tr th:only-of-type {\n",
              "        vertical-align: middle;\n",
              "    }\n",
              "\n",
              "    .dataframe tbody tr th {\n",
              "        vertical-align: top;\n",
              "    }\n",
              "\n",
              "    .dataframe thead th {\n",
              "        text-align: right;\n",
              "    }\n",
              "</style>\n",
              "<table border=\"1\" class=\"dataframe\">\n",
              "  <thead>\n",
              "    <tr style=\"text-align: right;\">\n",
              "      <th></th>\n",
              "      <th>Pregnancies</th>\n",
              "      <th>Glucose</th>\n",
              "      <th>BloodPressure</th>\n",
              "      <th>SkinThickness</th>\n",
              "      <th>Insulin</th>\n",
              "      <th>BMI</th>\n",
              "      <th>DiabetesPedigreeFunction</th>\n",
              "      <th>Age</th>\n",
              "      <th>Outcome</th>\n",
              "    </tr>\n",
              "  </thead>\n",
              "  <tbody>\n",
              "    <tr>\n",
              "      <th>0</th>\n",
              "      <td>6</td>\n",
              "      <td>148.0</td>\n",
              "      <td>72.0</td>\n",
              "      <td>35.0</td>\n",
              "      <td>NaN</td>\n",
              "      <td>33.6</td>\n",
              "      <td>0.627</td>\n",
              "      <td>50</td>\n",
              "      <td>1</td>\n",
              "    </tr>\n",
              "    <tr>\n",
              "      <th>1</th>\n",
              "      <td>1</td>\n",
              "      <td>85.0</td>\n",
              "      <td>66.0</td>\n",
              "      <td>29.0</td>\n",
              "      <td>NaN</td>\n",
              "      <td>26.6</td>\n",
              "      <td>0.351</td>\n",
              "      <td>31</td>\n",
              "      <td>0</td>\n",
              "    </tr>\n",
              "    <tr>\n",
              "      <th>2</th>\n",
              "      <td>8</td>\n",
              "      <td>183.0</td>\n",
              "      <td>64.0</td>\n",
              "      <td>NaN</td>\n",
              "      <td>NaN</td>\n",
              "      <td>23.3</td>\n",
              "      <td>0.672</td>\n",
              "      <td>32</td>\n",
              "      <td>1</td>\n",
              "    </tr>\n",
              "    <tr>\n",
              "      <th>3</th>\n",
              "      <td>1</td>\n",
              "      <td>89.0</td>\n",
              "      <td>66.0</td>\n",
              "      <td>23.0</td>\n",
              "      <td>94.0</td>\n",
              "      <td>28.1</td>\n",
              "      <td>0.167</td>\n",
              "      <td>21</td>\n",
              "      <td>0</td>\n",
              "    </tr>\n",
              "    <tr>\n",
              "      <th>4</th>\n",
              "      <td>0</td>\n",
              "      <td>137.0</td>\n",
              "      <td>40.0</td>\n",
              "      <td>35.0</td>\n",
              "      <td>168.0</td>\n",
              "      <td>43.1</td>\n",
              "      <td>2.288</td>\n",
              "      <td>33</td>\n",
              "      <td>1</td>\n",
              "    </tr>\n",
              "  </tbody>\n",
              "</table>\n",
              "</div>\n",
              "      <button class=\"colab-df-convert\" onclick=\"convertToInteractive('df-bb33415e-f6d8-401c-ab8f-9b12004ef660')\"\n",
              "              title=\"Convert this dataframe to an interactive table.\"\n",
              "              style=\"display:none;\">\n",
              "        \n",
              "  <svg xmlns=\"http://www.w3.org/2000/svg\" height=\"24px\"viewBox=\"0 0 24 24\"\n",
              "       width=\"24px\">\n",
              "    <path d=\"M0 0h24v24H0V0z\" fill=\"none\"/>\n",
              "    <path d=\"M18.56 5.44l.94 2.06.94-2.06 2.06-.94-2.06-.94-.94-2.06-.94 2.06-2.06.94zm-11 1L8.5 8.5l.94-2.06 2.06-.94-2.06-.94L8.5 2.5l-.94 2.06-2.06.94zm10 10l.94 2.06.94-2.06 2.06-.94-2.06-.94-.94-2.06-.94 2.06-2.06.94z\"/><path d=\"M17.41 7.96l-1.37-1.37c-.4-.4-.92-.59-1.43-.59-.52 0-1.04.2-1.43.59L10.3 9.45l-7.72 7.72c-.78.78-.78 2.05 0 2.83L4 21.41c.39.39.9.59 1.41.59.51 0 1.02-.2 1.41-.59l7.78-7.78 2.81-2.81c.8-.78.8-2.07 0-2.86zM5.41 20L4 18.59l7.72-7.72 1.47 1.35L5.41 20z\"/>\n",
              "  </svg>\n",
              "      </button>\n",
              "      \n",
              "  <style>\n",
              "    .colab-df-container {\n",
              "      display:flex;\n",
              "      flex-wrap:wrap;\n",
              "      gap: 12px;\n",
              "    }\n",
              "\n",
              "    .colab-df-convert {\n",
              "      background-color: #E8F0FE;\n",
              "      border: none;\n",
              "      border-radius: 50%;\n",
              "      cursor: pointer;\n",
              "      display: none;\n",
              "      fill: #1967D2;\n",
              "      height: 32px;\n",
              "      padding: 0 0 0 0;\n",
              "      width: 32px;\n",
              "    }\n",
              "\n",
              "    .colab-df-convert:hover {\n",
              "      background-color: #E2EBFA;\n",
              "      box-shadow: 0px 1px 2px rgba(60, 64, 67, 0.3), 0px 1px 3px 1px rgba(60, 64, 67, 0.15);\n",
              "      fill: #174EA6;\n",
              "    }\n",
              "\n",
              "    [theme=dark] .colab-df-convert {\n",
              "      background-color: #3B4455;\n",
              "      fill: #D2E3FC;\n",
              "    }\n",
              "\n",
              "    [theme=dark] .colab-df-convert:hover {\n",
              "      background-color: #434B5C;\n",
              "      box-shadow: 0px 1px 3px 1px rgba(0, 0, 0, 0.15);\n",
              "      filter: drop-shadow(0px 1px 2px rgba(0, 0, 0, 0.3));\n",
              "      fill: #FFFFFF;\n",
              "    }\n",
              "  </style>\n",
              "\n",
              "      <script>\n",
              "        const buttonEl =\n",
              "          document.querySelector('#df-bb33415e-f6d8-401c-ab8f-9b12004ef660 button.colab-df-convert');\n",
              "        buttonEl.style.display =\n",
              "          google.colab.kernel.accessAllowed ? 'block' : 'none';\n",
              "\n",
              "        async function convertToInteractive(key) {\n",
              "          const element = document.querySelector('#df-bb33415e-f6d8-401c-ab8f-9b12004ef660');\n",
              "          const dataTable =\n",
              "            await google.colab.kernel.invokeFunction('convertToInteractive',\n",
              "                                                     [key], {});\n",
              "          if (!dataTable) return;\n",
              "\n",
              "          const docLinkHtml = 'Like what you see? Visit the ' +\n",
              "            '<a target=\"_blank\" href=https://colab.research.google.com/notebooks/data_table.ipynb>data table notebook</a>'\n",
              "            + ' to learn more about interactive tables.';\n",
              "          element.innerHTML = '';\n",
              "          dataTable['output_type'] = 'display_data';\n",
              "          await google.colab.output.renderOutput(dataTable, element);\n",
              "          const docLink = document.createElement('div');\n",
              "          docLink.innerHTML = docLinkHtml;\n",
              "          element.appendChild(docLink);\n",
              "        }\n",
              "      </script>\n",
              "    </div>\n",
              "  </div>\n",
              "  "
            ],
            "text/plain": [
              "   Pregnancies  Glucose  BloodPressure  ...  DiabetesPedigreeFunction  Age  Outcome\n",
              "0            6    148.0           72.0  ...                     0.627   50        1\n",
              "1            1     85.0           66.0  ...                     0.351   31        0\n",
              "2            8    183.0           64.0  ...                     0.672   32        1\n",
              "3            1     89.0           66.0  ...                     0.167   21        0\n",
              "4            0    137.0           40.0  ...                     2.288   33        1\n",
              "\n",
              "[5 rows x 9 columns]"
            ]
          },
          "metadata": {},
          "execution_count": 89
        }
      ]
    },
    {
      "cell_type": "code",
      "source": [
        "# heatmap\n",
        "msno.heatmap(df)\n",
        "plt.show()"
      ],
      "metadata": {
        "colab": {
          "base_uri": "https://localhost:8080/",
          "height": 788
        },
        "id": "R9URZPs2tMF3",
        "outputId": "6f1edd2d-b134-4c15-899c-6af698e45975"
      },
      "execution_count": 90,
      "outputs": [
        {
          "output_type": "display_data",
          "data": {
            "image/png": "[encoded data removed]",
            "text/plain": [
              "<Figure size 1440x864 with 2 Axes>"
            ]
          },
          "metadata": {}
        }
      ]
    },
    {
      "cell_type": "code",
      "source": [
        "# let's see missing values\n",
        "missing_values_table(df)"
      ],
      "metadata": {
        "colab": {
          "base_uri": "https://localhost:8080/"
        },
        "id": "R9qV8DBztSo4",
        "outputId": "7beb842a-089d-466e-8828-1fca7481970f"
      },
      "execution_count": 91,
      "outputs": [
        {
          "output_type": "stream",
          "name": "stdout",
          "text": [
            "               n_miss  ratio\n",
            "Insulin           374  48.70\n",
            "SkinThickness     227  29.56\n",
            "BloodPressure      35   4.56\n",
            "BMI                11   1.43\n",
            "Glucose             5   0.65\n"
          ]
        }
      ]
    },
    {
      "cell_type": "code",
      "source": [
        "df.info()"
      ],
      "metadata": {
        "colab": {
          "base_uri": "https://localhost:8080/"
        },
        "id": "kzQArRYhtXyj",
        "outputId": "40abd3c9-6498-47b9-d9cd-50c39f320f38"
      },
      "execution_count": 94,
      "outputs": [
        {
          "output_type": "stream",
          "name": "stdout",
          "text": [
            "<class 'pandas.core.frame.DataFrame'>\n",
            "RangeIndex: 768 entries, 0 to 767\n",
            "Data columns (total 9 columns):\n",
            " #   Column                    Non-Null Count  Dtype  \n",
            "---  ------                    --------------  -----  \n",
            " 0   Pregnancies               768 non-null    int64  \n",
            " 1   Glucose                   763 non-null    float64\n",
            " 2   BloodPressure             733 non-null    float64\n",
            " 3   SkinThickness             541 non-null    float64\n",
            " 4   Insulin                   394 non-null    float64\n",
            " 5   BMI                       757 non-null    float64\n",
            " 6   DiabetesPedigreeFunction  768 non-null    float64\n",
            " 7   Age                       768 non-null    int64  \n",
            " 8   Outcome                   768 non-null    int64  \n",
            "dtypes: float64(6), int64(3)\n",
            "memory usage: 54.1 KB\n"
          ]
        }
      ]
    },
    {
      "cell_type": "code",
      "source": [
        "cols = [\"Glucose\",\"Insulin\",\"BloodPressure\",\"SkinThickness\",\"BMI\"]\n",
        "\n",
        "df = df.apply(lambda x: x.fillna(x.median()) if x.dtype != \"O\" else x, axis=0)\n",
        "df.head()"
      ],
      "metadata": {
        "colab": {
          "base_uri": "https://localhost:8080/",
          "height": 206
        },
        "id": "qXapJbr2uCl_",
        "outputId": "518236e6-441f-4510-9b27-2563b7d82a35"
      },
      "execution_count": 15,
      "outputs": [
        {
          "output_type": "execute_result",
          "data": {
            "text/html": [
              "\n",
              "  <div id=\"df-7fba2c72-56aa-4568-853a-3d51facfc4a5\">\n",
              "    <div class=\"colab-df-container\">\n",
              "      <div>\n",
              "<style scoped>\n",
              "    .dataframe tbody tr th:only-of-type {\n",
              "        vertical-align: middle;\n",
              "    }\n",
              "\n",
              "    .dataframe tbody tr th {\n",
              "        vertical-align: top;\n",
              "    }\n",
              "\n",
              "    .dataframe thead th {\n",
              "        text-align: right;\n",
              "    }\n",
              "</style>\n",
              "<table border=\"1\" class=\"dataframe\">\n",
              "  <thead>\n",
              "    <tr style=\"text-align: right;\">\n",
              "      <th></th>\n",
              "      <th>Pregnancies</th>\n",
              "      <th>Glucose</th>\n",
              "      <th>BloodPressure</th>\n",
              "      <th>SkinThickness</th>\n",
              "      <th>Insulin</th>\n",
              "      <th>BMI</th>\n",
              "      <th>DiabetesPedigreeFunction</th>\n",
              "      <th>Age</th>\n",
              "      <th>Outcome</th>\n",
              "    </tr>\n",
              "  </thead>\n",
              "  <tbody>\n",
              "    <tr>\n",
              "      <th>0</th>\n",
              "      <td>6</td>\n",
              "      <td>148.0</td>\n",
              "      <td>72.0</td>\n",
              "      <td>35.0</td>\n",
              "      <td>125.0</td>\n",
              "      <td>33.6</td>\n",
              "      <td>0.627</td>\n",
              "      <td>50</td>\n",
              "      <td>1</td>\n",
              "    </tr>\n",
              "    <tr>\n",
              "      <th>1</th>\n",
              "      <td>1</td>\n",
              "      <td>85.0</td>\n",
              "      <td>66.0</td>\n",
              "      <td>29.0</td>\n",
              "      <td>125.0</td>\n",
              "      <td>26.6</td>\n",
              "      <td>0.351</td>\n",
              "      <td>31</td>\n",
              "      <td>0</td>\n",
              "    </tr>\n",
              "    <tr>\n",
              "      <th>2</th>\n",
              "      <td>8</td>\n",
              "      <td>183.0</td>\n",
              "      <td>64.0</td>\n",
              "      <td>29.0</td>\n",
              "      <td>125.0</td>\n",
              "      <td>23.3</td>\n",
              "      <td>0.672</td>\n",
              "      <td>32</td>\n",
              "      <td>1</td>\n",
              "    </tr>\n",
              "    <tr>\n",
              "      <th>3</th>\n",
              "      <td>1</td>\n",
              "      <td>89.0</td>\n",
              "      <td>66.0</td>\n",
              "      <td>23.0</td>\n",
              "      <td>94.0</td>\n",
              "      <td>28.1</td>\n",
              "      <td>0.167</td>\n",
              "      <td>21</td>\n",
              "      <td>0</td>\n",
              "    </tr>\n",
              "    <tr>\n",
              "      <th>4</th>\n",
              "      <td>0</td>\n",
              "      <td>137.0</td>\n",
              "      <td>40.0</td>\n",
              "      <td>35.0</td>\n",
              "      <td>168.0</td>\n",
              "      <td>43.1</td>\n",
              "      <td>2.288</td>\n",
              "      <td>33</td>\n",
              "      <td>1</td>\n",
              "    </tr>\n",
              "  </tbody>\n",
              "</table>\n",
              "</div>\n",
              "      <button class=\"colab-df-convert\" onclick=\"convertToInteractive('df-7fba2c72-56aa-4568-853a-3d51facfc4a5')\"\n",
              "              title=\"Convert this dataframe to an interactive table.\"\n",
              "              style=\"display:none;\">\n",
              "        \n",
              "  <svg xmlns=\"http://www.w3.org/2000/svg\" height=\"24px\"viewBox=\"0 0 24 24\"\n",
              "       width=\"24px\">\n",
              "    <path d=\"M0 0h24v24H0V0z\" fill=\"none\"/>\n",
              "    <path d=\"M18.56 5.44l.94 2.06.94-2.06 2.06-.94-2.06-.94-.94-2.06-.94 2.06-2.06.94zm-11 1L8.5 8.5l.94-2.06 2.06-.94-2.06-.94L8.5 2.5l-.94 2.06-2.06.94zm10 10l.94 2.06.94-2.06 2.06-.94-2.06-.94-.94-2.06-.94 2.06-2.06.94z\"/><path d=\"M17.41 7.96l-1.37-1.37c-.4-.4-.92-.59-1.43-.59-.52 0-1.04.2-1.43.59L10.3 9.45l-7.72 7.72c-.78.78-.78 2.05 0 2.83L4 21.41c.39.39.9.59 1.41.59.51 0 1.02-.2 1.41-.59l7.78-7.78 2.81-2.81c.8-.78.8-2.07 0-2.86zM5.41 20L4 18.59l7.72-7.72 1.47 1.35L5.41 20z\"/>\n",
              "  </svg>\n",
              "      </button>\n",
              "      \n",
              "  <style>\n",
              "    .colab-df-container {\n",
              "      display:flex;\n",
              "      flex-wrap:wrap;\n",
              "      gap: 12px;\n",
              "    }\n",
              "\n",
              "    .colab-df-convert {\n",
              "      background-color: #E8F0FE;\n",
              "      border: none;\n",
              "      border-radius: 50%;\n",
              "      cursor: pointer;\n",
              "      display: none;\n",
              "      fill: #1967D2;\n",
              "      height: 32px;\n",
              "      padding: 0 0 0 0;\n",
              "      width: 32px;\n",
              "    }\n",
              "\n",
              "    .colab-df-convert:hover {\n",
              "      background-color: #E2EBFA;\n",
              "      box-shadow: 0px 1px 2px rgba(60, 64, 67, 0.3), 0px 1px 3px 1px rgba(60, 64, 67, 0.15);\n",
              "      fill: #174EA6;\n",
              "    }\n",
              "\n",
              "    [theme=dark] .colab-df-convert {\n",
              "      background-color: #3B4455;\n",
              "      fill: #D2E3FC;\n",
              "    }\n",
              "\n",
              "    [theme=dark] .colab-df-convert:hover {\n",
              "      background-color: #434B5C;\n",
              "      box-shadow: 0px 1px 3px 1px rgba(0, 0, 0, 0.15);\n",
              "      filter: drop-shadow(0px 1px 2px rgba(0, 0, 0, 0.3));\n",
              "      fill: #FFFFFF;\n",
              "    }\n",
              "  </style>\n",
              "\n",
              "      <script>\n",
              "        const buttonEl =\n",
              "          document.querySelector('#df-7fba2c72-56aa-4568-853a-3d51facfc4a5 button.colab-df-convert');\n",
              "        buttonEl.style.display =\n",
              "          google.colab.kernel.accessAllowed ? 'block' : 'none';\n",
              "\n",
              "        async function convertToInteractive(key) {\n",
              "          const element = document.querySelector('#df-7fba2c72-56aa-4568-853a-3d51facfc4a5');\n",
              "          const dataTable =\n",
              "            await google.colab.kernel.invokeFunction('convertToInteractive',\n",
              "                                                     [key], {});\n",
              "          if (!dataTable) return;\n",
              "\n",
              "          const docLinkHtml = 'Like what you see? Visit the ' +\n",
              "            '<a target=\"_blank\" href=https://colab.research.google.com/notebooks/data_table.ipynb>data table notebook</a>'\n",
              "            + ' to learn more about interactive tables.';\n",
              "          element.innerHTML = '';\n",
              "          dataTable['output_type'] = 'display_data';\n",
              "          await google.colab.output.renderOutput(dataTable, element);\n",
              "          const docLink = document.createElement('div');\n",
              "          docLink.innerHTML = docLinkHtml;\n",
              "          element.appendChild(docLink);\n",
              "        }\n",
              "      </script>\n",
              "    </div>\n",
              "  </div>\n",
              "  "
            ],
            "text/plain": [
              "   Pregnancies  Glucose  BloodPressure  ...  DiabetesPedigreeFunction  Age  Outcome\n",
              "0            6    148.0           72.0  ...                     0.627   50        1\n",
              "1            1     85.0           66.0  ...                     0.351   31        0\n",
              "2            8    183.0           64.0  ...                     0.672   32        1\n",
              "3            1     89.0           66.0  ...                     0.167   21        0\n",
              "4            0    137.0           40.0  ...                     2.288   33        1\n",
              "\n",
              "[5 rows x 9 columns]"
            ]
          },
          "metadata": {},
          "execution_count": 15
        }
      ]
    },
    {
      "cell_type": "code",
      "source": [
        "# let's see missing values\n",
        "missing_values_table(df)"
      ],
      "metadata": {
        "colab": {
          "base_uri": "https://localhost:8080/"
        },
        "id": "trtwKuMDvJ-h",
        "outputId": "9c3c7da5-85f6-4e3a-ba73-6640fe110c5b"
      },
      "execution_count": 16,
      "outputs": [
        {
          "output_type": "stream",
          "name": "stdout",
          "text": [
            "Empty DataFrame\n",
            "Columns: [n_miss, ratio]\n",
            "Index: []\n"
          ]
        }
      ]
    },
    {
      "cell_type": "code",
      "source": [
        "# finding and deleting outliers based on the principle of neighborliness\n",
        "clf = LocalOutlierFactor(n_neighbors=5)\n",
        "clf.fit_predict(df)\n",
        "\n",
        "df_scores = clf.negative_outlier_factor_\n",
        "df_scores[0:30]\n",
        "# df_scores = -df_scores\n",
        "np.sort(df_scores)[0:30]\n",
        "\n",
        "scores = pd.DataFrame(np.sort(df_scores))\n",
        "scores.plot(stacked=True, xlim=[0, 50], style='.-')\n",
        "plt.show()"
      ],
      "metadata": {
        "colab": {
          "base_uri": "https://localhost:8080/",
          "height": 268
        },
        "id": "f4BfV251wOo3",
        "outputId": "a31329ee-9439-48f7-e2d0-2eb5de332cfe"
      },
      "execution_count": 97,
      "outputs": [
        {
          "output_type": "display_data",
          "data": {
            "image/png": "[encoded data removed]",
            "text/plain": [
              "<Figure size 432x288 with 1 Axes>"
            ]
          },
          "metadata": {}
        }
      ]
    },
    {
      "cell_type": "code",
      "source": [
        "df.columns = [col.upper() for col in df.columns]"
      ],
      "metadata": {
        "id": "Nlh0_MYEwWt4"
      },
      "execution_count": 17,
      "outputs": []
    },
    {
      "cell_type": "code",
      "source": [
        "#INSULIN/AGE\n",
        "df[\"INSULIN/AGE\"]=df[\"INSULIN\"]/df[\"AGE\"]\n",
        "#BMI/AGE\n",
        "df[\"BMI/AGE\"]=df[\"BMI\"]/df[\"AGE\"]\n",
        "#PREGNANCIES/AGE\n",
        "df[\"PREGNANCIES/AGE\"]=df[\"PREGNANCIES\"]/df[\"AGE\"]\n",
        "#INS*GLU\n",
        "df[\"INS*GLU\"]=df[\"INSULIN\"]* df[\"GLUCOSE\"]\n",
        "df.drop([\"AGE\"],axis = 1, inplace = True)"
      ],
      "metadata": {
        "id": "BIVhjPFGwmRk"
      },
      "execution_count": 18,
      "outputs": []
    },
    {
      "cell_type": "code",
      "source": [
        "# Classification for BMI\n",
        "df['NEW_BMI_CAT'] = pd.cut(x = df['BMI'], bins = [0,18.5, 24.9, 29.9, 100], labels = [\"UNDER WEIGHT\",\n",
        "                                                                                  \"NORMALY WEIGHT\",\n",
        "                                                                                   \"OVER WEIGHT\",\n",
        "                                                                                   \"OBESE\"])\n",
        "df.groupby(\"NEW_BMI_CAT\")[\"OUTCOME\"].mean()"
      ],
      "metadata": {
        "colab": {
          "base_uri": "https://localhost:8080/"
        },
        "id": "iDzSUgdvx3yo",
        "outputId": "8469fb48-8717-4b58-e0c2-e92d6ca74369"
      },
      "execution_count": 19,
      "outputs": [
        {
          "output_type": "execute_result",
          "data": {
            "text/plain": [
              "NEW_BMI_CAT\n",
              "UNDER WEIGHT      0.000000\n",
              "NORMALY WEIGHT    0.068627\n",
              "OVER WEIGHT       0.223464\n",
              "OBESE             0.457557\n",
              "Name: OUTCOME, dtype: float64"
            ]
          },
          "metadata": {},
          "execution_count": 19
        }
      ]
    },
    {
      "cell_type": "code",
      "source": [
        "# Classification for BP\n",
        "df['NEW_BP_CAT'] = pd.cut(x = df['BLOODPRESSURE'], bins = [0,80, 84, 90, 122], labels = [\"OPTIMAL PRESSURE\",\n",
        "                                                                                                 \"NORMAL PRESSURE\",\n",
        "                                                                                                 \"HIGH-NORMAL PRESSURE\",\n",
        "                                                                                                 \"HIGH PRESSURE\"])\n",
        "df.groupby(\"NEW_BP_CAT\")[\"OUTCOME\"].mean()"
      ],
      "metadata": {
        "colab": {
          "base_uri": "https://localhost:8080/"
        },
        "id": "1KnVWItsx6t0",
        "outputId": "f4aabc78-905b-4e38-bbf6-2e848673a3e1"
      },
      "execution_count": 20,
      "outputs": [
        {
          "output_type": "execute_result",
          "data": {
            "text/plain": [
              "NEW_BP_CAT\n",
              "OPTIMAL PRESSURE        0.316750\n",
              "NORMAL PRESSURE         0.471698\n",
              "HIGH-NORMAL PRESSURE    0.459459\n",
              "HIGH PRESSURE           0.473684\n",
              "Name: OUTCOME, dtype: float64"
            ]
          },
          "metadata": {},
          "execution_count": 20
        }
      ]
    },
    {
      "cell_type": "code",
      "source": [
        "cat_cols, num_cols, cat_but_car = grab_col_names(df)"
      ],
      "metadata": {
        "colab": {
          "base_uri": "https://localhost:8080/"
        },
        "id": "oTECnATXx_rd",
        "outputId": "a08cba51-f092-46e0-d40c-b2bcdf869ef9"
      },
      "execution_count": 102,
      "outputs": [
        {
          "output_type": "stream",
          "name": "stdout",
          "text": [
            "Observations: 768\n",
            "Variables: 14\n",
            "cat_cols: 1\n",
            "num_cols: 13\n",
            "cat_but_car: 0\n",
            "num_but_cat: 1\n"
          ]
        }
      ]
    },
    {
      "cell_type": "code",
      "source": [
        "df.NEW_BMI_CAT.value_counts()"
      ],
      "metadata": {
        "colab": {
          "base_uri": "https://localhost:8080/"
        },
        "id": "ru9UVLFGyQd5",
        "outputId": "259f0518-8cda-45e9-cd62-086d43a4b688"
      },
      "execution_count": 103,
      "outputs": [
        {
          "output_type": "execute_result",
          "data": {
            "text/plain": [
              "OBESE             483\n",
              "OVER WEIGHT       179\n",
              "NORMALY WEIGHT    102\n",
              "UNDER WEIGHT        4\n",
              "Name: NEW_BMI_CAT, dtype: int64"
            ]
          },
          "metadata": {},
          "execution_count": 103
        }
      ]
    },
    {
      "cell_type": "code",
      "source": [
        "#   let's do our RARE analysis\n",
        "def rare_analyser(dataframe, target, cat_cols):\n",
        "    for col in cat_cols:\n",
        "        print(col, \":\", len(dataframe[col].value_counts()))\n",
        "        print(pd.DataFrame({\"COUNT\": dataframe[col].value_counts(),\n",
        "                            \"RATIO\": dataframe[col].value_counts() / len(dataframe),\n",
        "                            \"TARGET_MEAN\": dataframe.groupby(col)[target].mean()}), end=\"\\n\\n\\n\")\n",
        "rare_analyser(df, \"OUTCOME\", cat_cols)"
      ],
      "metadata": {
        "colab": {
          "base_uri": "https://localhost:8080/"
        },
        "id": "hjCPUq41y_1h",
        "outputId": "063daa6e-0243-4d45-b583-5919d46d85e3"
      },
      "execution_count": 25,
      "outputs": [
        {
          "output_type": "stream",
          "name": "stdout",
          "text": [
            "OUTCOME : 2\n",
            "   COUNT     RATIO  TARGET_MEAN\n",
            "0    500  0.651042            0\n",
            "1    268  0.348958            1\n",
            "\n",
            "\n"
          ]
        }
      ]
    },
    {
      "cell_type": "code",
      "source": [
        "# One Hot encoding\n",
        "def one_hot_encoder(dataframe, categorical_cols, drop_first=True):\n",
        "    dataframe = pd.get_dummies(dataframe, columns=categorical_cols, drop_first=drop_first)\n",
        "    return dataframe"
      ],
      "metadata": {
        "id": "-zhNoTQ7zkKe"
      },
      "execution_count": 26,
      "outputs": []
    },
    {
      "cell_type": "code",
      "source": [
        "ohe_cols = [col for col in df.columns if 10 >= df[col].nunique() > 2]\n",
        "ohe_cols"
      ],
      "metadata": {
        "colab": {
          "base_uri": "https://localhost:8080/"
        },
        "id": "8E9vY3MW0eSr",
        "outputId": "d7240249-5607-4b0f-a7d1-e86df658ba70"
      },
      "execution_count": 27,
      "outputs": [
        {
          "output_type": "execute_result",
          "data": {
            "text/plain": [
              "['NEW_BMI_CAT', 'NEW_BP_CAT']"
            ]
          },
          "metadata": {},
          "execution_count": 27
        }
      ]
    },
    {
      "cell_type": "code",
      "source": [
        "df = one_hot_encoder(df, ohe_cols)\n",
        "df.head()"
      ],
      "metadata": {
        "colab": {
          "base_uri": "https://localhost:8080/",
          "height": 288
        },
        "id": "IHuYJ4dY0bFZ",
        "outputId": "cba7bf60-601a-446c-a6f2-fbccca23bd96"
      },
      "execution_count": 28,
      "outputs": [
        {
          "output_type": "execute_result",
          "data": {
            "text/html": [
              "\n",
              "  <div id=\"df-a3eeec6c-f555-4ebf-9efc-0921932af28c\">\n",
              "    <div class=\"colab-df-container\">\n",
              "      <div>\n",
              "<style scoped>\n",
              "    .dataframe tbody tr th:only-of-type {\n",
              "        vertical-align: middle;\n",
              "    }\n",
              "\n",
              "    .dataframe tbody tr th {\n",
              "        vertical-align: top;\n",
              "    }\n",
              "\n",
              "    .dataframe thead th {\n",
              "        text-align: right;\n",
              "    }\n",
              "</style>\n",
              "<table border=\"1\" class=\"dataframe\">\n",
              "  <thead>\n",
              "    <tr style=\"text-align: right;\">\n",
              "      <th></th>\n",
              "      <th>PREGNANCIES</th>\n",
              "      <th>GLUCOSE</th>\n",
              "      <th>BLOODPRESSURE</th>\n",
              "      <th>SKINTHICKNESS</th>\n",
              "      <th>INSULIN</th>\n",
              "      <th>BMI</th>\n",
              "      <th>DIABETESPEDIGREEFUNCTION</th>\n",
              "      <th>OUTCOME</th>\n",
              "      <th>INSULIN/AGE</th>\n",
              "      <th>BMI/AGE</th>\n",
              "      <th>PREGNANCIES/AGE</th>\n",
              "      <th>INS*GLU</th>\n",
              "      <th>NEW_BMI_CAT_NORMALY WEIGHT</th>\n",
              "      <th>NEW_BMI_CAT_OVER WEIGHT</th>\n",
              "      <th>NEW_BMI_CAT_OBESE</th>\n",
              "      <th>NEW_BP_CAT_NORMAL PRESSURE</th>\n",
              "      <th>NEW_BP_CAT_HIGH-NORMAL PRESSURE</th>\n",
              "      <th>NEW_BP_CAT_HIGH PRESSURE</th>\n",
              "    </tr>\n",
              "  </thead>\n",
              "  <tbody>\n",
              "    <tr>\n",
              "      <th>0</th>\n",
              "      <td>6</td>\n",
              "      <td>148.0</td>\n",
              "      <td>72.0</td>\n",
              "      <td>35.0</td>\n",
              "      <td>125.0</td>\n",
              "      <td>33.6</td>\n",
              "      <td>0.627</td>\n",
              "      <td>1</td>\n",
              "      <td>2.500000</td>\n",
              "      <td>0.672000</td>\n",
              "      <td>0.120000</td>\n",
              "      <td>18500.0</td>\n",
              "      <td>0</td>\n",
              "      <td>0</td>\n",
              "      <td>1</td>\n",
              "      <td>0</td>\n",
              "      <td>0</td>\n",
              "      <td>0</td>\n",
              "    </tr>\n",
              "    <tr>\n",
              "      <th>1</th>\n",
              "      <td>1</td>\n",
              "      <td>85.0</td>\n",
              "      <td>66.0</td>\n",
              "      <td>29.0</td>\n",
              "      <td>125.0</td>\n",
              "      <td>26.6</td>\n",
              "      <td>0.351</td>\n",
              "      <td>0</td>\n",
              "      <td>4.032258</td>\n",
              "      <td>0.858065</td>\n",
              "      <td>0.032258</td>\n",
              "      <td>10625.0</td>\n",
              "      <td>0</td>\n",
              "      <td>1</td>\n",
              "      <td>0</td>\n",
              "      <td>0</td>\n",
              "      <td>0</td>\n",
              "      <td>0</td>\n",
              "    </tr>\n",
              "    <tr>\n",
              "      <th>2</th>\n",
              "      <td>8</td>\n",
              "      <td>183.0</td>\n",
              "      <td>64.0</td>\n",
              "      <td>29.0</td>\n",
              "      <td>125.0</td>\n",
              "      <td>23.3</td>\n",
              "      <td>0.672</td>\n",
              "      <td>1</td>\n",
              "      <td>3.906250</td>\n",
              "      <td>0.728125</td>\n",
              "      <td>0.250000</td>\n",
              "      <td>22875.0</td>\n",
              "      <td>1</td>\n",
              "      <td>0</td>\n",
              "      <td>0</td>\n",
              "      <td>0</td>\n",
              "      <td>0</td>\n",
              "      <td>0</td>\n",
              "    </tr>\n",
              "    <tr>\n",
              "      <th>3</th>\n",
              "      <td>1</td>\n",
              "      <td>89.0</td>\n",
              "      <td>66.0</td>\n",
              "      <td>23.0</td>\n",
              "      <td>94.0</td>\n",
              "      <td>28.1</td>\n",
              "      <td>0.167</td>\n",
              "      <td>0</td>\n",
              "      <td>4.476190</td>\n",
              "      <td>1.338095</td>\n",
              "      <td>0.047619</td>\n",
              "      <td>8366.0</td>\n",
              "      <td>0</td>\n",
              "      <td>1</td>\n",
              "      <td>0</td>\n",
              "      <td>0</td>\n",
              "      <td>0</td>\n",
              "      <td>0</td>\n",
              "    </tr>\n",
              "    <tr>\n",
              "      <th>4</th>\n",
              "      <td>0</td>\n",
              "      <td>137.0</td>\n",
              "      <td>40.0</td>\n",
              "      <td>35.0</td>\n",
              "      <td>168.0</td>\n",
              "      <td>43.1</td>\n",
              "      <td>2.288</td>\n",
              "      <td>1</td>\n",
              "      <td>5.090909</td>\n",
              "      <td>1.306061</td>\n",
              "      <td>0.000000</td>\n",
              "      <td>23016.0</td>\n",
              "      <td>0</td>\n",
              "      <td>0</td>\n",
              "      <td>1</td>\n",
              "      <td>0</td>\n",
              "      <td>0</td>\n",
              "      <td>0</td>\n",
              "    </tr>\n",
              "  </tbody>\n",
              "</table>\n",
              "</div>\n",
              "      <button class=\"colab-df-convert\" onclick=\"convertToInteractive('df-a3eeec6c-f555-4ebf-9efc-0921932af28c')\"\n",
              "              title=\"Convert this dataframe to an interactive table.\"\n",
              "              style=\"display:none;\">\n",
              "        \n",
              "  <svg xmlns=\"http://www.w3.org/2000/svg\" height=\"24px\"viewBox=\"0 0 24 24\"\n",
              "       width=\"24px\">\n",
              "    <path d=\"M0 0h24v24H0V0z\" fill=\"none\"/>\n",
              "    <path d=\"M18.56 5.44l.94 2.06.94-2.06 2.06-.94-2.06-.94-.94-2.06-.94 2.06-2.06.94zm-11 1L8.5 8.5l.94-2.06 2.06-.94-2.06-.94L8.5 2.5l-.94 2.06-2.06.94zm10 10l.94 2.06.94-2.06 2.06-.94-2.06-.94-.94-2.06-.94 2.06-2.06.94z\"/><path d=\"M17.41 7.96l-1.37-1.37c-.4-.4-.92-.59-1.43-.59-.52 0-1.04.2-1.43.59L10.3 9.45l-7.72 7.72c-.78.78-.78 2.05 0 2.83L4 21.41c.39.39.9.59 1.41.59.51 0 1.02-.2 1.41-.59l7.78-7.78 2.81-2.81c.8-.78.8-2.07 0-2.86zM5.41 20L4 18.59l7.72-7.72 1.47 1.35L5.41 20z\"/>\n",
              "  </svg>\n",
              "      </button>\n",
              "      \n",
              "  <style>\n",
              "    .colab-df-container {\n",
              "      display:flex;\n",
              "      flex-wrap:wrap;\n",
              "      gap: 12px;\n",
              "    }\n",
              "\n",
              "    .colab-df-convert {\n",
              "      background-color: #E8F0FE;\n",
              "      border: none;\n",
              "      border-radius: 50%;\n",
              "      cursor: pointer;\n",
              "      display: none;\n",
              "      fill: #1967D2;\n",
              "      height: 32px;\n",
              "      padding: 0 0 0 0;\n",
              "      width: 32px;\n",
              "    }\n",
              "\n",
              "    .colab-df-convert:hover {\n",
              "      background-color: #E2EBFA;\n",
              "      box-shadow: 0px 1px 2px rgba(60, 64, 67, 0.3), 0px 1px 3px 1px rgba(60, 64, 67, 0.15);\n",
              "      fill: #174EA6;\n",
              "    }\n",
              "\n",
              "    [theme=dark] .colab-df-convert {\n",
              "      background-color: #3B4455;\n",
              "      fill: #D2E3FC;\n",
              "    }\n",
              "\n",
              "    [theme=dark] .colab-df-convert:hover {\n",
              "      background-color: #434B5C;\n",
              "      box-shadow: 0px 1px 3px 1px rgba(0, 0, 0, 0.15);\n",
              "      filter: drop-shadow(0px 1px 2px rgba(0, 0, 0, 0.3));\n",
              "      fill: #FFFFFF;\n",
              "    }\n",
              "  </style>\n",
              "\n",
              "      <script>\n",
              "        const buttonEl =\n",
              "          document.querySelector('#df-a3eeec6c-f555-4ebf-9efc-0921932af28c button.colab-df-convert');\n",
              "        buttonEl.style.display =\n",
              "          google.colab.kernel.accessAllowed ? 'block' : 'none';\n",
              "\n",
              "        async function convertToInteractive(key) {\n",
              "          const element = document.querySelector('#df-a3eeec6c-f555-4ebf-9efc-0921932af28c');\n",
              "          const dataTable =\n",
              "            await google.colab.kernel.invokeFunction('convertToInteractive',\n",
              "                                                     [key], {});\n",
              "          if (!dataTable) return;\n",
              "\n",
              "          const docLinkHtml = 'Like what you see? Visit the ' +\n",
              "            '<a target=\"_blank\" href=https://colab.research.google.com/notebooks/data_table.ipynb>data table notebook</a>'\n",
              "            + ' to learn more about interactive tables.';\n",
              "          element.innerHTML = '';\n",
              "          dataTable['output_type'] = 'display_data';\n",
              "          await google.colab.output.renderOutput(dataTable, element);\n",
              "          const docLink = document.createElement('div');\n",
              "          docLink.innerHTML = docLinkHtml;\n",
              "          element.appendChild(docLink);\n",
              "        }\n",
              "      </script>\n",
              "    </div>\n",
              "  </div>\n",
              "  "
            ],
            "text/plain": [
              "   PREGNANCIES  ...  NEW_BP_CAT_HIGH PRESSURE\n",
              "0            6  ...                         0\n",
              "1            1  ...                         0\n",
              "2            8  ...                         0\n",
              "3            1  ...                         0\n",
              "4            0  ...                         0\n",
              "\n",
              "[5 rows x 18 columns]"
            ]
          },
          "metadata": {},
          "execution_count": 28
        }
      ]
    },
    {
      "cell_type": "code",
      "source": [
        "#standardize for numeric variables\n",
        "scaler = RobustScaler()\n",
        "df = pd.DataFrame(scaler.fit_transform(df), columns=df.columns)\n",
        "df.head()"
      ],
      "metadata": {
        "colab": {
          "base_uri": "https://localhost:8080/",
          "height": 288
        },
        "id": "yCyYFl9k0p7m",
        "outputId": "4aab2359-13e5-45a8-df66-5f4e118f4102"
      },
      "execution_count": 29,
      "outputs": [
        {
          "output_type": "execute_result",
          "data": {
            "text/html": [
              "\n",
              "  <div id=\"df-621a20c3-1b0b-49fd-ad70-5faa32b52a87\">\n",
              "    <div class=\"colab-df-container\">\n",
              "      <div>\n",
              "<style scoped>\n",
              "    .dataframe tbody tr th:only-of-type {\n",
              "        vertical-align: middle;\n",
              "    }\n",
              "\n",
              "    .dataframe tbody tr th {\n",
              "        vertical-align: top;\n",
              "    }\n",
              "\n",
              "    .dataframe thead th {\n",
              "        text-align: right;\n",
              "    }\n",
              "</style>\n",
              "<table border=\"1\" class=\"dataframe\">\n",
              "  <thead>\n",
              "    <tr style=\"text-align: right;\">\n",
              "      <th></th>\n",
              "      <th>PREGNANCIES</th>\n",
              "      <th>GLUCOSE</th>\n",
              "      <th>BLOODPRESSURE</th>\n",
              "      <th>SKINTHICKNESS</th>\n",
              "      <th>INSULIN</th>\n",
              "      <th>BMI</th>\n",
              "      <th>DIABETESPEDIGREEFUNCTION</th>\n",
              "      <th>OUTCOME</th>\n",
              "      <th>INSULIN/AGE</th>\n",
              "      <th>BMI/AGE</th>\n",
              "      <th>PREGNANCIES/AGE</th>\n",
              "      <th>INS*GLU</th>\n",
              "      <th>NEW_BMI_CAT_NORMALY WEIGHT</th>\n",
              "      <th>NEW_BMI_CAT_OVER WEIGHT</th>\n",
              "      <th>NEW_BMI_CAT_OBESE</th>\n",
              "      <th>NEW_BP_CAT_NORMAL PRESSURE</th>\n",
              "      <th>NEW_BP_CAT_HIGH-NORMAL PRESSURE</th>\n",
              "      <th>NEW_BP_CAT_HIGH PRESSURE</th>\n",
              "    </tr>\n",
              "  </thead>\n",
              "  <tbody>\n",
              "    <tr>\n",
              "      <th>0</th>\n",
              "      <td>0.6</td>\n",
              "      <td>0.765432</td>\n",
              "      <td>0.000</td>\n",
              "      <td>0.857143</td>\n",
              "      <td>0.000000</td>\n",
              "      <td>0.142857</td>\n",
              "      <td>0.665359</td>\n",
              "      <td>1.0</td>\n",
              "      <td>-0.534875</td>\n",
              "      <td>-0.717394</td>\n",
              "      <td>0.198095</td>\n",
              "      <td>0.436620</td>\n",
              "      <td>0.0</td>\n",
              "      <td>0.0</td>\n",
              "      <td>0.0</td>\n",
              "      <td>0.0</td>\n",
              "      <td>0.0</td>\n",
              "      <td>0.0</td>\n",
              "    </tr>\n",
              "    <tr>\n",
              "      <th>1</th>\n",
              "      <td>-0.4</td>\n",
              "      <td>-0.790123</td>\n",
              "      <td>-0.375</td>\n",
              "      <td>0.000000</td>\n",
              "      <td>0.000000</td>\n",
              "      <td>-0.626374</td>\n",
              "      <td>-0.056209</td>\n",
              "      <td>0.0</td>\n",
              "      <td>0.046523</td>\n",
              "      <td>-0.354939</td>\n",
              "      <td>-0.503840</td>\n",
              "      <td>-0.450704</td>\n",
              "      <td>0.0</td>\n",
              "      <td>1.0</td>\n",
              "      <td>-1.0</td>\n",
              "      <td>0.0</td>\n",
              "      <td>0.0</td>\n",
              "      <td>0.0</td>\n",
              "    </tr>\n",
              "    <tr>\n",
              "      <th>2</th>\n",
              "      <td>1.0</td>\n",
              "      <td>1.629630</td>\n",
              "      <td>-0.500</td>\n",
              "      <td>0.000000</td>\n",
              "      <td>0.000000</td>\n",
              "      <td>-0.989011</td>\n",
              "      <td>0.783007</td>\n",
              "      <td>1.0</td>\n",
              "      <td>-0.001289</td>\n",
              "      <td>-0.608062</td>\n",
              "      <td>1.238095</td>\n",
              "      <td>0.929577</td>\n",
              "      <td>1.0</td>\n",
              "      <td>0.0</td>\n",
              "      <td>-1.0</td>\n",
              "      <td>0.0</td>\n",
              "      <td>0.0</td>\n",
              "      <td>0.0</td>\n",
              "    </tr>\n",
              "    <tr>\n",
              "      <th>3</th>\n",
              "      <td>-0.4</td>\n",
              "      <td>-0.691358</td>\n",
              "      <td>-0.375</td>\n",
              "      <td>-0.857143</td>\n",
              "      <td>-5.391304</td>\n",
              "      <td>-0.461538</td>\n",
              "      <td>-0.537255</td>\n",
              "      <td>0.0</td>\n",
              "      <td>0.214969</td>\n",
              "      <td>0.580166</td>\n",
              "      <td>-0.380952</td>\n",
              "      <td>-0.705239</td>\n",
              "      <td>0.0</td>\n",
              "      <td>1.0</td>\n",
              "      <td>-1.0</td>\n",
              "      <td>0.0</td>\n",
              "      <td>0.0</td>\n",
              "      <td>0.0</td>\n",
              "    </tr>\n",
              "    <tr>\n",
              "      <th>4</th>\n",
              "      <td>-0.6</td>\n",
              "      <td>0.493827</td>\n",
              "      <td>-2.000</td>\n",
              "      <td>0.857143</td>\n",
              "      <td>7.478261</td>\n",
              "      <td>1.186813</td>\n",
              "      <td>5.007843</td>\n",
              "      <td>1.0</td>\n",
              "      <td>0.448217</td>\n",
              "      <td>0.517762</td>\n",
              "      <td>-0.761905</td>\n",
              "      <td>0.945465</td>\n",
              "      <td>0.0</td>\n",
              "      <td>0.0</td>\n",
              "      <td>0.0</td>\n",
              "      <td>0.0</td>\n",
              "      <td>0.0</td>\n",
              "      <td>0.0</td>\n",
              "    </tr>\n",
              "  </tbody>\n",
              "</table>\n",
              "</div>\n",
              "      <button class=\"colab-df-convert\" onclick=\"convertToInteractive('df-621a20c3-1b0b-49fd-ad70-5faa32b52a87')\"\n",
              "              title=\"Convert this dataframe to an interactive table.\"\n",
              "              style=\"display:none;\">\n",
              "        \n",
              "  <svg xmlns=\"http://www.w3.org/2000/svg\" height=\"24px\"viewBox=\"0 0 24 24\"\n",
              "       width=\"24px\">\n",
              "    <path d=\"M0 0h24v24H0V0z\" fill=\"none\"/>\n",
              "    <path d=\"M18.56 5.44l.94 2.06.94-2.06 2.06-.94-2.06-.94-.94-2.06-.94 2.06-2.06.94zm-11 1L8.5 8.5l.94-2.06 2.06-.94-2.06-.94L8.5 2.5l-.94 2.06-2.06.94zm10 10l.94 2.06.94-2.06 2.06-.94-2.06-.94-.94-2.06-.94 2.06-2.06.94z\"/><path d=\"M17.41 7.96l-1.37-1.37c-.4-.4-.92-.59-1.43-.59-.52 0-1.04.2-1.43.59L10.3 9.45l-7.72 7.72c-.78.78-.78 2.05 0 2.83L4 21.41c.39.39.9.59 1.41.59.51 0 1.02-.2 1.41-.59l7.78-7.78 2.81-2.81c.8-.78.8-2.07 0-2.86zM5.41 20L4 18.59l7.72-7.72 1.47 1.35L5.41 20z\"/>\n",
              "  </svg>\n",
              "      </button>\n",
              "      \n",
              "  <style>\n",
              "    .colab-df-container {\n",
              "      display:flex;\n",
              "      flex-wrap:wrap;\n",
              "      gap: 12px;\n",
              "    }\n",
              "\n",
              "    .colab-df-convert {\n",
              "      background-color: #E8F0FE;\n",
              "      border: none;\n",
              "      border-radius: 50%;\n",
              "      cursor: pointer;\n",
              "      display: none;\n",
              "      fill: #1967D2;\n",
              "      height: 32px;\n",
              "      padding: 0 0 0 0;\n",
              "      width: 32px;\n",
              "    }\n",
              "\n",
              "    .colab-df-convert:hover {\n",
              "      background-color: #E2EBFA;\n",
              "      box-shadow: 0px 1px 2px rgba(60, 64, 67, 0.3), 0px 1px 3px 1px rgba(60, 64, 67, 0.15);\n",
              "      fill: #174EA6;\n",
              "    }\n",
              "\n",
              "    [theme=dark] .colab-df-convert {\n",
              "      background-color: #3B4455;\n",
              "      fill: #D2E3FC;\n",
              "    }\n",
              "\n",
              "    [theme=dark] .colab-df-convert:hover {\n",
              "      background-color: #434B5C;\n",
              "      box-shadow: 0px 1px 3px 1px rgba(0, 0, 0, 0.15);\n",
              "      filter: drop-shadow(0px 1px 2px rgba(0, 0, 0, 0.3));\n",
              "      fill: #FFFFFF;\n",
              "    }\n",
              "  </style>\n",
              "\n",
              "      <script>\n",
              "        const buttonEl =\n",
              "          document.querySelector('#df-621a20c3-1b0b-49fd-ad70-5faa32b52a87 button.colab-df-convert');\n",
              "        buttonEl.style.display =\n",
              "          google.colab.kernel.accessAllowed ? 'block' : 'none';\n",
              "\n",
              "        async function convertToInteractive(key) {\n",
              "          const element = document.querySelector('#df-621a20c3-1b0b-49fd-ad70-5faa32b52a87');\n",
              "          const dataTable =\n",
              "            await google.colab.kernel.invokeFunction('convertToInteractive',\n",
              "                                                     [key], {});\n",
              "          if (!dataTable) return;\n",
              "\n",
              "          const docLinkHtml = 'Like what you see? Visit the ' +\n",
              "            '<a target=\"_blank\" href=https://colab.research.google.com/notebooks/data_table.ipynb>data table notebook</a>'\n",
              "            + ' to learn more about interactive tables.';\n",
              "          element.innerHTML = '';\n",
              "          dataTable['output_type'] = 'display_data';\n",
              "          await google.colab.output.renderOutput(dataTable, element);\n",
              "          const docLink = document.createElement('div');\n",
              "          docLink.innerHTML = docLinkHtml;\n",
              "          element.appendChild(docLink);\n",
              "        }\n",
              "      </script>\n",
              "    </div>\n",
              "  </div>\n",
              "  "
            ],
            "text/plain": [
              "   PREGNANCIES  ...  NEW_BP_CAT_HIGH PRESSURE\n",
              "0          0.6  ...                       0.0\n",
              "1         -0.4  ...                       0.0\n",
              "2          1.0  ...                       0.0\n",
              "3         -0.4  ...                       0.0\n",
              "4         -0.6  ...                       0.0\n",
              "\n",
              "[5 rows x 18 columns]"
            ]
          },
          "metadata": {},
          "execution_count": 29
        }
      ]
    },
    {
      "cell_type": "markdown",
      "source": [
        "Build Models"
      ],
      "metadata": {
        "id": "AAZJCpzm1hVs"
      }
    },
    {
      "cell_type": "code",
      "source": [
        "X = df.drop(\"OUTCOME\",axis=1)\n",
        "y = df[\"OUTCOME\"] #We will predict Outcome(diabetes) "
      ],
      "metadata": {
        "id": "pe6pzDrE1S12"
      },
      "execution_count": 113,
      "outputs": []
    },
    {
      "cell_type": "code",
      "source": [
        "#Split our dataset\n",
        "X_train = X.iloc[:600]\n",
        "X_test = X.iloc[600:]\n",
        "y_train = y[:600]\n",
        "y_test = y[600:]\n",
        "\n",
        "print(\"X_train Shape: \",X_train.shape)\n",
        "print(\"X_test Shape: \",X_test.shape)\n",
        "print(\"y_train Shape: \",y_train.shape)\n",
        "print(\"y_test Shape: \",y_test.shape)"
      ],
      "metadata": {
        "colab": {
          "base_uri": "https://localhost:8080/"
        },
        "id": "QejldT-629It",
        "outputId": "4c86d8cc-fa20-47a9-f894-4c6b6bd4abe4"
      },
      "execution_count": 114,
      "outputs": [
        {
          "output_type": "stream",
          "name": "stdout",
          "text": [
            "X_train Shape:  (600, 17)\n",
            "X_test Shape:  (168, 17)\n",
            "y_train Shape:  (600,)\n",
            "y_test Shape:  (168,)\n"
          ]
        }
      ]
    },
    {
      "cell_type": "code",
      "source": [
        "logistic_regression = LogisticRegression(random_state=0,solver=\"liblinear\").fit(X_train,y_train)\n",
        "logistic_regression"
      ],
      "metadata": {
        "colab": {
          "base_uri": "https://localhost:8080/"
        },
        "id": "vfghj4V73SZ3",
        "outputId": "9cadae80-ad91-4f17-bdcc-cec20779746b"
      },
      "execution_count": 115,
      "outputs": [
        {
          "output_type": "execute_result",
          "data": {
            "text/plain": [
              "LogisticRegression(random_state=0, solver='liblinear')"
            ]
          },
          "metadata": {},
          "execution_count": 115
        }
      ]
    },
    {
      "cell_type": "code",
      "source": [
        "#saving the model\n",
        "dump(logistic_regression,\"logistic_Regression_model.joblib\")"
      ],
      "metadata": {
        "colab": {
          "base_uri": "https://localhost:8080/"
        },
        "id": "aOsEG0t23V8a",
        "outputId": "6f4b7d79-60ea-4872-d1ab-4316046e186c"
      },
      "execution_count": 116,
      "outputs": [
        {
          "output_type": "execute_result",
          "data": {
            "text/plain": [
              "['logistic_Regression_model.joblib']"
            ]
          },
          "metadata": {},
          "execution_count": 116
        }
      ]
    },
    {
      "cell_type": "code",
      "source": [
        "logistic_regression.coef_"
      ],
      "metadata": {
        "colab": {
          "base_uri": "https://localhost:8080/"
        },
        "id": "2l0W75kw3aUN",
        "outputId": "5537c10b-0aa4-42af-de3e-45b44702b9b3"
      },
      "execution_count": 117,
      "outputs": [
        {
          "output_type": "execute_result",
          "data": {
            "text/plain": [
              "array([[-0.13334649,  1.83273322, -0.06791378, -0.00711517,  0.11520352,\n",
              "         0.46191575,  0.38640007, -0.70948569,  0.03516996,  0.50458082,\n",
              "        -0.70998311, -0.8350627 ,  0.0853115 ,  0.86182612, -0.05071553,\n",
              "        -0.01683821,  0.11756568]])"
            ]
          },
          "metadata": {},
          "execution_count": 117
        }
      ]
    },
    {
      "cell_type": "code",
      "source": [
        "lr_statsmodel = sm.Logit(y_train,X_train).fit()"
      ],
      "metadata": {
        "colab": {
          "base_uri": "https://localhost:8080/"
        },
        "id": "Wq0JpHG43dMi",
        "outputId": "7533c5e1-fbb6-4e08-e08d-88bfb8a7bf0b"
      },
      "execution_count": 118,
      "outputs": [
        {
          "output_type": "stream",
          "name": "stdout",
          "text": [
            "Warning: Maximum number of iterations has been exceeded.\n",
            "         Current function value: 0.451963\n",
            "         Iterations: 35\n"
          ]
        },
        {
          "output_type": "stream",
          "name": "stderr",
          "text": [
            "/usr/local/lib/python3.7/dist-packages/statsmodels/base/model.py:512: ConvergenceWarning: Maximum Likelihood optimization failed to converge. Check mle_retvals\n",
            "  \"Check mle_retvals\", ConvergenceWarning)\n"
          ]
        }
      ]
    },
    {
      "cell_type": "code",
      "source": [
        "lr_statsmodel.summary()"
      ],
      "metadata": {
        "colab": {
          "base_uri": "https://localhost:8080/",
          "height": 572
        },
        "id": "vFIYpGYj3uX5",
        "outputId": "1b6a51e8-264d-40bb-ae1b-b7c11b0b4c5c"
      },
      "execution_count": 119,
      "outputs": [
        {
          "output_type": "execute_result",
          "data": {
            "text/html": [
              "<table class=\"simpletable\">\n",
              "<caption>Logit Regression Results</caption>\n",
              "<tr>\n",
              "  <th>Dep. Variable:</th>        <td>OUTCOME</td>     <th>  No. Observations:  </th>  <td>   600</td>  \n",
              "</tr>\n",
              "<tr>\n",
              "  <th>Model:</th>                 <td>Logit</td>      <th>  Df Residuals:      </th>  <td>   583</td>  \n",
              "</tr>\n",
              "<tr>\n",
              "  <th>Method:</th>                 <td>MLE</td>       <th>  Df Model:          </th>  <td>    16</td>  \n",
              "</tr>\n",
              "<tr>\n",
              "  <th>Date:</th>            <td>Mon, 17 Jan 2022</td> <th>  Pseudo R-squ.:     </th>  <td>0.2997</td>  \n",
              "</tr>\n",
              "<tr>\n",
              "  <th>Time:</th>                <td>11:49:31</td>     <th>  Log-Likelihood:    </th> <td> -271.18</td> \n",
              "</tr>\n",
              "<tr>\n",
              "  <th>converged:</th>             <td>False</td>      <th>  LL-Null:           </th> <td> -387.22</td> \n",
              "</tr>\n",
              "<tr>\n",
              "  <th>Covariance Type:</th>     <td>nonrobust</td>    <th>  LLR p-value:       </th> <td>2.410e-40</td>\n",
              "</tr>\n",
              "</table>\n",
              "<table class=\"simpletable\">\n",
              "<tr>\n",
              "                 <td></td>                    <th>coef</th>     <th>std err</th>      <th>z</th>      <th>P>|z|</th>  <th>[0.025</th>    <th>0.975]</th>  \n",
              "</tr>\n",
              "<tr>\n",
              "  <th>PREGNANCIES</th>                     <td>   -1.0615</td> <td>    0.594</td> <td>   -1.786</td> <td> 0.074</td> <td>   -2.227</td> <td>    0.104</td>\n",
              "</tr>\n",
              "<tr>\n",
              "  <th>GLUCOSE</th>                         <td>    2.1060</td> <td>    0.298</td> <td>    7.069</td> <td> 0.000</td> <td>    1.522</td> <td>    2.690</td>\n",
              "</tr>\n",
              "<tr>\n",
              "  <th>BLOODPRESSURE</th>                   <td>    0.1415</td> <td>    0.234</td> <td>    0.606</td> <td> 0.545</td> <td>   -0.316</td> <td>    0.599</td>\n",
              "</tr>\n",
              "<tr>\n",
              "  <th>SKINTHICKNESS</th>                   <td>   -0.0181</td> <td>    0.105</td> <td>   -0.172</td> <td> 0.863</td> <td>   -0.224</td> <td>    0.188</td>\n",
              "</tr>\n",
              "<tr>\n",
              "  <th>INSULIN</th>                         <td>    0.1611</td> <td>    0.049</td> <td>    3.298</td> <td> 0.001</td> <td>    0.065</td> <td>    0.257</td>\n",
              "</tr>\n",
              "<tr>\n",
              "  <th>BMI</th>                             <td>    0.2323</td> <td>    0.351</td> <td>    0.662</td> <td> 0.508</td> <td>   -0.456</td> <td>    0.921</td>\n",
              "</tr>\n",
              "<tr>\n",
              "  <th>DIABETESPEDIGREEFUNCTION</th>        <td>    0.3512</td> <td>    0.128</td> <td>    2.746</td> <td> 0.006</td> <td>    0.101</td> <td>    0.602</td>\n",
              "</tr>\n",
              "<tr>\n",
              "  <th>INSULIN/AGE</th>                     <td>   -0.8372</td> <td>    0.361</td> <td>   -2.320</td> <td> 0.020</td> <td>   -1.545</td> <td>   -0.130</td>\n",
              "</tr>\n",
              "<tr>\n",
              "  <th>BMI/AGE</th>                         <td>   -0.2172</td> <td>    0.415</td> <td>   -0.523</td> <td> 0.601</td> <td>   -1.030</td> <td>    0.596</td>\n",
              "</tr>\n",
              "<tr>\n",
              "  <th>PREGNANCIES/AGE</th>                 <td>    1.1434</td> <td>    0.534</td> <td>    2.141</td> <td> 0.032</td> <td>    0.097</td> <td>    2.190</td>\n",
              "</tr>\n",
              "<tr>\n",
              "  <th>INS*GLU</th>                         <td>   -1.1101</td> <td>    0.372</td> <td>   -2.983</td> <td> 0.003</td> <td>   -1.840</td> <td>   -0.381</td>\n",
              "</tr>\n",
              "<tr>\n",
              "  <th>NEW_BMI_CAT_NORMALY WEIGHT</th>      <td>   13.9314</td> <td> 4522.656</td> <td>    0.003</td> <td> 0.998</td> <td>-8850.312</td> <td> 8878.175</td>\n",
              "</tr>\n",
              "<tr>\n",
              "  <th>NEW_BMI_CAT_OVER WEIGHT</th>         <td>   15.2711</td> <td> 4522.656</td> <td>    0.003</td> <td> 0.997</td> <td>-8848.972</td> <td> 8879.514</td>\n",
              "</tr>\n",
              "<tr>\n",
              "  <th>NEW_BMI_CAT_OBESE</th>               <td>   16.7560</td> <td> 4522.656</td> <td>    0.004</td> <td> 0.997</td> <td>-8847.487</td> <td> 8880.999</td>\n",
              "</tr>\n",
              "<tr>\n",
              "  <th>NEW_BP_CAT_NORMAL PRESSURE</th>      <td>   -0.5435</td> <td>    0.445</td> <td>   -1.223</td> <td> 0.222</td> <td>   -1.415</td> <td>    0.328</td>\n",
              "</tr>\n",
              "<tr>\n",
              "  <th>NEW_BP_CAT_HIGH-NORMAL PRESSURE</th> <td>   -0.5070</td> <td>    0.425</td> <td>   -1.192</td> <td> 0.233</td> <td>   -1.341</td> <td>    0.327</td>\n",
              "</tr>\n",
              "<tr>\n",
              "  <th>NEW_BP_CAT_HIGH PRESSURE</th>        <td>   -0.4995</td> <td>    0.645</td> <td>   -0.775</td> <td> 0.438</td> <td>   -1.763</td> <td>    0.764</td>\n",
              "</tr>\n",
              "</table>"
            ],
            "text/plain": [
              "<class 'statsmodels.iolib.summary.Summary'>\n",
              "\"\"\"\n",
              "                           Logit Regression Results                           \n",
              "==============================================================================\n",
              "Dep. Variable:                OUTCOME   No. Observations:                  600\n",
              "Model:                          Logit   Df Residuals:                      583\n",
              "Method:                           MLE   Df Model:                           16\n",
              "Date:                Mon, 17 Jan 2022   Pseudo R-squ.:                  0.2997\n",
              "Time:                        11:49:31   Log-Likelihood:                -271.18\n",
              "converged:                      False   LL-Null:                       -387.22\n",
              "Covariance Type:            nonrobust   LLR p-value:                 2.410e-40\n",
              "===================================================================================================\n",
              "                                      coef    std err          z      P>|z|      [0.025      0.975]\n",
              "---------------------------------------------------------------------------------------------------\n",
              "PREGNANCIES                        -1.0615      0.594     -1.786      0.074      -2.227       0.104\n",
              "GLUCOSE                             2.1060      0.298      7.069      0.000       1.522       2.690\n",
              "BLOODPRESSURE                       0.1415      0.234      0.606      0.545      -0.316       0.599\n",
              "SKINTHICKNESS                      -0.0181      0.105     -0.172      0.863      -0.224       0.188\n",
              "INSULIN                             0.1611      0.049      3.298      0.001       0.065       0.257\n",
              "BMI                                 0.2323      0.351      0.662      0.508      -0.456       0.921\n",
              "DIABETESPEDIGREEFUNCTION            0.3512      0.128      2.746      0.006       0.101       0.602\n",
              "INSULIN/AGE                        -0.8372      0.361     -2.320      0.020      -1.545      -0.130\n",
              "BMI/AGE                            -0.2172      0.415     -0.523      0.601      -1.030       0.596\n",
              "PREGNANCIES/AGE                     1.1434      0.534      2.141      0.032       0.097       2.190\n",
              "INS*GLU                            -1.1101      0.372     -2.983      0.003      -1.840      -0.381\n",
              "NEW_BMI_CAT_NORMALY WEIGHT         13.9314   4522.656      0.003      0.998   -8850.312    8878.175\n",
              "NEW_BMI_CAT_OVER WEIGHT            15.2711   4522.656      0.003      0.997   -8848.972    8879.514\n",
              "NEW_BMI_CAT_OBESE                  16.7560   4522.656      0.004      0.997   -8847.487    8880.999\n",
              "NEW_BP_CAT_NORMAL PRESSURE         -0.5435      0.445     -1.223      0.222      -1.415       0.328\n",
              "NEW_BP_CAT_HIGH-NORMAL PRESSURE    -0.5070      0.425     -1.192      0.233      -1.341       0.327\n",
              "NEW_BP_CAT_HIGH PRESSURE           -0.4995      0.645     -0.775      0.438      -1.763       0.764\n",
              "===================================================================================================\n",
              "\"\"\""
            ]
          },
          "metadata": {},
          "execution_count": 119
        }
      ]
    },
    {
      "cell_type": "code",
      "source": [
        "y_pred = logistic_regression.predict(X_test)"
      ],
      "metadata": {
        "id": "BSADmKiG33zV"
      },
      "execution_count": 120,
      "outputs": []
    },
    {
      "cell_type": "code",
      "source": [
        "cm = confusion_matrix(y_test,y_pred)\n",
        "cm"
      ],
      "metadata": {
        "colab": {
          "base_uri": "https://localhost:8080/"
        },
        "id": "5DrjNOPu36aQ",
        "outputId": "8f26de6d-9b03-4d30-c571-cb0db9ef051b"
      },
      "execution_count": 122,
      "outputs": [
        {
          "output_type": "execute_result",
          "data": {
            "text/plain": [
              "array([[95, 13],\n",
              "       [27, 33]])"
            ]
          },
          "metadata": {},
          "execution_count": 122
        }
      ]
    },
    {
      "cell_type": "code",
      "source": [
        "print(classification_report(y_test,y_pred))"
      ],
      "metadata": {
        "colab": {
          "base_uri": "https://localhost:8080/"
        },
        "id": "--Pe9Yk74FBH",
        "outputId": "eb491618-eeeb-465b-9f7a-a0aecef7fc98"
      },
      "execution_count": 123,
      "outputs": [
        {
          "output_type": "stream",
          "name": "stdout",
          "text": [
            "              precision    recall  f1-score   support\n",
            "\n",
            "         0.0       0.78      0.88      0.83       108\n",
            "         1.0       0.72      0.55      0.62        60\n",
            "\n",
            "    accuracy                           0.76       168\n",
            "   macro avg       0.75      0.71      0.72       168\n",
            "weighted avg       0.76      0.76      0.75       168\n",
            "\n"
          ]
        }
      ]
    },
    {
      "cell_type": "code",
      "source": [
        "# We will try to tune our model by using K-Fold Cross Validation\n",
        "accuracies= cross_val_score(estimator=logistic_regression,\n",
        "                            X=X_train,y=y_train,\n",
        "                            cv=10)\n",
        "print(\"Average Accuracy: {:.2f} %\".format(accuracies.mean()*100))\n",
        "print(\"Standart Deviation of Accuracies: {:.2f} %\".format(accuracies.std()*100))"
      ],
      "metadata": {
        "colab": {
          "base_uri": "https://localhost:8080/"
        },
        "id": "RdChEoRz4Xx0",
        "outputId": "a7493723-7964-4d94-bced-528e3d6f0c2e"
      },
      "execution_count": 124,
      "outputs": [
        {
          "output_type": "stream",
          "name": "stdout",
          "text": [
            "Average Accuracy: 78.00 %\n",
            "Standart Deviation of Accuracies: 3.93 %\n"
          ]
        }
      ]
    },
    {
      "cell_type": "code",
      "source": [
        "# We want to get probabilites of each classes\n",
        "results =pd.DataFrame(logistic_regression.predict_proba(X_test)[:10],\n",
        "             columns=[\"Possibility of 0\",\"Possibility of 1\"])\n",
        "\n",
        "results[\"Class\"]=[1 if i>0.5 else 0 for i in results[\"Possibility of 1\"]]\n",
        "results.head()"
      ],
      "metadata": {
        "colab": {
          "base_uri": "https://localhost:8080/",
          "height": 206
        },
        "id": "JbXrJd2D4ea-",
        "outputId": "ed51097c-7cf2-441d-ccb7-43fae79257b2"
      },
      "execution_count": 125,
      "outputs": [
        {
          "output_type": "execute_result",
          "data": {
            "text/html": [
              "\n",
              "  <div id=\"df-be506b26-5ec3-491b-81a6-29a4298a6009\">\n",
              "    <div class=\"colab-df-container\">\n",
              "      <div>\n",
              "<style scoped>\n",
              "    .dataframe tbody tr th:only-of-type {\n",
              "        vertical-align: middle;\n",
              "    }\n",
              "\n",
              "    .dataframe tbody tr th {\n",
              "        vertical-align: top;\n",
              "    }\n",
              "\n",
              "    .dataframe thead th {\n",
              "        text-align: right;\n",
              "    }\n",
              "</style>\n",
              "<table border=\"1\" class=\"dataframe\">\n",
              "  <thead>\n",
              "    <tr style=\"text-align: right;\">\n",
              "      <th></th>\n",
              "      <th>Possibility of 0</th>\n",
              "      <th>Possibility of 1</th>\n",
              "      <th>Class</th>\n",
              "    </tr>\n",
              "  </thead>\n",
              "  <tbody>\n",
              "    <tr>\n",
              "      <th>0</th>\n",
              "      <td>0.933517</td>\n",
              "      <td>0.066483</td>\n",
              "      <td>0</td>\n",
              "    </tr>\n",
              "    <tr>\n",
              "      <th>1</th>\n",
              "      <td>0.972109</td>\n",
              "      <td>0.027891</td>\n",
              "      <td>0</td>\n",
              "    </tr>\n",
              "    <tr>\n",
              "      <th>2</th>\n",
              "      <td>0.886310</td>\n",
              "      <td>0.113690</td>\n",
              "      <td>0</td>\n",
              "    </tr>\n",
              "    <tr>\n",
              "      <th>3</th>\n",
              "      <td>0.211694</td>\n",
              "      <td>0.788306</td>\n",
              "      <td>1</td>\n",
              "    </tr>\n",
              "    <tr>\n",
              "      <th>4</th>\n",
              "      <td>0.355032</td>\n",
              "      <td>0.644968</td>\n",
              "      <td>1</td>\n",
              "    </tr>\n",
              "  </tbody>\n",
              "</table>\n",
              "</div>\n",
              "      <button class=\"colab-df-convert\" onclick=\"convertToInteractive('df-be506b26-5ec3-491b-81a6-29a4298a6009')\"\n",
              "              title=\"Convert this dataframe to an interactive table.\"\n",
              "              style=\"display:none;\">\n",
              "        \n",
              "  <svg xmlns=\"http://www.w3.org/2000/svg\" height=\"24px\"viewBox=\"0 0 24 24\"\n",
              "       width=\"24px\">\n",
              "    <path d=\"M0 0h24v24H0V0z\" fill=\"none\"/>\n",
              "    <path d=\"M18.56 5.44l.94 2.06.94-2.06 2.06-.94-2.06-.94-.94-2.06-.94 2.06-2.06.94zm-11 1L8.5 8.5l.94-2.06 2.06-.94-2.06-.94L8.5 2.5l-.94 2.06-2.06.94zm10 10l.94 2.06.94-2.06 2.06-.94-2.06-.94-.94-2.06-.94 2.06-2.06.94z\"/><path d=\"M17.41 7.96l-1.37-1.37c-.4-.4-.92-.59-1.43-.59-.52 0-1.04.2-1.43.59L10.3 9.45l-7.72 7.72c-.78.78-.78 2.05 0 2.83L4 21.41c.39.39.9.59 1.41.59.51 0 1.02-.2 1.41-.59l7.78-7.78 2.81-2.81c.8-.78.8-2.07 0-2.86zM5.41 20L4 18.59l7.72-7.72 1.47 1.35L5.41 20z\"/>\n",
              "  </svg>\n",
              "      </button>\n",
              "      \n",
              "  <style>\n",
              "    .colab-df-container {\n",
              "      display:flex;\n",
              "      flex-wrap:wrap;\n",
              "      gap: 12px;\n",
              "    }\n",
              "\n",
              "    .colab-df-convert {\n",
              "      background-color: #E8F0FE;\n",
              "      border: none;\n",
              "      border-radius: 50%;\n",
              "      cursor: pointer;\n",
              "      display: none;\n",
              "      fill: #1967D2;\n",
              "      height: 32px;\n",
              "      padding: 0 0 0 0;\n",
              "      width: 32px;\n",
              "    }\n",
              "\n",
              "    .colab-df-convert:hover {\n",
              "      background-color: #E2EBFA;\n",
              "      box-shadow: 0px 1px 2px rgba(60, 64, 67, 0.3), 0px 1px 3px 1px rgba(60, 64, 67, 0.15);\n",
              "      fill: #174EA6;\n",
              "    }\n",
              "\n",
              "    [theme=dark] .colab-df-convert {\n",
              "      background-color: #3B4455;\n",
              "      fill: #D2E3FC;\n",
              "    }\n",
              "\n",
              "    [theme=dark] .colab-df-convert:hover {\n",
              "      background-color: #434B5C;\n",
              "      box-shadow: 0px 1px 3px 1px rgba(0, 0, 0, 0.15);\n",
              "      filter: drop-shadow(0px 1px 2px rgba(0, 0, 0, 0.3));\n",
              "      fill: #FFFFFF;\n",
              "    }\n",
              "  </style>\n",
              "\n",
              "      <script>\n",
              "        const buttonEl =\n",
              "          document.querySelector('#df-be506b26-5ec3-491b-81a6-29a4298a6009 button.colab-df-convert');\n",
              "        buttonEl.style.display =\n",
              "          google.colab.kernel.accessAllowed ? 'block' : 'none';\n",
              "\n",
              "        async function convertToInteractive(key) {\n",
              "          const element = document.querySelector('#df-be506b26-5ec3-491b-81a6-29a4298a6009');\n",
              "          const dataTable =\n",
              "            await google.colab.kernel.invokeFunction('convertToInteractive',\n",
              "                                                     [key], {});\n",
              "          if (!dataTable) return;\n",
              "\n",
              "          const docLinkHtml = 'Like what you see? Visit the ' +\n",
              "            '<a target=\"_blank\" href=https://colab.research.google.com/notebooks/data_table.ipynb>data table notebook</a>'\n",
              "            + ' to learn more about interactive tables.';\n",
              "          element.innerHTML = '';\n",
              "          dataTable['output_type'] = 'display_data';\n",
              "          await google.colab.output.renderOutput(dataTable, element);\n",
              "          const docLink = document.createElement('div');\n",
              "          docLink.innerHTML = docLinkHtml;\n",
              "          element.appendChild(docLink);\n",
              "        }\n",
              "      </script>\n",
              "    </div>\n",
              "  </div>\n",
              "  "
            ],
            "text/plain": [
              "   Possibility of 0  Possibility of 1  Class\n",
              "0          0.933517          0.066483      0\n",
              "1          0.972109          0.027891      0\n",
              "2          0.886310          0.113690      0\n",
              "3          0.211694          0.788306      1\n",
              "4          0.355032          0.644968      1"
            ]
          },
          "metadata": {},
          "execution_count": 125
        }
      ]
    },
    {
      "cell_type": "code",
      "source": [
        "# Roc Curve\n",
        "logistic_regression = LogisticRegression(random_state=0,solver=\"liblinear\").fit(X,y)\n",
        "\n",
        "logistic_regression_roc = roc_auc_score(y,logistic_regression.predict(X))\n",
        "\n",
        "fp,tp,trshld = roc_curve(y,logistic_regression.predict_proba(X)[:,1])\n",
        "plt.figure()\n",
        "plt.plot(fp,tp,label=\"Area Under Curve(AUC)\" %logistic_regression_roc)\n",
        "plt.plot([0,1],[0,1],\"r--\")\n",
        "plt.xlim([0.0,1.0])\n",
        "plt.ylim([0.0,1.05])\n",
        "plt.xlabel(\"False Positive Rate\")\n",
        "plt.ylabel(\"True Positive Rate\")\n",
        "plt.title(\"Receiver Operating Characteristic(ROC)\")\n",
        "plt.show()"
      ],
      "metadata": {
        "colab": {
          "base_uri": "https://localhost:8080/",
          "height": 301
        },
        "id": "c5CGq8ZV4rp5",
        "outputId": "b6a4ea44-5c81-4686-969e-75694ebab5d5"
      },
      "execution_count": 126,
      "outputs": [
        {
          "output_type": "display_data",
          "data": {
            "image/png": "[encoded data removed]",
            "text/plain": [
              "<Figure size 432x288 with 1 Axes>"
            ]
          },
          "metadata": {}
        }
      ]
    },
    {
      "cell_type": "code",
      "source": [
        "# We will tune our model with GridSearch.\n",
        "lg_params ={\"penalty\":[\"l1\", \"l2\", \"elasticnet\", \"none\"],\n",
        "            \"C\": list(range(10)),\n",
        "            \"solver\":[\"newton-cg\", \"lbfgs\", \"liblinear\", \"sag\", \"saga\"]}"
      ],
      "metadata": {
        "id": "dnDiOHSe43yn"
      },
      "execution_count": 127,
      "outputs": []
    },
    {
      "cell_type": "code",
      "source": [
        "logreg = LogisticRegression()\n",
        "logistic_regression_cv = GridSearchCV(logreg,lg_params,cv=8)"
      ],
      "metadata": {
        "id": "jIk_o_n_5BID"
      },
      "execution_count": 128,
      "outputs": []
    },
    {
      "cell_type": "code",
      "source": [
        "start_time = time.time()\n",
        "\n",
        "logistic_regression_cv.fit(X_train,y_train)\n",
        "\n",
        "elapsed_time = time.time() - start_time\n",
        "\n",
        "print(f\"Elapsed time for logistic_regression_cv cross validation: \"\n",
        "      f\"{elapsed_time:.3f} seconds\")"
      ],
      "metadata": {
        "id": "Uvm_dRod5Mjh"
      },
      "execution_count": null,
      "outputs": []
    },
    {
      "cell_type": "code",
      "source": [
        "#best score\n",
        "logistic_regression_cv.best_score_"
      ],
      "metadata": {
        "colab": {
          "base_uri": "https://localhost:8080/"
        },
        "id": "42M-_70z5ZGX",
        "outputId": "8eada0a7-c4d3-42a2-e8e4-30246dd0739f"
      },
      "execution_count": 130,
      "outputs": [
        {
          "output_type": "execute_result",
          "data": {
            "text/plain": [
              "0.7833333333333334"
            ]
          },
          "metadata": {},
          "execution_count": 130
        }
      ]
    },
    {
      "cell_type": "code",
      "source": [
        "#best parameters\n",
        "logistic_regression_cv.best_params_"
      ],
      "metadata": {
        "colab": {
          "base_uri": "https://localhost:8080/"
        },
        "id": "e2suaB-f5jRL",
        "outputId": "440efc5a-54d2-4239-ff36-3814cbadf4f8"
      },
      "execution_count": 131,
      "outputs": [
        {
          "output_type": "execute_result",
          "data": {
            "text/plain": [
              "{'C': 1, 'penalty': 'l1', 'solver': 'liblinear'}"
            ]
          },
          "metadata": {},
          "execution_count": 131
        }
      ]
    },
    {
      "cell_type": "code",
      "source": [
        "logreg_tuned = LogisticRegression(C= 1, penalty= \"l2\", solver= \"lbfgs\").fit(X_train,y_train)\n",
        "logreg_tuned"
      ],
      "metadata": {
        "id": "ZD-sfXPf5lwN"
      },
      "execution_count": null,
      "outputs": []
    },
    {
      "cell_type": "code",
      "source": [
        "y_pred = logreg_tuned.predict(X_test)\n",
        "cm = confusion_matrix(y_test,y_pred)\n",
        "cm"
      ],
      "metadata": {
        "colab": {
          "base_uri": "https://localhost:8080/"
        },
        "id": "TDmgg7Xy5tvl",
        "outputId": "6d5adac6-1862-429b-f084-0d83833f7774"
      },
      "execution_count": 133,
      "outputs": [
        {
          "output_type": "execute_result",
          "data": {
            "text/plain": [
              "array([[96, 12],\n",
              "       [27, 33]])"
            ]
          },
          "metadata": {},
          "execution_count": 133
        }
      ]
    },
    {
      "cell_type": "code",
      "source": [
        "print(classification_report(y_test,y_pred))"
      ],
      "metadata": {
        "colab": {
          "base_uri": "https://localhost:8080/"
        },
        "id": "t_0ymLcE5xgX",
        "outputId": "ced23fa0-df32-4f5f-d9d9-9ac7be1a7ac7"
      },
      "execution_count": 134,
      "outputs": [
        {
          "output_type": "stream",
          "name": "stdout",
          "text": [
            "              precision    recall  f1-score   support\n",
            "\n",
            "         0.0       0.78      0.89      0.83       108\n",
            "         1.0       0.73      0.55      0.63        60\n",
            "\n",
            "    accuracy                           0.77       168\n",
            "   macro avg       0.76      0.72      0.73       168\n",
            "weighted avg       0.76      0.77      0.76       168\n",
            "\n"
          ]
        }
      ]
    },
    {
      "cell_type": "code",
      "source": [
        "# Support Vector Machines\n",
        "\n",
        "X = df.drop(\"OUTCOME\",axis=1)\n",
        "y= df[\"OUTCOME\"] #We will predict Outcome(diabetes) "
      ],
      "metadata": {
        "id": "ZXsALfLA6N5Z"
      },
      "execution_count": 136,
      "outputs": []
    },
    {
      "cell_type": "code",
      "source": [
        "X_train = X.iloc[:600]\n",
        "X_test = X.iloc[600:]\n",
        "y_train = y[:600]\n",
        "y_test = y[600:]\n",
        "\n",
        "print(\"X_train Shape: \",X_train.shape)\n",
        "print(\"X_test Shape: \",X_test.shape)\n",
        "print(\"y_train Shape: \",y_train.shape)\n",
        "print(\"y_test Shape: \",y_test.shape)"
      ],
      "metadata": {
        "colab": {
          "base_uri": "https://localhost:8080/"
        },
        "id": "rennI0y66c76",
        "outputId": "d48a220f-6818-4d60-9659-792b922da057"
      },
      "execution_count": 137,
      "outputs": [
        {
          "output_type": "stream",
          "name": "stdout",
          "text": [
            "X_train Shape:  (600, 17)\n",
            "X_test Shape:  (168, 17)\n",
            "y_train Shape:  (600,)\n",
            "y_test Shape:  (168,)\n"
          ]
        }
      ]
    },
    {
      "cell_type": "code",
      "source": [
        "support_vector_classifier = SVC(kernel=\"linear\").fit(X_train,y_train)"
      ],
      "metadata": {
        "id": "mRXz8dkK6iwf"
      },
      "execution_count": 138,
      "outputs": []
    },
    {
      "cell_type": "code",
      "source": [
        "# Default C\n",
        "support_vector_classifier.C"
      ],
      "metadata": {
        "colab": {
          "base_uri": "https://localhost:8080/"
        },
        "id": "0eNpFaDC6ljF",
        "outputId": "c1bb5773-d010-477e-9034-1dfe1157cf81"
      },
      "execution_count": 139,
      "outputs": [
        {
          "output_type": "execute_result",
          "data": {
            "text/plain": [
              "1.0"
            ]
          },
          "metadata": {},
          "execution_count": 139
        }
      ]
    },
    {
      "cell_type": "code",
      "source": [
        "y_pred = support_vector_classifier.predict(X_test)\n",
        "cm = confusion_matrix(y_test,y_pred)\n",
        "print(classification_report(y_test,y_pred))"
      ],
      "metadata": {
        "colab": {
          "base_uri": "https://localhost:8080/"
        },
        "id": "SHMrAhDJ6mUq",
        "outputId": "5593d80a-22e6-4b59-b607-7710819e6012"
      },
      "execution_count": 140,
      "outputs": [
        {
          "output_type": "stream",
          "name": "stdout",
          "text": [
            "              precision    recall  f1-score   support\n",
            "\n",
            "         0.0       0.78      0.89      0.83       108\n",
            "         1.0       0.73      0.55      0.63        60\n",
            "\n",
            "    accuracy                           0.77       168\n",
            "   macro avg       0.76      0.72      0.73       168\n",
            "weighted avg       0.76      0.77      0.76       168\n",
            "\n"
          ]
        }
      ]
    },
    {
      "cell_type": "code",
      "source": [
        "accuracies= cross_val_score(estimator=support_vector_classifier,\n",
        "                            X=X_train,y=y_train,\n",
        "                            cv=10)\n",
        "print(\"Average Accuracy: {:.2f} %\".format(accuracies.mean()*100))\n",
        "print(\"Standart Deviation of Accuracies: {:.2f} %\".format(accuracies.std()*100))"
      ],
      "metadata": {
        "colab": {
          "base_uri": "https://localhost:8080/"
        },
        "id": "afQoO8lg6tTh",
        "outputId": "86d58e5e-5b66-42cb-e8be-1b90aee214ac"
      },
      "execution_count": 141,
      "outputs": [
        {
          "output_type": "stream",
          "name": "stdout",
          "text": [
            "Average Accuracy: 79.00 %\n",
            "Standart Deviation of Accuracies: 3.74 %\n"
          ]
        }
      ]
    },
    {
      "cell_type": "code",
      "source": [
        "svm_params ={\"C\":np.arange(1,5)}\n",
        "svm = SVC(kernel=\"linear\")\n",
        "svm_cv = GridSearchCV(svm,svm_params,cv=5,n_jobs =-1)"
      ],
      "metadata": {
        "id": "o82uZSxP6xpO"
      },
      "execution_count": 142,
      "outputs": []
    },
    {
      "cell_type": "code",
      "source": [
        "svm_cv.fit(X_train,y_train)\n",
        "svm_cv.best_score_"
      ],
      "metadata": {
        "colab": {
          "base_uri": "https://localhost:8080/"
        },
        "id": "IrDC8QEF64ZR",
        "outputId": "13ffdef5-285f-4634-a5db-4362c789228b"
      },
      "execution_count": 143,
      "outputs": [
        {
          "output_type": "execute_result",
          "data": {
            "text/plain": [
              "0.7699999999999999"
            ]
          },
          "metadata": {},
          "execution_count": 143
        }
      ]
    },
    {
      "cell_type": "code",
      "source": [
        "#best parameters\n",
        "svm_cv.best_params_"
      ],
      "metadata": {
        "colab": {
          "base_uri": "https://localhost:8080/"
        },
        "id": "JFniTR3U7P4i",
        "outputId": "037d8858-2f0c-491b-ab74-9d4c625324a4"
      },
      "execution_count": 144,
      "outputs": [
        {
          "output_type": "execute_result",
          "data": {
            "text/plain": [
              "{'C': 1}"
            ]
          },
          "metadata": {},
          "execution_count": 144
        }
      ]
    },
    {
      "cell_type": "code",
      "source": [
        "# SVM Radial Basis Kernel\n",
        "\n",
        "X = df.drop(\"OUTCOME\",axis=1)\n",
        "y= df[\"OUTCOME\"] #We will predict Outcome(diabetes) \n",
        "\n",
        "X_train = X.iloc[:600]\n",
        "X_test = X.iloc[600:]\n",
        "y_train = y[:600]\n",
        "y_test = y[600:]\n",
        "\n",
        "print(\"X_train Shape: \",X_train.shape)\n",
        "print(\"X_test Shape: \",X_test.shape)\n",
        "print(\"y_train Shape: \",y_train.shape)\n",
        "print(\"y_test Shape: \",y_test.shape)\n",
        "\n",
        "support_vector_classifier = SVC(kernel=\"rbf\").fit(X_train,y_train)\n",
        "\n",
        "y_pred = support_vector_classifier.predict(X_test)\n",
        "\n",
        "cm = confusion_matrix(y_test,y_pred)\n",
        "\n",
        "print(classification_report(y_test,y_pred))"
      ],
      "metadata": {
        "colab": {
          "base_uri": "https://localhost:8080/"
        },
        "id": "aEJVuRhw7ccO",
        "outputId": "73e9bc94-a4f2-470c-befa-c437a919a387"
      },
      "execution_count": 145,
      "outputs": [
        {
          "output_type": "stream",
          "name": "stdout",
          "text": [
            "X_train Shape:  (600, 17)\n",
            "X_test Shape:  (168, 17)\n",
            "y_train Shape:  (600,)\n",
            "y_test Shape:  (168,)\n",
            "              precision    recall  f1-score   support\n",
            "\n",
            "         0.0       0.74      0.85      0.79       108\n",
            "         1.0       0.64      0.47      0.54        60\n",
            "\n",
            "    accuracy                           0.71       168\n",
            "   macro avg       0.69      0.66      0.67       168\n",
            "weighted avg       0.70      0.71      0.70       168\n",
            "\n"
          ]
        }
      ]
    },
    {
      "cell_type": "code",
      "source": [
        "accuracies= cross_val_score(estimator=support_vector_classifier,\n",
        "                            X=X_train,y=y_train,\n",
        "                            cv=10)\n",
        "print(\"Average Accuracy: {:.2f} %\".format(accuracies.mean()*100))\n",
        "print(\"Standart Deviation of Accuracies: {:.2f} %\".format(accuracies.std()*100))"
      ],
      "metadata": {
        "colab": {
          "base_uri": "https://localhost:8080/"
        },
        "id": "WZKNlm4l75Ua",
        "outputId": "74f38e85-57c9-4224-e5e9-43d1ad756e2e"
      },
      "execution_count": 146,
      "outputs": [
        {
          "output_type": "stream",
          "name": "stdout",
          "text": [
            "Average Accuracy: 74.83 %\n",
            "Standart Deviation of Accuracies: 3.20 %\n"
          ]
        }
      ]
    },
    {
      "cell_type": "code",
      "source": [
        "svc_params ={\"C\":[0.0001,0.001,0.01,0.1,0.5,1,3,5,7,10,40,80,100],\n",
        "             \"gamma\":[0.0001,0.001,0.01,0.1,0.5,1,5,10,30,50,100]}\n",
        "\n",
        "svc = SVC(kernel=\"rbf\")\n",
        "svc_cv = GridSearchCV(svc,svc_params,cv=5,n_jobs=-1,verbose=2)"
      ],
      "metadata": {
        "id": "h6BeAW_X794e"
      },
      "execution_count": 147,
      "outputs": []
    },
    {
      "cell_type": "code",
      "source": [
        "svc_cv.fit(X_train,y_train)"
      ],
      "metadata": {
        "colab": {
          "base_uri": "https://localhost:8080/"
        },
        "id": "MBY4nzlA8MWM",
        "outputId": "e25e26fb-e234-4ee9-d982-701158aa3423"
      },
      "execution_count": 148,
      "outputs": [
        {
          "output_type": "stream",
          "name": "stdout",
          "text": [
            "Fitting 5 folds for each of 143 candidates, totalling 715 fits\n"
          ]
        },
        {
          "output_type": "execute_result",
          "data": {
            "text/plain": [
              "GridSearchCV(cv=5, estimator=SVC(), n_jobs=-1,\n",
              "             param_grid={'C': [0.0001, 0.001, 0.01, 0.1, 0.5, 1, 3, 5, 7, 10,\n",
              "                               40, 80, 100],\n",
              "                         'gamma': [0.0001, 0.001, 0.01, 0.1, 0.5, 1, 5, 10, 30,\n",
              "                                   50, 100]},\n",
              "             verbose=2)"
            ]
          },
          "metadata": {},
          "execution_count": 148
        }
      ]
    },
    {
      "cell_type": "code",
      "source": [
        "#best score\n",
        "svc_cv.best_score_"
      ],
      "metadata": {
        "colab": {
          "base_uri": "https://localhost:8080/"
        },
        "id": "Qlyyj8Ze8R-c",
        "outputId": "f7770eee-0cfb-4435-abe8-2cae68593a4f"
      },
      "execution_count": 149,
      "outputs": [
        {
          "output_type": "execute_result",
          "data": {
            "text/plain": [
              "0.7766666666666666"
            ]
          },
          "metadata": {},
          "execution_count": 149
        }
      ]
    },
    {
      "cell_type": "code",
      "source": [
        "#best parameters\n",
        "svc_cv.best_params_"
      ],
      "metadata": {
        "colab": {
          "base_uri": "https://localhost:8080/"
        },
        "id": "1YcpepQ88Txu",
        "outputId": "ea10c157-9bf9-4c81-d5d2-74f720a78a93"
      },
      "execution_count": 150,
      "outputs": [
        {
          "output_type": "execute_result",
          "data": {
            "text/plain": [
              "{'C': 7, 'gamma': 0.001}"
            ]
          },
          "metadata": {},
          "execution_count": 150
        }
      ]
    },
    {
      "cell_type": "code",
      "source": [
        "svc_tuned = SVC(kernel=\"rbf\", C=7, gamma=0.001).fit(X_train,y_train)"
      ],
      "metadata": {
        "id": "hjnZiqax8Zts"
      },
      "execution_count": 151,
      "outputs": []
    },
    {
      "cell_type": "code",
      "source": [
        "y_pred = svc_tuned.predict(X_test)"
      ],
      "metadata": {
        "id": "84kMfzAf8mvA"
      },
      "execution_count": 152,
      "outputs": []
    },
    {
      "cell_type": "code",
      "source": [
        "cm = confusion_matrix(y_test,y_pred)\n",
        "print(classification_report(y_test,y_pred))"
      ],
      "metadata": {
        "colab": {
          "base_uri": "https://localhost:8080/"
        },
        "id": "WhC2UtXI8qB0",
        "outputId": "8ffe95bf-e2e2-40c6-c6ae-08478c851259"
      },
      "execution_count": 153,
      "outputs": [
        {
          "output_type": "stream",
          "name": "stdout",
          "text": [
            "              precision    recall  f1-score   support\n",
            "\n",
            "         0.0       0.77      0.86      0.81       108\n",
            "         1.0       0.68      0.53      0.60        60\n",
            "\n",
            "    accuracy                           0.74       168\n",
            "   macro avg       0.72      0.70      0.71       168\n",
            "weighted avg       0.74      0.74      0.74       168\n",
            "\n"
          ]
        }
      ]
    },
    {
      "cell_type": "code",
      "source": [
        "# Decision Tree Classification\n",
        "\n",
        "X = df.drop(\"OUTCOME\",axis=1)\n",
        "y= df[\"OUTCOME\"] #We will predict Outcome(diabetes) \n",
        "\n",
        "X_train = X.iloc[:600]\n",
        "X_test = X.iloc[600:]\n",
        "y_train = y[:600]\n",
        "y_test = y[600:]\n",
        "\n",
        "print(\"X_train Shape: \",X_train.shape)\n",
        "print(\"X_test Shape: \",X_test.shape)\n",
        "print(\"y_train Shape: \",y_train.shape)\n",
        "print(\"y_test Shape: \",y_test.shape)\n",
        "\n",
        "decision_tree = DecisionTreeClassifier().fit(X_train,y_train)\n",
        "decision_tree.get_params()"
      ],
      "metadata": {
        "colab": {
          "base_uri": "https://localhost:8080/"
        },
        "id": "3BLC5AXC8tr4",
        "outputId": "e66fe848-7350-4be9-d997-697a16cb8390"
      },
      "execution_count": 154,
      "outputs": [
        {
          "output_type": "stream",
          "name": "stdout",
          "text": [
            "X_train Shape:  (600, 17)\n",
            "X_test Shape:  (168, 17)\n",
            "y_train Shape:  (600,)\n",
            "y_test Shape:  (168,)\n"
          ]
        },
        {
          "output_type": "execute_result",
          "data": {
            "text/plain": [
              "{'ccp_alpha': 0.0,\n",
              " 'class_weight': None,\n",
              " 'criterion': 'gini',\n",
              " 'max_depth': None,\n",
              " 'max_features': None,\n",
              " 'max_leaf_nodes': None,\n",
              " 'min_impurity_decrease': 0.0,\n",
              " 'min_samples_leaf': 1,\n",
              " 'min_samples_split': 2,\n",
              " 'min_weight_fraction_leaf': 0.0,\n",
              " 'random_state': None,\n",
              " 'splitter': 'best'}"
            ]
          },
          "metadata": {},
          "execution_count": 154
        }
      ]
    },
    {
      "cell_type": "code",
      "source": [
        "print(skompile(decision_tree.predict).to(\"python/code\"))"
      ],
      "metadata": {
        "colab": {
          "base_uri": "https://localhost:8080/"
        },
        "id": "_uTVot4s9G4V",
        "outputId": "65256867-ed54-47a2-829a-f5001d0486b2"
      },
      "execution_count": 155,
      "outputs": [
        {
          "output_type": "stream",
          "name": "stdout",
          "text": [
            "((((((((0 if x[3] <= 0.285714291036129 else 1) if x[2] <= -1.3125 else 0 if\n",
            "    x[10] <= -0.31633803248405457 else (1 if x[8] <= 0.22746486077085137 else\n",
            "    0) if x[2] <= -0.4375 else 0) if x[5] <= 0.5549450814723969 else 1 if x\n",
            "    [5] <= 0.5714285969734192 else 0 if x[3] <= 1.714285671710968 else 1 if\n",
            "    x[5] <= 0.8186813294887543 else 0) if x[6] <= 2.1137255430221558 else 0 if\n",
            "    x[2] <= -0.25 else 1) if x[0] <= 1.300000011920929 else 1 if x[8] <= \n",
            "    -0.6812886893749237 else 0) if x[8] <= 2.014414370059967 else 1) if x[1\n",
            "    ] <= -0.43209876120090485 else ((0 if x[6] <= 0.7830065488815308 else (\n",
            "    1 if x[6] <= 1.399999976158142 else 0) if x[1] <= -0.23456790298223495 else\n",
            "    0) if x[9] <= 1.1068382859230042 else 1) if x[3] <= -0.0714285746216774\n",
            "     else (0 if x[5] <= -0.6483516693115234 else (((0 if x[7] <= \n",
            "    0.3772377222776413 else 1 if x[7] <= 0.4532470703125 else 0) if x[8] <=\n",
            "    1.734754502773285 else 1) if x[14] <= 0.5 else 1) if x[6] <= \n",
            "    -0.3516339957714081 else (0 if x[2] <= -0.75 else (((0 if x[6] <= \n",
            "    -0.3137255012989044 else 1 if x[6] <= 1.0888888835906982 else 0) if x[5\n",
            "    ] <= 0.7692307829856873 else 0) if x[7] <= 0.0992819219827652 else 0 if\n",
            "    x[10] <= -0.07402816787362099 else 1) if x[2] <= 0.875 else 0 if x[0] <=\n",
            "    0.800000011920929 else 1 if x[10] <= -0.1418028138577938 else 0) if x[3\n",
            "    ] <= 1.8571428656578064 else 0) if x[6] <= 1.2483659982681274 else (0 if\n",
            "    x[9] <= 0.5260209292173386 else 1) if x[1] <= -0.2469135746359825 else \n",
            "    1) if x[10] <= -0.035211266949772835 else (((0 if x[4] <= \n",
            "    -2.173913061618805 else 1) if x[4] <= -0.8695651888847351 else (0 if x[\n",
            "    9] <= -0.03463204205036163 else 1) if x[2] <= -1.0625 else (0 if x[10] <=\n",
            "    0.22535211592912674 else 1) if x[7] <= -0.6570422649383545 else 0) if x\n",
            "    [5] <= -0.5769231021404266 else ((((((0 if x[8] <= -0.9840903580188751 else\n",
            "    (0 if x[6] <= -0.5934640616178513 else (0 if x[1] <= \n",
            "    -0.23456789553165436 else 1) if x[14] <= 0.5 else 1 if x[8] <= \n",
            "    -0.22358277696184814 else 0) if x[3] <= 0.8571428954601288 else 0) if x\n",
            "    [9] <= -0.014078674837946892 else (((0 if x[2] <= -0.75 else 1) if x[16\n",
            "    ] <= 0.5 else 0) if x[9] <= 0.3276553899049759 else 1 if x[7] <= \n",
            "    -0.5793076753616333 else 0) if x[10] <= 0.13943661749362946 else ((0 if\n",
            "    x[10] <= 0.39436618983745575 else 1) if x[7] <= -0.3390885591506958 else\n",
            "    0) if x[8] <= 0.7596206068992615 else 1) if x[7] <= 0.6056623458862305 else\n",
            "    (((0 if x[5] <= 0.15934066101908684 else 1) if x[8] <= \n",
            "    1.0130513906478882 else 0) if x[0] <= -0.5000000149011612 else 0) if x[\n",
            "    1] <= 0.8024691343307495 else 1) if x[9] <= 0.787813812494278 else 1 if\n",
            "    x[0] <= 1.300000011920929 else ((1 if x[3] <= -0.2142857164144516 else \n",
            "    0) if x[0] <= 1.5 else 1) if x[8] <= -0.29761171340942383 else 0) if x[\n",
            "    5] <= 1.4780219793319702 else 1) if x[6] <= 0.4143790900707245 else (1 if\n",
            "    x[3] <= -0.5 else 1 if x[6] <= 0.4718954414129257 else 0) if x[5] <= \n",
            "    -0.2747252881526947 else ((1 if x[6] <= 0.7934640645980835 else ((0 if \n",
            "    x[6] <= 1.4941176176071167 else 1) if x[7] <= -0.1238936223089695 else \n",
            "    1 if x[2] <= 0.3125 else 0 if x[5] <= -0.09890110045671463 else 1) if x\n",
            "    [1] <= 0.6543209850788116 else 0) if x[3] <= 1.0000000298023224 else 1 if\n",
            "    x[8] <= 0.3407230004668236 else 0) if x[4] <= 6.34782600402832 else 1 if\n",
            "    x[10] <= 1.4749295711517334 else 0 if x[0] <= 1.0 else 1) if x[7] <= \n",
            "    1.5859167575836182 else (1 if x[9] <= 0.5201465338468552 else 0) if x[8\n",
            "    ] <= 0.09055973961949348 else 0 if x[3] <= 1.7857142686843872 else 1 if\n",
            "    x[0] <= -0.5000000149011612 else 0) if x[1] <= 0.9259259104728699 else \n",
            "    (0 if x[6] <= 0.49803923070430756 else 1) if x[7] <= \n",
            "    -0.6862748265266418 else (((((0 if x[6] <= 0.30849673599004745 else 1) if\n",
            "    x[3] <= -1.7857142686843872 else 1 if x[9] <= 1.3191763162612915 else 0 if\n",
            "    x[9] <= 1.4441763162612915 else 1) if x[4] <= 72.86956787109375 else 1 if\n",
            "    x[14] <= 0.5 else 0) if x[5] <= 1.5164835453033447 else 1 if x[10] <= \n",
            "    2.0464788675308228 else 0) if x[12] <= 0.5 else 1 if x[8] <= \n",
            "    -0.7124239802360535 else (0 if x[9] <= -0.29894179850816727 else 1) if \n",
            "    x[3] <= -1.4285714626312256 else 0) if x[7] <= 7.317786931991577 else 0)\n",
            "\n"
          ]
        },
        {
          "output_type": "stream",
          "name": "stderr",
          "text": [
            "/usr/local/lib/python3.7/dist-packages/sklearn/utils/deprecation.py:103: FutureWarning: The attribute `n_features_` is deprecated in 1.0 and will be removed in 1.2. Use `n_features_in_` instead.\n",
            "  warnings.warn(msg, category=FutureWarning)\n"
          ]
        }
      ]
    },
    {
      "cell_type": "code",
      "source": [
        "plt.figure(figsize=(15,10))\n",
        "plot_tree(decision_tree,proportion=True)"
      ],
      "metadata": {
        "colab": {
          "base_uri": "https://localhost:8080/",
          "height": 1000
        },
        "id": "ur0uUY-N9M4I",
        "outputId": "b321e0e6-2b8a-47f7-a57f-fb6d9ad0510b"
      },
      "execution_count": 156,
      "outputs": [
        {
          "output_type": "execute_result",
          "data": {
            "text/plain": [
              "[Text(0.47493990384615387, 0.9666666666666667, 'X[10] <= -0.035\\ngini = 0.453\\nsamples = 100.0%\\nvalue = [0.653, 0.347]'),\n",
              " Text(0.19391025641025642, 0.9, 'X[1] <= -0.432\\ngini = 0.239\\nsamples = 49.2%\\nvalue = [0.861, 0.139]'),\n",
              " Text(0.1346153846153846, 0.8333333333333334, 'X[8] <= 2.014\\ngini = 0.098\\nsamples = 25.7%\\nvalue = [0.948, 0.052]'),\n",
              " Text(0.12435897435897436, 0.7666666666666667, 'X[0] <= 1.3\\ngini = 0.087\\nsamples = 25.5%\\nvalue = [0.954, 0.046]'),\n",
              " Text(0.09487179487179487, 0.7, 'X[6] <= 2.114\\ngini = 0.066\\nsamples = 24.5%\\nvalue = [0.966, 0.034]'),\n",
              " Text(0.06666666666666667, 0.6333333333333333, 'X[5] <= 0.555\\ngini = 0.054\\nsamples = 23.8%\\nvalue = [0.972, 0.028]'),\n",
              " Text(0.041025641025641026, 0.5666666666666667, 'X[2] <= -1.312\\ngini = 0.031\\nsamples = 21.0%\\nvalue = [0.984, 0.016]'),\n",
              " Text(0.020512820512820513, 0.5, 'X[3] <= 0.286\\ngini = 0.245\\nsamples = 1.2%\\nvalue = [0.857, 0.143]'),\n",
              " Text(0.010256410256410256, 0.43333333333333335, 'gini = 0.0\\nsamples = 1.0%\\nvalue = [1.0, 0.0]'),\n",
              " Text(0.03076923076923077, 0.43333333333333335, 'gini = 0.0\\nsamples = 0.2%\\nvalue = [0.0, 1.0]'),\n",
              " Text(0.06153846153846154, 0.5, 'X[10] <= -0.316\\ngini = 0.017\\nsamples = 19.8%\\nvalue = [0.992, 0.008]'),\n",
              " Text(0.05128205128205128, 0.43333333333333335, 'gini = 0.0\\nsamples = 17.5%\\nvalue = [1.0, 0.0]'),\n",
              " Text(0.07179487179487179, 0.43333333333333335, 'X[2] <= -0.438\\ngini = 0.133\\nsamples = 2.3%\\nvalue = [0.929, 0.071]'),\n",
              " Text(0.06153846153846154, 0.36666666666666664, 'X[8] <= 0.227\\ngini = 0.5\\nsamples = 0.3%\\nvalue = [0.5, 0.5]'),\n",
              " Text(0.05128205128205128, 0.3, 'gini = 0.0\\nsamples = 0.2%\\nvalue = [0.0, 1.0]'),\n",
              " Text(0.07179487179487179, 0.3, 'gini = 0.0\\nsamples = 0.2%\\nvalue = [1.0, 0.0]'),\n",
              " Text(0.08205128205128205, 0.36666666666666664, 'gini = 0.0\\nsamples = 2.0%\\nvalue = [1.0, 0.0]'),\n",
              " Text(0.09230769230769231, 0.5666666666666667, 'X[5] <= 0.571\\ngini = 0.208\\nsamples = 2.8%\\nvalue = [0.882, 0.118]'),\n",
              " Text(0.08205128205128205, 0.5, 'gini = 0.0\\nsamples = 0.2%\\nvalue = [0.0, 1.0]'),\n",
              " Text(0.10256410256410256, 0.5, 'X[3] <= 1.714\\ngini = 0.117\\nsamples = 2.7%\\nvalue = [0.938, 0.062]'),\n",
              " Text(0.09230769230769231, 0.43333333333333335, 'gini = 0.0\\nsamples = 2.2%\\nvalue = [1.0, 0.0]'),\n",
              " Text(0.11282051282051282, 0.43333333333333335, 'X[5] <= 0.819\\ngini = 0.444\\nsamples = 0.5%\\nvalue = [0.667, 0.333]'),\n",
              " Text(0.10256410256410256, 0.36666666666666664, 'gini = 0.0\\nsamples = 0.2%\\nvalue = [0.0, 1.0]'),\n",
              " Text(0.12307692307692308, 0.36666666666666664, 'gini = 0.0\\nsamples = 0.3%\\nvalue = [1.0, 0.0]'),\n",
              " Text(0.12307692307692308, 0.6333333333333333, 'X[2] <= -0.25\\ngini = 0.375\\nsamples = 0.7%\\nvalue = [0.75, 0.25]'),\n",
              " Text(0.11282051282051282, 0.5666666666666667, 'gini = 0.0\\nsamples = 0.5%\\nvalue = [1.0, 0.0]'),\n",
              " Text(0.13333333333333333, 0.5666666666666667, 'gini = 0.0\\nsamples = 0.2%\\nvalue = [0.0, 1.0]'),\n",
              " Text(0.15384615384615385, 0.7, 'X[8] <= -0.681\\ngini = 0.444\\nsamples = 1.0%\\nvalue = [0.667, 0.333]'),\n",
              " Text(0.14358974358974358, 0.6333333333333333, 'gini = 0.0\\nsamples = 0.3%\\nvalue = [0.0, 1.0]'),\n",
              " Text(0.1641025641025641, 0.6333333333333333, 'gini = 0.0\\nsamples = 0.7%\\nvalue = [1.0, 0.0]'),\n",
              " Text(0.14487179487179488, 0.7666666666666667, 'gini = 0.0\\nsamples = 0.2%\\nvalue = [0.0, 1.0]'),\n",
              " Text(0.2532051282051282, 0.8333333333333334, 'X[3] <= -0.071\\ngini = 0.359\\nsamples = 23.5%\\nvalue = [0.766, 0.234]'),\n",
              " Text(0.20512820512820512, 0.7666666666666667, 'X[9] <= 1.107\\ngini = 0.107\\nsamples = 8.8%\\nvalue = [0.943, 0.057]'),\n",
              " Text(0.19487179487179487, 0.7, 'X[6] <= 0.783\\ngini = 0.074\\nsamples = 8.7%\\nvalue = [0.962, 0.038]'),\n",
              " Text(0.18461538461538463, 0.6333333333333333, 'gini = 0.0\\nsamples = 6.8%\\nvalue = [1.0, 0.0]'),\n",
              " Text(0.20512820512820512, 0.6333333333333333, 'X[1] <= -0.235\\ngini = 0.298\\nsamples = 1.8%\\nvalue = [0.818, 0.182]'),\n",
              " Text(0.19487179487179487, 0.5666666666666667, 'X[6] <= 1.4\\ngini = 0.444\\nsamples = 0.5%\\nvalue = [0.333, 0.667]'),\n",
              " Text(0.18461538461538463, 0.5, 'gini = 0.0\\nsamples = 0.3%\\nvalue = [0.0, 1.0]'),\n",
              " Text(0.20512820512820512, 0.5, 'gini = 0.0\\nsamples = 0.2%\\nvalue = [1.0, 0.0]'),\n",
              " Text(0.2153846153846154, 0.5666666666666667, 'gini = 0.0\\nsamples = 1.3%\\nvalue = [1.0, 0.0]'),\n",
              " Text(0.2153846153846154, 0.7, 'gini = 0.0\\nsamples = 0.2%\\nvalue = [0.0, 1.0]'),\n",
              " Text(0.30128205128205127, 0.7666666666666667, 'X[6] <= 1.248\\ngini = 0.449\\nsamples = 14.7%\\nvalue = [0.659, 0.341]'),\n",
              " Text(0.258974358974359, 0.7, 'X[5] <= -0.648\\ngini = 0.405\\nsamples = 13.0%\\nvalue = [0.718, 0.282]'),\n",
              " Text(0.24871794871794872, 0.6333333333333333, 'gini = 0.0\\nsamples = 2.5%\\nvalue = [1.0, 0.0]'),\n",
              " Text(0.2692307692307692, 0.6333333333333333, 'X[6] <= -0.352\\ngini = 0.455\\nsamples = 10.5%\\nvalue = [0.651, 0.349]'),\n",
              " Text(0.2358974358974359, 0.5666666666666667, 'X[14] <= 0.5\\ngini = 0.266\\nsamples = 3.2%\\nvalue = [0.842, 0.158]'),\n",
              " Text(0.22564102564102564, 0.5, 'X[8] <= 1.735\\ngini = 0.198\\nsamples = 3.0%\\nvalue = [0.889, 0.111]'),\n",
              " Text(0.2153846153846154, 0.43333333333333335, 'X[7] <= 0.377\\ngini = 0.111\\nsamples = 2.8%\\nvalue = [0.941, 0.059]'),\n",
              " Text(0.20512820512820512, 0.36666666666666664, 'gini = 0.0\\nsamples = 2.3%\\nvalue = [1.0, 0.0]'),\n",
              " Text(0.22564102564102564, 0.36666666666666664, 'X[7] <= 0.453\\ngini = 0.444\\nsamples = 0.5%\\nvalue = [0.667, 0.333]'),\n",
              " Text(0.2153846153846154, 0.3, 'gini = 0.0\\nsamples = 0.2%\\nvalue = [0.0, 1.0]'),\n",
              " Text(0.2358974358974359, 0.3, 'gini = 0.0\\nsamples = 0.3%\\nvalue = [1.0, 0.0]'),\n",
              " Text(0.2358974358974359, 0.43333333333333335, 'gini = 0.0\\nsamples = 0.2%\\nvalue = [0.0, 1.0]'),\n",
              " Text(0.24615384615384617, 0.5, 'gini = 0.0\\nsamples = 0.2%\\nvalue = [0.0, 1.0]'),\n",
              " Text(0.30256410256410254, 0.5666666666666667, 'X[3] <= 1.857\\ngini = 0.491\\nsamples = 7.3%\\nvalue = [0.568, 0.432]'),\n",
              " Text(0.2923076923076923, 0.5, 'X[2] <= -0.75\\ngini = 0.5\\nsamples = 6.3%\\nvalue = [0.5, 0.5]'),\n",
              " Text(0.28205128205128205, 0.43333333333333335, 'gini = 0.0\\nsamples = 0.7%\\nvalue = [1.0, 0.0]'),\n",
              " Text(0.30256410256410254, 0.43333333333333335, 'X[2] <= 0.875\\ngini = 0.493\\nsamples = 5.7%\\nvalue = [0.441, 0.559]'),\n",
              " Text(0.27692307692307694, 0.36666666666666664, 'X[7] <= 0.099\\ngini = 0.453\\nsamples = 4.3%\\nvalue = [0.346, 0.654]'),\n",
              " Text(0.2564102564102564, 0.3, 'X[5] <= 0.769\\ngini = 0.291\\nsamples = 2.8%\\nvalue = [0.176, 0.824]'),\n",
              " Text(0.24615384615384617, 0.23333333333333334, 'X[6] <= -0.314\\ngini = 0.219\\nsamples = 2.7%\\nvalue = [0.125, 0.875]'),\n",
              " Text(0.2358974358974359, 0.16666666666666666, 'gini = 0.0\\nsamples = 0.2%\\nvalue = [1.0, 0.0]'),\n",
              " Text(0.2564102564102564, 0.16666666666666666, 'X[6] <= 1.089\\ngini = 0.124\\nsamples = 2.5%\\nvalue = [0.067, 0.933]'),\n",
              " Text(0.24615384615384617, 0.1, 'gini = 0.0\\nsamples = 2.3%\\nvalue = [0.0, 1.0]'),\n",
              " Text(0.26666666666666666, 0.1, 'gini = 0.0\\nsamples = 0.2%\\nvalue = [1.0, 0.0]'),\n",
              " Text(0.26666666666666666, 0.23333333333333334, 'gini = 0.0\\nsamples = 0.2%\\nvalue = [1.0, 0.0]'),\n",
              " Text(0.29743589743589743, 0.3, 'X[10] <= -0.074\\ngini = 0.444\\nsamples = 1.5%\\nvalue = [0.667, 0.333]'),\n",
              " Text(0.28717948717948716, 0.23333333333333334, 'gini = 0.0\\nsamples = 1.0%\\nvalue = [1.0, 0.0]'),\n",
              " Text(0.3076923076923077, 0.23333333333333334, 'gini = 0.0\\nsamples = 0.5%\\nvalue = [0.0, 1.0]'),\n",
              " Text(0.3282051282051282, 0.36666666666666664, 'X[0] <= 0.8\\ngini = 0.375\\nsamples = 1.3%\\nvalue = [0.75, 0.25]'),\n",
              " Text(0.31794871794871793, 0.3, 'gini = 0.0\\nsamples = 0.8%\\nvalue = [1.0, 0.0]'),\n",
              " Text(0.3384615384615385, 0.3, 'X[10] <= -0.142\\ngini = 0.444\\nsamples = 0.5%\\nvalue = [0.333, 0.667]'),\n",
              " Text(0.3282051282051282, 0.23333333333333334, 'gini = 0.0\\nsamples = 0.3%\\nvalue = [0.0, 1.0]'),\n",
              " Text(0.3487179487179487, 0.23333333333333334, 'gini = 0.0\\nsamples = 0.2%\\nvalue = [1.0, 0.0]'),\n",
              " Text(0.3128205128205128, 0.5, 'gini = 0.0\\nsamples = 1.0%\\nvalue = [1.0, 0.0]'),\n",
              " Text(0.3435897435897436, 0.7, 'X[1] <= -0.247\\ngini = 0.32\\nsamples = 1.7%\\nvalue = [0.2, 0.8]'),\n",
              " Text(0.3333333333333333, 0.6333333333333333, 'X[9] <= 0.526\\ngini = 0.444\\nsamples = 0.5%\\nvalue = [0.667, 0.333]'),\n",
              " Text(0.3230769230769231, 0.5666666666666667, 'gini = 0.0\\nsamples = 0.3%\\nvalue = [1.0, 0.0]'),\n",
              " Text(0.3435897435897436, 0.5666666666666667, 'gini = 0.0\\nsamples = 0.2%\\nvalue = [0.0, 1.0]'),\n",
              " Text(0.35384615384615387, 0.6333333333333333, 'gini = 0.0\\nsamples = 1.2%\\nvalue = [0.0, 1.0]'),\n",
              " Text(0.7559695512820512, 0.9, 'X[1] <= 0.926\\ngini = 0.495\\nsamples = 50.8%\\nvalue = [0.452, 0.548]'),\n",
              " Text(0.5824519230769231, 0.8333333333333334, 'X[5] <= -0.577\\ngini = 0.492\\nsamples = 36.0%\\nvalue = [0.565, 0.435]'),\n",
              " Text(0.44743589743589746, 0.7666666666666667, 'X[4] <= -0.87\\ngini = 0.157\\nsamples = 5.8%\\nvalue = [0.914, 0.086]'),\n",
              " Text(0.4217948717948718, 0.7, 'X[4] <= -2.174\\ngini = 0.5\\nsamples = 0.3%\\nvalue = [0.5, 0.5]'),\n",
              " Text(0.4115384615384615, 0.6333333333333333, 'gini = 0.0\\nsamples = 0.2%\\nvalue = [1.0, 0.0]'),\n",
              " Text(0.43205128205128207, 0.6333333333333333, 'gini = 0.0\\nsamples = 0.2%\\nvalue = [0.0, 1.0]'),\n",
              " Text(0.47307692307692306, 0.7, 'X[2] <= -1.062\\ngini = 0.114\\nsamples = 5.5%\\nvalue = [0.939, 0.061]'),\n",
              " Text(0.45256410256410257, 0.6333333333333333, 'X[9] <= -0.035\\ngini = 0.444\\nsamples = 0.5%\\nvalue = [0.667, 0.333]'),\n",
              " Text(0.4423076923076923, 0.5666666666666667, 'gini = 0.0\\nsamples = 0.3%\\nvalue = [1.0, 0.0]'),\n",
              " Text(0.46282051282051284, 0.5666666666666667, 'gini = 0.0\\nsamples = 0.2%\\nvalue = [0.0, 1.0]'),\n",
              " Text(0.4935897435897436, 0.6333333333333333, 'X[7] <= -0.657\\ngini = 0.064\\nsamples = 5.0%\\nvalue = [0.967, 0.033]'),\n",
              " Text(0.48333333333333334, 0.5666666666666667, 'X[10] <= 0.225\\ngini = 0.32\\nsamples = 0.8%\\nvalue = [0.8, 0.2]'),\n",
              " Text(0.47307692307692306, 0.5, 'gini = 0.0\\nsamples = 0.7%\\nvalue = [1.0, 0.0]'),\n",
              " Text(0.4935897435897436, 0.5, 'gini = 0.0\\nsamples = 0.2%\\nvalue = [0.0, 1.0]'),\n",
              " Text(0.5038461538461538, 0.5666666666666667, 'gini = 0.0\\nsamples = 4.2%\\nvalue = [1.0, 0.0]'),\n",
              " Text(0.7174679487179487, 0.7666666666666667, 'X[7] <= 1.586\\ngini = 0.5\\nsamples = 30.2%\\nvalue = [0.497, 0.503]'),\n",
              " Text(0.6400641025641025, 0.7, 'X[6] <= 0.414\\ngini = 0.495\\nsamples = 26.3%\\nvalue = [0.449, 0.551]'),\n",
              " Text(0.5801282051282052, 0.6333333333333333, 'X[5] <= 1.478\\ngini = 0.496\\nsamples = 16.5%\\nvalue = [0.545, 0.455]'),\n",
              " Text(0.5698717948717948, 0.5666666666666667, 'X[9] <= 0.788\\ngini = 0.487\\nsamples = 15.5%\\nvalue = [0.581, 0.419]'),\n",
              " Text(0.514102564102564, 0.5, 'X[7] <= 0.606\\ngini = 0.456\\nsamples = 12.3%\\nvalue = [0.649, 0.351]'),\n",
              " Text(0.43333333333333335, 0.43333333333333335, 'X[9] <= -0.014\\ngini = 0.49\\nsamples = 9.3%\\nvalue = [0.571, 0.429]'),\n",
              " Text(0.36923076923076925, 0.36666666666666664, 'X[8] <= -0.984\\ngini = 0.48\\nsamples = 4.2%\\nvalue = [0.4, 0.6]'),\n",
              " Text(0.358974358974359, 0.3, 'gini = 0.0\\nsamples = 0.7%\\nvalue = [1.0, 0.0]'),\n",
              " Text(0.37948717948717947, 0.3, 'X[3] <= 0.857\\ngini = 0.408\\nsamples = 3.5%\\nvalue = [0.286, 0.714]'),\n",
              " Text(0.36923076923076925, 0.23333333333333334, 'X[6] <= -0.593\\ngini = 0.332\\nsamples = 3.2%\\nvalue = [0.211, 0.789]'),\n",
              " Text(0.358974358974359, 0.16666666666666666, 'gini = 0.0\\nsamples = 0.2%\\nvalue = [1.0, 0.0]'),\n",
              " Text(0.37948717948717947, 0.16666666666666666, 'X[14] <= 0.5\\ngini = 0.278\\nsamples = 3.0%\\nvalue = [0.167, 0.833]'),\n",
              " Text(0.358974358974359, 0.1, 'X[1] <= -0.235\\ngini = 0.133\\nsamples = 2.3%\\nvalue = [0.071, 0.929]'),\n",
              " Text(0.3487179487179487, 0.03333333333333333, 'gini = 0.0\\nsamples = 0.2%\\nvalue = [1.0, 0.0]'),\n",
              " Text(0.36923076923076925, 0.03333333333333333, 'gini = 0.0\\nsamples = 2.2%\\nvalue = [0.0, 1.0]'),\n",
              " Text(0.4, 0.1, 'X[8] <= -0.224\\ngini = 0.5\\nsamples = 0.7%\\nvalue = [0.5, 0.5]'),\n",
              " Text(0.38974358974358975, 0.03333333333333333, 'gini = 0.0\\nsamples = 0.3%\\nvalue = [0.0, 1.0]'),\n",
              " Text(0.41025641025641024, 0.03333333333333333, 'gini = 0.0\\nsamples = 0.3%\\nvalue = [1.0, 0.0]'),\n",
              " Text(0.38974358974358975, 0.23333333333333334, 'gini = 0.0\\nsamples = 0.3%\\nvalue = [1.0, 0.0]'),\n",
              " Text(0.49743589743589745, 0.36666666666666664, 'X[10] <= 0.139\\ngini = 0.412\\nsamples = 5.2%\\nvalue = [0.71, 0.29]'),\n",
              " Text(0.46153846153846156, 0.3, 'X[9] <= 0.328\\ngini = 0.5\\nsamples = 2.3%\\nvalue = [0.5, 0.5]'),\n",
              " Text(0.441025641025641, 0.23333333333333334, 'X[16] <= 0.5\\ngini = 0.375\\nsamples = 1.3%\\nvalue = [0.25, 0.75]'),\n",
              " Text(0.4307692307692308, 0.16666666666666666, 'X[2] <= -0.75\\ngini = 0.245\\nsamples = 1.2%\\nvalue = [0.143, 0.857]'),\n",
              " Text(0.4205128205128205, 0.1, 'gini = 0.0\\nsamples = 0.2%\\nvalue = [1.0, 0.0]'),\n",
              " Text(0.441025641025641, 0.1, 'gini = 0.0\\nsamples = 1.0%\\nvalue = [0.0, 1.0]'),\n",
              " Text(0.4512820512820513, 0.16666666666666666, 'gini = 0.0\\nsamples = 0.2%\\nvalue = [1.0, 0.0]'),\n",
              " Text(0.48205128205128206, 0.23333333333333334, 'X[7] <= -0.579\\ngini = 0.278\\nsamples = 1.0%\\nvalue = [0.833, 0.167]'),\n",
              " Text(0.4717948717948718, 0.16666666666666666, 'gini = 0.0\\nsamples = 0.2%\\nvalue = [0.0, 1.0]'),\n",
              " Text(0.49230769230769234, 0.16666666666666666, 'gini = 0.0\\nsamples = 0.8%\\nvalue = [1.0, 0.0]'),\n",
              " Text(0.5333333333333333, 0.3, 'X[8] <= 0.76\\ngini = 0.208\\nsamples = 2.8%\\nvalue = [0.882, 0.118]'),\n",
              " Text(0.5230769230769231, 0.23333333333333334, 'X[7] <= -0.339\\ngini = 0.117\\nsamples = 2.7%\\nvalue = [0.938, 0.062]'),\n",
              " Text(0.5128205128205128, 0.16666666666666666, 'X[10] <= 0.394\\ngini = 0.444\\nsamples = 0.5%\\nvalue = [0.667, 0.333]'),\n",
              " Text(0.5025641025641026, 0.1, 'gini = 0.0\\nsamples = 0.3%\\nvalue = [1.0, 0.0]'),\n",
              " Text(0.5230769230769231, 0.1, 'gini = 0.0\\nsamples = 0.2%\\nvalue = [0.0, 1.0]'),\n",
              " Text(0.5333333333333333, 0.16666666666666666, 'gini = 0.0\\nsamples = 2.2%\\nvalue = [1.0, 0.0]'),\n",
              " Text(0.5435897435897435, 0.23333333333333334, 'gini = 0.0\\nsamples = 0.2%\\nvalue = [0.0, 1.0]'),\n",
              " Text(0.5948717948717949, 0.43333333333333335, 'X[1] <= 0.802\\ngini = 0.198\\nsamples = 3.0%\\nvalue = [0.889, 0.111]'),\n",
              " Text(0.5846153846153846, 0.36666666666666664, 'X[0] <= -0.5\\ngini = 0.111\\nsamples = 2.8%\\nvalue = [0.941, 0.059]'),\n",
              " Text(0.5743589743589743, 0.3, 'X[8] <= 1.013\\ngini = 0.32\\nsamples = 0.8%\\nvalue = [0.8, 0.2]'),\n",
              " Text(0.5641025641025641, 0.23333333333333334, 'X[5] <= 0.159\\ngini = 0.5\\nsamples = 0.3%\\nvalue = [0.5, 0.5]'),\n",
              " Text(0.5538461538461539, 0.16666666666666666, 'gini = 0.0\\nsamples = 0.2%\\nvalue = [1.0, 0.0]'),\n",
              " Text(0.5743589743589743, 0.16666666666666666, 'gini = 0.0\\nsamples = 0.2%\\nvalue = [0.0, 1.0]'),\n",
              " Text(0.5846153846153846, 0.23333333333333334, 'gini = 0.0\\nsamples = 0.5%\\nvalue = [1.0, 0.0]'),\n",
              " Text(0.5948717948717949, 0.3, 'gini = 0.0\\nsamples = 2.0%\\nvalue = [1.0, 0.0]'),\n",
              " Text(0.6051282051282051, 0.36666666666666664, 'gini = 0.0\\nsamples = 0.2%\\nvalue = [0.0, 1.0]'),\n",
              " Text(0.6256410256410256, 0.5, 'X[0] <= 1.3\\ngini = 0.432\\nsamples = 3.2%\\nvalue = [0.316, 0.684]'),\n",
              " Text(0.6153846153846154, 0.43333333333333335, 'gini = 0.0\\nsamples = 1.3%\\nvalue = [0.0, 1.0]'),\n",
              " Text(0.6358974358974359, 0.43333333333333335, 'X[8] <= -0.298\\ngini = 0.496\\nsamples = 1.8%\\nvalue = [0.545, 0.455]'),\n",
              " Text(0.6256410256410256, 0.36666666666666664, 'X[0] <= 1.5\\ngini = 0.408\\nsamples = 1.2%\\nvalue = [0.286, 0.714]'),\n",
              " Text(0.6153846153846154, 0.3, 'X[3] <= -0.214\\ngini = 0.444\\nsamples = 0.5%\\nvalue = [0.667, 0.333]'),\n",
              " Text(0.6051282051282051, 0.23333333333333334, 'gini = 0.0\\nsamples = 0.2%\\nvalue = [0.0, 1.0]'),\n",
              " Text(0.6256410256410256, 0.23333333333333334, 'gini = 0.0\\nsamples = 0.3%\\nvalue = [1.0, 0.0]'),\n",
              " Text(0.6358974358974359, 0.3, 'gini = 0.0\\nsamples = 0.7%\\nvalue = [0.0, 1.0]'),\n",
              " Text(0.6461538461538462, 0.36666666666666664, 'gini = 0.0\\nsamples = 0.7%\\nvalue = [1.0, 0.0]'),\n",
              " Text(0.5903846153846154, 0.5666666666666667, 'gini = 0.0\\nsamples = 1.0%\\nvalue = [0.0, 1.0]'),\n",
              " Text(0.7, 0.6333333333333333, 'X[5] <= -0.275\\ngini = 0.41\\nsamples = 9.8%\\nvalue = [0.288, 0.712]'),\n",
              " Text(0.6564102564102564, 0.5666666666666667, 'X[3] <= -0.5\\ngini = 0.48\\nsamples = 1.7%\\nvalue = [0.6, 0.4]'),\n",
              " Text(0.6461538461538462, 0.5, 'gini = 0.0\\nsamples = 0.5%\\nvalue = [0.0, 1.0]'),\n",
              " Text(0.6666666666666666, 0.5, 'X[6] <= 0.472\\ngini = 0.245\\nsamples = 1.2%\\nvalue = [0.857, 0.143]'),\n",
              " Text(0.6564102564102564, 0.43333333333333335, 'gini = 0.0\\nsamples = 0.2%\\nvalue = [0.0, 1.0]'),\n",
              " Text(0.676923076923077, 0.43333333333333335, 'gini = 0.0\\nsamples = 1.0%\\nvalue = [1.0, 0.0]'),\n",
              " Text(0.7435897435897436, 0.5666666666666667, 'X[4] <= 6.348\\ngini = 0.348\\nsamples = 8.2%\\nvalue = [0.224, 0.776]'),\n",
              " Text(0.717948717948718, 0.5, 'X[3] <= 1.0\\ngini = 0.437\\nsamples = 5.2%\\nvalue = [0.323, 0.677]'),\n",
              " Text(0.6974358974358974, 0.43333333333333335, 'X[6] <= 0.793\\ngini = 0.33\\nsamples = 4.0%\\nvalue = [0.208, 0.792]'),\n",
              " Text(0.6871794871794872, 0.36666666666666664, 'gini = 0.0\\nsamples = 1.8%\\nvalue = [0.0, 1.0]'),\n",
              " Text(0.7076923076923077, 0.36666666666666664, 'X[1] <= 0.654\\ngini = 0.473\\nsamples = 2.2%\\nvalue = [0.385, 0.615]'),\n",
              " Text(0.6974358974358974, 0.3, 'X[7] <= -0.124\\ngini = 0.397\\nsamples = 1.8%\\nvalue = [0.273, 0.727]'),\n",
              " Text(0.676923076923077, 0.23333333333333334, 'X[6] <= 1.494\\ngini = 0.444\\nsamples = 0.5%\\nvalue = [0.667, 0.333]'),\n",
              " Text(0.6666666666666666, 0.16666666666666666, 'gini = 0.0\\nsamples = 0.3%\\nvalue = [1.0, 0.0]'),\n",
              " Text(0.6871794871794872, 0.16666666666666666, 'gini = 0.0\\nsamples = 0.2%\\nvalue = [0.0, 1.0]'),\n",
              " Text(0.717948717948718, 0.23333333333333334, 'X[2] <= 0.312\\ngini = 0.219\\nsamples = 1.3%\\nvalue = [0.125, 0.875]'),\n",
              " Text(0.7076923076923077, 0.16666666666666666, 'gini = 0.0\\nsamples = 0.8%\\nvalue = [0.0, 1.0]'),\n",
              " Text(0.7282051282051282, 0.16666666666666666, 'X[5] <= -0.099\\ngini = 0.444\\nsamples = 0.5%\\nvalue = [0.333, 0.667]'),\n",
              " Text(0.717948717948718, 0.1, 'gini = 0.0\\nsamples = 0.2%\\nvalue = [1.0, 0.0]'),\n",
              " Text(0.7384615384615385, 0.1, 'gini = 0.0\\nsamples = 0.3%\\nvalue = [0.0, 1.0]'),\n",
              " Text(0.717948717948718, 0.3, 'gini = 0.0\\nsamples = 0.3%\\nvalue = [1.0, 0.0]'),\n",
              " Text(0.7384615384615385, 0.43333333333333335, 'X[8] <= 0.341\\ngini = 0.408\\nsamples = 1.2%\\nvalue = [0.714, 0.286]'),\n",
              " Text(0.7282051282051282, 0.36666666666666664, 'gini = 0.0\\nsamples = 0.3%\\nvalue = [0.0, 1.0]'),\n",
              " Text(0.7487179487179487, 0.36666666666666664, 'gini = 0.0\\nsamples = 0.8%\\nvalue = [1.0, 0.0]'),\n",
              " Text(0.7692307692307693, 0.5, 'X[10] <= 1.475\\ngini = 0.105\\nsamples = 3.0%\\nvalue = [0.056, 0.944]'),\n",
              " Text(0.7589743589743589, 0.43333333333333335, 'gini = 0.0\\nsamples = 2.5%\\nvalue = [0.0, 1.0]'),\n",
              " Text(0.7794871794871795, 0.43333333333333335, 'X[0] <= 1.0\\ngini = 0.444\\nsamples = 0.5%\\nvalue = [0.333, 0.667]'),\n",
              " Text(0.7692307692307693, 0.36666666666666664, 'gini = 0.0\\nsamples = 0.2%\\nvalue = [1.0, 0.0]'),\n",
              " Text(0.7897435897435897, 0.36666666666666664, 'gini = 0.0\\nsamples = 0.3%\\nvalue = [0.0, 1.0]'),\n",
              " Text(0.7948717948717948, 0.7, 'X[8] <= 0.091\\ngini = 0.287\\nsamples = 3.8%\\nvalue = [0.826, 0.174]'),\n",
              " Text(0.7743589743589744, 0.6333333333333333, 'X[9] <= 0.52\\ngini = 0.48\\nsamples = 0.8%\\nvalue = [0.4, 0.6]'),\n",
              " Text(0.764102564102564, 0.5666666666666667, 'gini = 0.0\\nsamples = 0.5%\\nvalue = [0.0, 1.0]'),\n",
              " Text(0.7846153846153846, 0.5666666666666667, 'gini = 0.0\\nsamples = 0.3%\\nvalue = [1.0, 0.0]'),\n",
              " Text(0.8153846153846154, 0.6333333333333333, 'X[3] <= 1.786\\ngini = 0.105\\nsamples = 3.0%\\nvalue = [0.944, 0.056]'),\n",
              " Text(0.8051282051282052, 0.5666666666666667, 'gini = 0.0\\nsamples = 2.5%\\nvalue = [1.0, 0.0]'),\n",
              " Text(0.8256410256410256, 0.5666666666666667, 'X[0] <= -0.5\\ngini = 0.444\\nsamples = 0.5%\\nvalue = [0.667, 0.333]'),\n",
              " Text(0.8153846153846154, 0.5, 'gini = 0.0\\nsamples = 0.2%\\nvalue = [0.0, 1.0]'),\n",
              " Text(0.8358974358974359, 0.5, 'gini = 0.0\\nsamples = 0.3%\\nvalue = [1.0, 0.0]'),\n",
              " Text(0.9294871794871795, 0.8333333333333334, 'X[7] <= -0.686\\ngini = 0.295\\nsamples = 14.8%\\nvalue = [0.18, 0.82]'),\n",
              " Text(0.908974358974359, 0.7666666666666667, 'X[6] <= 0.498\\ngini = 0.408\\nsamples = 1.2%\\nvalue = [0.714, 0.286]'),\n",
              " Text(0.8987179487179487, 0.7, 'gini = 0.0\\nsamples = 0.8%\\nvalue = [1.0, 0.0]'),\n",
              " Text(0.9192307692307692, 0.7, 'gini = 0.0\\nsamples = 0.3%\\nvalue = [0.0, 1.0]'),\n",
              " Text(0.95, 0.7666666666666667, 'X[7] <= 7.318\\ngini = 0.232\\nsamples = 13.7%\\nvalue = [0.134, 0.866]'),\n",
              " Text(0.9397435897435897, 0.7, 'X[12] <= 0.5\\ngini = 0.2\\nsamples = 13.3%\\nvalue = [0.112, 0.888]'),\n",
              " Text(0.9102564102564102, 0.6333333333333333, 'X[5] <= 1.516\\ngini = 0.133\\nsamples = 11.7%\\nvalue = [0.071, 0.929]'),\n",
              " Text(0.882051282051282, 0.5666666666666667, 'X[4] <= 72.87\\ngini = 0.088\\nsamples = 10.8%\\nvalue = [0.046, 0.954]'),\n",
              " Text(0.8564102564102564, 0.5, 'X[3] <= -1.786\\ngini = 0.062\\nsamples = 10.3%\\nvalue = [0.032, 0.968]'),\n",
              " Text(0.8358974358974359, 0.43333333333333335, 'X[6] <= 0.308\\ngini = 0.444\\nsamples = 0.5%\\nvalue = [0.333, 0.667]'),\n",
              " Text(0.8256410256410256, 0.36666666666666664, 'gini = 0.0\\nsamples = 0.2%\\nvalue = [1.0, 0.0]'),\n",
              " Text(0.8461538461538461, 0.36666666666666664, 'gini = 0.0\\nsamples = 0.3%\\nvalue = [0.0, 1.0]'),\n",
              " Text(0.8769230769230769, 0.43333333333333335, 'X[9] <= 1.319\\ngini = 0.033\\nsamples = 9.8%\\nvalue = [0.017, 0.983]'),\n",
              " Text(0.8666666666666667, 0.36666666666666664, 'gini = 0.0\\nsamples = 9.0%\\nvalue = [0.0, 1.0]'),\n",
              " Text(0.8871794871794871, 0.36666666666666664, 'X[9] <= 1.444\\ngini = 0.32\\nsamples = 0.8%\\nvalue = [0.2, 0.8]'),\n",
              " Text(0.8769230769230769, 0.3, 'gini = 0.0\\nsamples = 0.2%\\nvalue = [1.0, 0.0]'),\n",
              " Text(0.8974358974358975, 0.3, 'gini = 0.0\\nsamples = 0.7%\\nvalue = [0.0, 1.0]'),\n",
              " Text(0.9076923076923077, 0.5, 'X[14] <= 0.5\\ngini = 0.444\\nsamples = 0.5%\\nvalue = [0.333, 0.667]'),\n",
              " Text(0.8974358974358975, 0.43333333333333335, 'gini = 0.0\\nsamples = 0.3%\\nvalue = [0.0, 1.0]'),\n",
              " Text(0.9179487179487179, 0.43333333333333335, 'gini = 0.0\\nsamples = 0.2%\\nvalue = [1.0, 0.0]'),\n",
              " Text(0.9384615384615385, 0.5666666666666667, 'X[10] <= 2.046\\ngini = 0.48\\nsamples = 0.8%\\nvalue = [0.4, 0.6]'),\n",
              " Text(0.9282051282051282, 0.5, 'gini = 0.0\\nsamples = 0.5%\\nvalue = [0.0, 1.0]'),\n",
              " Text(0.9487179487179487, 0.5, 'gini = 0.0\\nsamples = 0.3%\\nvalue = [1.0, 0.0]'),\n",
              " Text(0.9692307692307692, 0.6333333333333333, 'X[8] <= -0.712\\ngini = 0.48\\nsamples = 1.7%\\nvalue = [0.4, 0.6]'),\n",
              " Text(0.958974358974359, 0.5666666666666667, 'gini = 0.0\\nsamples = 0.7%\\nvalue = [0.0, 1.0]'),\n",
              " Text(0.9794871794871794, 0.5666666666666667, 'X[3] <= -1.429\\ngini = 0.444\\nsamples = 1.0%\\nvalue = [0.667, 0.333]'),\n",
              " Text(0.9692307692307692, 0.5, 'X[9] <= -0.299\\ngini = 0.444\\nsamples = 0.5%\\nvalue = [0.333, 0.667]'),\n",
              " Text(0.958974358974359, 0.43333333333333335, 'gini = 0.0\\nsamples = 0.2%\\nvalue = [1.0, 0.0]'),\n",
              " Text(0.9794871794871794, 0.43333333333333335, 'gini = 0.0\\nsamples = 0.3%\\nvalue = [0.0, 1.0]'),\n",
              " Text(0.9897435897435898, 0.5, 'gini = 0.0\\nsamples = 0.5%\\nvalue = [1.0, 0.0]'),\n",
              " Text(0.9602564102564103, 0.7, 'gini = 0.0\\nsamples = 0.3%\\nvalue = [1.0, 0.0]')]"
            ]
          },
          "metadata": {},
          "execution_count": 156
        },
        {
          "output_type": "display_data",
          "data": {
            "image/png": "[encoded data removed]",
            "text/plain": [
              "<Figure size 1080x720 with 1 Axes>"
            ]
          },
          "metadata": {}
        }
      ]
    },
    {
      "cell_type": "code",
      "source": [
        "y_pred = decision_tree.predict(X_test)\n",
        "cm = confusion_matrix(y_test,y_pred)\n",
        "\n",
        "print(classification_report(y_test,y_pred))"
      ],
      "metadata": {
        "colab": {
          "base_uri": "https://localhost:8080/"
        },
        "id": "c5KvoQhd9Sb7",
        "outputId": "32ac4b44-0b1b-4f4d-a75c-23fef8337ada"
      },
      "execution_count": 157,
      "outputs": [
        {
          "output_type": "stream",
          "name": "stdout",
          "text": [
            "              precision    recall  f1-score   support\n",
            "\n",
            "         0.0       0.82      0.76      0.79       108\n",
            "         1.0       0.62      0.70      0.66        60\n",
            "\n",
            "    accuracy                           0.74       168\n",
            "   macro avg       0.72      0.73      0.72       168\n",
            "weighted avg       0.75      0.74      0.74       168\n",
            "\n"
          ]
        }
      ]
    },
    {
      "cell_type": "code",
      "source": [
        "accuracies= cross_val_score(estimator=decision_tree,\n",
        "                            X=X_train,y=y_train,\n",
        "                            cv=10)\n",
        "print(\"Average Accuracy: {:.2f} %\".format(accuracies.mean()*100))\n",
        "print(\"Standart Deviation of Accuracies: {:.2f} %\".format(accuracies.std()*100))"
      ],
      "metadata": {
        "colab": {
          "base_uri": "https://localhost:8080/"
        },
        "id": "gIvKAEAX9Wz3",
        "outputId": "af722795-6cb9-4692-8b6e-c5d83709dc19"
      },
      "execution_count": 158,
      "outputs": [
        {
          "output_type": "stream",
          "name": "stdout",
          "text": [
            "Average Accuracy: 69.50 %\n",
            "Standart Deviation of Accuracies: 6.75 %\n"
          ]
        }
      ]
    },
    {
      "cell_type": "code",
      "source": [
        "decision_tree_params ={\"criterion\":[\"gini\",\"entropy\"],\n",
        "                       \"max_depth\":[1,2,3,4,5,6,7,8,9,10],\n",
        "                       \"min_samples_split\":list(range(1,10))}"
      ],
      "metadata": {
        "id": "by0EUWWW9ZjA"
      },
      "execution_count": 159,
      "outputs": []
    },
    {
      "cell_type": "code",
      "source": [
        "decision_tree_classifier = DecisionTreeClassifier()\n",
        "decision_tree_cv = GridSearchCV(decision_tree_classifier,decision_tree_params,cv=9,n_jobs=-1,verbose=2)"
      ],
      "metadata": {
        "id": "4z5SXHUc9coP"
      },
      "execution_count": 160,
      "outputs": []
    },
    {
      "cell_type": "code",
      "source": [
        "decision_tree_cv.fit(X_train,y_train)"
      ],
      "metadata": {
        "id": "Xakg_IaI9eeP"
      },
      "execution_count": null,
      "outputs": []
    },
    {
      "cell_type": "code",
      "source": [
        "#best score\n",
        "decision_tree_cv.best_score_"
      ],
      "metadata": {
        "colab": {
          "base_uri": "https://localhost:8080/"
        },
        "id": "Lw3ZmlJi99Te",
        "outputId": "2612001a-0c47-497d-bcb7-1c586e44f19b"
      },
      "execution_count": 162,
      "outputs": [
        {
          "output_type": "execute_result",
          "data": {
            "text/plain": [
              "0.7567716970702045"
            ]
          },
          "metadata": {},
          "execution_count": 162
        }
      ]
    },
    {
      "cell_type": "code",
      "source": [
        "#best parameters\n",
        "decision_tree_cv.best_params_"
      ],
      "metadata": {
        "colab": {
          "base_uri": "https://localhost:8080/"
        },
        "id": "5DtEoKiO9-1B",
        "outputId": "51956f07-da62-4bef-f680-e5cec896d5ed"
      },
      "execution_count": 163,
      "outputs": [
        {
          "output_type": "execute_result",
          "data": {
            "text/plain": [
              "{'criterion': 'entropy', 'max_depth': 6, 'min_samples_split': 4}"
            ]
          },
          "metadata": {},
          "execution_count": 163
        }
      ]
    },
    {
      "cell_type": "code",
      "source": [
        "decision_tree_tuned = DecisionTreeClassifier(criterion=\"entropy\",max_depth=6,min_samples_split=4).fit(X_train,y_train)"
      ],
      "metadata": {
        "id": "LMVsKiSp-A19"
      },
      "execution_count": 164,
      "outputs": []
    },
    {
      "cell_type": "code",
      "source": [
        "y_pred = decision_tree_tuned.predict(X_test)\n",
        "cm = confusion_matrix(y_test,y_pred)\n",
        "print(classification_report(y_test,y_pred))"
      ],
      "metadata": {
        "colab": {
          "base_uri": "https://localhost:8080/"
        },
        "id": "HUFZnZ3h-E70",
        "outputId": "11d07c12-dc8d-4971-b13e-f41f521ebd32"
      },
      "execution_count": 165,
      "outputs": [
        {
          "output_type": "stream",
          "name": "stdout",
          "text": [
            "              precision    recall  f1-score   support\n",
            "\n",
            "         0.0       0.81      0.85      0.83       108\n",
            "         1.0       0.70      0.63      0.67        60\n",
            "\n",
            "    accuracy                           0.77       168\n",
            "   macro avg       0.76      0.74      0.75       168\n",
            "weighted avg       0.77      0.77      0.77       168\n",
            "\n"
          ]
        }
      ]
    },
    {
      "cell_type": "code",
      "source": [
        "# Random Forests Classification\n",
        "\n",
        "X = df.drop(\"OUTCOME\",axis=1)\n",
        "y= df[\"OUTCOME\"] #We will predict Outcome(diabetes) \n",
        "\n",
        "X_train = X.iloc[:600]\n",
        "X_test = X.iloc[600:]\n",
        "y_train = y[:600]\n",
        "y_test = y[600:]\n",
        "\n",
        "random_forest = RandomForestClassifier().fit(X_train,y_train)"
      ],
      "metadata": {
        "id": "F6ZqPypj-Wug"
      },
      "execution_count": 30,
      "outputs": []
    },
    {
      "cell_type": "code",
      "source": [
        "random_forest.get_params()"
      ],
      "metadata": {
        "colab": {
          "base_uri": "https://localhost:8080/"
        },
        "id": "OyXfWZAq-pPD",
        "outputId": "0151c7c1-336f-4557-9041-c49af83fd05c"
      },
      "execution_count": 31,
      "outputs": [
        {
          "output_type": "execute_result",
          "data": {
            "text/plain": [
              "{'bootstrap': True,\n",
              " 'ccp_alpha': 0.0,\n",
              " 'class_weight': None,\n",
              " 'criterion': 'gini',\n",
              " 'max_depth': None,\n",
              " 'max_features': 'auto',\n",
              " 'max_leaf_nodes': None,\n",
              " 'max_samples': None,\n",
              " 'min_impurity_decrease': 0.0,\n",
              " 'min_samples_leaf': 1,\n",
              " 'min_samples_split': 2,\n",
              " 'min_weight_fraction_leaf': 0.0,\n",
              " 'n_estimators': 100,\n",
              " 'n_jobs': None,\n",
              " 'oob_score': False,\n",
              " 'random_state': None,\n",
              " 'verbose': 0,\n",
              " 'warm_start': False}"
            ]
          },
          "metadata": {},
          "execution_count": 31
        }
      ]
    },
    {
      "cell_type": "code",
      "source": [
        "feature_importances =pd.DataFrame({\"Features\":X_train.columns,\n",
        "              \"Feature Imporances\": random_forest.feature_importances_}).sort_values(by=\"Feature Imporances\")\n",
        "\n",
        "feature_importances.head()"
      ],
      "metadata": {
        "colab": {
          "base_uri": "https://localhost:8080/",
          "height": 206
        },
        "id": "Ft4x90B8-tMv",
        "outputId": "1ec156a0-5d8a-4baa-a9f5-40e7f2be7d11"
      },
      "execution_count": 32,
      "outputs": [
        {
          "output_type": "execute_result",
          "data": {
            "text/html": [
              "\n",
              "  <div id=\"df-62d613e1-75d7-49d1-84f7-94336bcfa372\">\n",
              "    <div class=\"colab-df-container\">\n",
              "      <div>\n",
              "<style scoped>\n",
              "    .dataframe tbody tr th:only-of-type {\n",
              "        vertical-align: middle;\n",
              "    }\n",
              "\n",
              "    .dataframe tbody tr th {\n",
              "        vertical-align: top;\n",
              "    }\n",
              "\n",
              "    .dataframe thead th {\n",
              "        text-align: right;\n",
              "    }\n",
              "</style>\n",
              "<table border=\"1\" class=\"dataframe\">\n",
              "  <thead>\n",
              "    <tr style=\"text-align: right;\">\n",
              "      <th></th>\n",
              "      <th>Features</th>\n",
              "      <th>Feature Imporances</th>\n",
              "    </tr>\n",
              "  </thead>\n",
              "  <tbody>\n",
              "    <tr>\n",
              "      <th>16</th>\n",
              "      <td>NEW_BP_CAT_HIGH PRESSURE</td>\n",
              "      <td>0.003652</td>\n",
              "    </tr>\n",
              "    <tr>\n",
              "      <th>14</th>\n",
              "      <td>NEW_BP_CAT_NORMAL PRESSURE</td>\n",
              "      <td>0.006344</td>\n",
              "    </tr>\n",
              "    <tr>\n",
              "      <th>15</th>\n",
              "      <td>NEW_BP_CAT_HIGH-NORMAL PRESSURE</td>\n",
              "      <td>0.006729</td>\n",
              "    </tr>\n",
              "    <tr>\n",
              "      <th>11</th>\n",
              "      <td>NEW_BMI_CAT_NORMALY WEIGHT</td>\n",
              "      <td>0.008012</td>\n",
              "    </tr>\n",
              "    <tr>\n",
              "      <th>12</th>\n",
              "      <td>NEW_BMI_CAT_OVER WEIGHT</td>\n",
              "      <td>0.008647</td>\n",
              "    </tr>\n",
              "  </tbody>\n",
              "</table>\n",
              "</div>\n",
              "      <button class=\"colab-df-convert\" onclick=\"convertToInteractive('df-62d613e1-75d7-49d1-84f7-94336bcfa372')\"\n",
              "              title=\"Convert this dataframe to an interactive table.\"\n",
              "              style=\"display:none;\">\n",
              "        \n",
              "  <svg xmlns=\"http://www.w3.org/2000/svg\" height=\"24px\"viewBox=\"0 0 24 24\"\n",
              "       width=\"24px\">\n",
              "    <path d=\"M0 0h24v24H0V0z\" fill=\"none\"/>\n",
              "    <path d=\"M18.56 5.44l.94 2.06.94-2.06 2.06-.94-2.06-.94-.94-2.06-.94 2.06-2.06.94zm-11 1L8.5 8.5l.94-2.06 2.06-.94-2.06-.94L8.5 2.5l-.94 2.06-2.06.94zm10 10l.94 2.06.94-2.06 2.06-.94-2.06-.94-.94-2.06-.94 2.06-2.06.94z\"/><path d=\"M17.41 7.96l-1.37-1.37c-.4-.4-.92-.59-1.43-.59-.52 0-1.04.2-1.43.59L10.3 9.45l-7.72 7.72c-.78.78-.78 2.05 0 2.83L4 21.41c.39.39.9.59 1.41.59.51 0 1.02-.2 1.41-.59l7.78-7.78 2.81-2.81c.8-.78.8-2.07 0-2.86zM5.41 20L4 18.59l7.72-7.72 1.47 1.35L5.41 20z\"/>\n",
              "  </svg>\n",
              "      </button>\n",
              "      \n",
              "  <style>\n",
              "    .colab-df-container {\n",
              "      display:flex;\n",
              "      flex-wrap:wrap;\n",
              "      gap: 12px;\n",
              "    }\n",
              "\n",
              "    .colab-df-convert {\n",
              "      background-color: #E8F0FE;\n",
              "      border: none;\n",
              "      border-radius: 50%;\n",
              "      cursor: pointer;\n",
              "      display: none;\n",
              "      fill: #1967D2;\n",
              "      height: 32px;\n",
              "      padding: 0 0 0 0;\n",
              "      width: 32px;\n",
              "    }\n",
              "\n",
              "    .colab-df-convert:hover {\n",
              "      background-color: #E2EBFA;\n",
              "      box-shadow: 0px 1px 2px rgba(60, 64, 67, 0.3), 0px 1px 3px 1px rgba(60, 64, 67, 0.15);\n",
              "      fill: #174EA6;\n",
              "    }\n",
              "\n",
              "    [theme=dark] .colab-df-convert {\n",
              "      background-color: #3B4455;\n",
              "      fill: #D2E3FC;\n",
              "    }\n",
              "\n",
              "    [theme=dark] .colab-df-convert:hover {\n",
              "      background-color: #434B5C;\n",
              "      box-shadow: 0px 1px 3px 1px rgba(0, 0, 0, 0.15);\n",
              "      filter: drop-shadow(0px 1px 2px rgba(0, 0, 0, 0.3));\n",
              "      fill: #FFFFFF;\n",
              "    }\n",
              "  </style>\n",
              "\n",
              "      <script>\n",
              "        const buttonEl =\n",
              "          document.querySelector('#df-62d613e1-75d7-49d1-84f7-94336bcfa372 button.colab-df-convert');\n",
              "        buttonEl.style.display =\n",
              "          google.colab.kernel.accessAllowed ? 'block' : 'none';\n",
              "\n",
              "        async function convertToInteractive(key) {\n",
              "          const element = document.querySelector('#df-62d613e1-75d7-49d1-84f7-94336bcfa372');\n",
              "          const dataTable =\n",
              "            await google.colab.kernel.invokeFunction('convertToInteractive',\n",
              "                                                     [key], {});\n",
              "          if (!dataTable) return;\n",
              "\n",
              "          const docLinkHtml = 'Like what you see? Visit the ' +\n",
              "            '<a target=\"_blank\" href=https://colab.research.google.com/notebooks/data_table.ipynb>data table notebook</a>'\n",
              "            + ' to learn more about interactive tables.';\n",
              "          element.innerHTML = '';\n",
              "          dataTable['output_type'] = 'display_data';\n",
              "          await google.colab.output.renderOutput(dataTable, element);\n",
              "          const docLink = document.createElement('div');\n",
              "          docLink.innerHTML = docLinkHtml;\n",
              "          element.appendChild(docLink);\n",
              "        }\n",
              "      </script>\n",
              "    </div>\n",
              "  </div>\n",
              "  "
            ],
            "text/plain": [
              "                           Features  Feature Imporances\n",
              "16         NEW_BP_CAT_HIGH PRESSURE            0.003652\n",
              "14       NEW_BP_CAT_NORMAL PRESSURE            0.006344\n",
              "15  NEW_BP_CAT_HIGH-NORMAL PRESSURE            0.006729\n",
              "11       NEW_BMI_CAT_NORMALY WEIGHT            0.008012\n",
              "12          NEW_BMI_CAT_OVER WEIGHT            0.008647"
            ]
          },
          "metadata": {},
          "execution_count": 32
        }
      ]
    },
    {
      "cell_type": "code",
      "source": [
        "plt.figure(figsize=(15,7),dpi=200)\n",
        "sns.barplot(data=feature_importances,x=\"Features\",y=\"Feature Imporances\")\n",
        "plt.title(\"Feature Imporances\")\n",
        "plt.xticks(rotation=90)\n",
        "plt.show()"
      ],
      "metadata": {
        "colab": {
          "base_uri": "https://localhost:8080/",
          "height": 1000
        },
        "id": "SY-Ec_x5-5nI",
        "outputId": "af349d10-2b08-4283-8c36-a1345ce55f45"
      },
      "execution_count": 169,
      "outputs": [
        {
          "output_type": "display_data",
          "data": {
            "image/png": "[encoded data removed]",
            "text/plain": [
              "<Figure size 3000x1400 with 1 Axes>"
            ]
          },
          "metadata": {}
        }
      ]
    },
    {
      "cell_type": "code",
      "source": [
        "\n",
        "def plot_importance(model, features, num=len(X), save=False):\n",
        "    feature_imp = pd.DataFrame({'Value': model.feature_importances_, 'Feature': features.columns})\n",
        "    plt.figure(figsize=(10, 10))\n",
        "    sns.set(font_scale=1)\n",
        "    sns.barplot(x=\"Value\", y=\"Feature\", data=feature_imp.sort_values(by=\"Value\",\n",
        "                                                                      ascending=False)[0:num])\n",
        "    plt.title('Features')\n",
        "    plt.tight_layout()\n",
        "    plt.show()\n",
        "    if save:\n",
        "        plt.savefig('importances.png')\n",
        "\n",
        "\n",
        "plot_importance(random_forest, X_train)"
      ],
      "metadata": {
        "colab": {
          "base_uri": "https://localhost:8080/",
          "height": 725
        },
        "id": "NRta4_Nw_K_F",
        "outputId": "0b81bf05-625a-4aa0-c2d4-8fff01b5f6c0"
      },
      "execution_count": 170,
      "outputs": [
        {
          "output_type": "display_data",
          "data": {
            "image/png": "[encoded data removed]",
            "text/plain": [
              "<Figure size 720x720 with 1 Axes>"
            ]
          },
          "metadata": {}
        }
      ]
    },
    {
      "cell_type": "code",
      "source": [
        "y_pred = random_forest.predict(X_test)\n",
        "cm = confusion_matrix(y_test,y_pred)\n",
        "print(classification_report(y_test,y_pred))"
      ],
      "metadata": {
        "colab": {
          "base_uri": "https://localhost:8080/"
        },
        "id": "xzmp6c4t_UeC",
        "outputId": "8c35333c-5372-4e0c-c121-d6293d859eff"
      },
      "execution_count": 33,
      "outputs": [
        {
          "output_type": "stream",
          "name": "stdout",
          "text": [
            "              precision    recall  f1-score   support\n",
            "\n",
            "         0.0       0.78      0.83      0.81       108\n",
            "         1.0       0.66      0.58      0.62        60\n",
            "\n",
            "    accuracy                           0.74       168\n",
            "   macro avg       0.72      0.71      0.71       168\n",
            "weighted avg       0.74      0.74      0.74       168\n",
            "\n"
          ]
        }
      ]
    },
    {
      "cell_type": "code",
      "source": [
        "accuracies= cross_val_score(estimator=random_forest,\n",
        "                            X=X_train,y=y_train,\n",
        "                            cv=10)\n",
        "print(\"Average Accuracy: {:.2f} %\".format(accuracies.mean()*100))\n",
        "print(\"Standart Deviation of Accuracies: {:.2f} %\".format(accuracies.std()*100))"
      ],
      "metadata": {
        "colab": {
          "base_uri": "https://localhost:8080/"
        },
        "id": "yu_Z1HAI_e-Z",
        "outputId": "f582e636-e7f4-4a64-ac35-bac394599c70"
      },
      "execution_count": 34,
      "outputs": [
        {
          "output_type": "stream",
          "name": "stdout",
          "text": [
            "Average Accuracy: 78.17 %\n",
            "Standart Deviation of Accuracies: 5.98 %\n"
          ]
        }
      ]
    },
    {
      "cell_type": "code",
      "source": [
        "random_forests_params = {\"max_depth\": list(range(1,5)),\n",
        "                         \"max_features\":[2,5],\n",
        "                         \"n_estimators\":[300,500],\n",
        "                         \"criterion\":[\"gini\",\"entropy\"]}"
      ],
      "metadata": {
        "id": "WE2H39Rx_hzG"
      },
      "execution_count": 38,
      "outputs": []
    },
    {
      "cell_type": "code",
      "source": [
        "random_forest_classifier = RandomForestClassifier()\n",
        "random_forest_cv = GridSearchCV(random_forest_classifier,random_forests_params,cv=9,n_jobs=-1,verbose=2)"
      ],
      "metadata": {
        "id": "ODtM93hq_kIR"
      },
      "execution_count": 39,
      "outputs": []
    },
    {
      "cell_type": "code",
      "source": [
        "random_forest_cv.fit(X_train,y_train)"
      ],
      "metadata": {
        "colab": {
          "base_uri": "https://localhost:8080/"
        },
        "id": "sFpCCV2E_o5k",
        "outputId": "af567bd6-6a9b-449a-85ea-263799f78829"
      },
      "execution_count": 40,
      "outputs": [
        {
          "output_type": "stream",
          "name": "stdout",
          "text": [
            "Fitting 9 folds for each of 32 candidates, totalling 288 fits\n"
          ]
        },
        {
          "output_type": "execute_result",
          "data": {
            "text/plain": [
              "GridSearchCV(cv=9, estimator=RandomForestClassifier(), n_jobs=-1,\n",
              "             param_grid={'criterion': ['gini', 'entropy'],\n",
              "                         'max_depth': [1, 2, 3, 4], 'max_features': [2, 5],\n",
              "                         'n_estimators': [300, 500]},\n",
              "             verbose=2)"
            ]
          },
          "metadata": {},
          "execution_count": 40
        }
      ]
    },
    {
      "cell_type": "code",
      "source": [
        "#best parameters\n",
        "random_forest_cv.best_params_"
      ],
      "metadata": {
        "colab": {
          "base_uri": "https://localhost:8080/"
        },
        "id": "gd0VpYBwFQ-0",
        "outputId": "ae4e0a61-dc8d-44cc-a306-c7486c7a2f48"
      },
      "execution_count": 41,
      "outputs": [
        {
          "output_type": "execute_result",
          "data": {
            "text/plain": [
              "{'criterion': 'entropy',\n",
              " 'max_depth': 4,\n",
              " 'max_features': 5,\n",
              " 'n_estimators': 500}"
            ]
          },
          "metadata": {},
          "execution_count": 41
        }
      ]
    },
    {
      "cell_type": "code",
      "source": [
        "random_forest_tuned = RandomForestClassifier(criterion=\"entropy\",max_depth=4,max_features=5,\n",
        "                                             n_estimators=500).fit(X_train,y_train)"
      ],
      "metadata": {
        "id": "tPeN-GDMFXXN"
      },
      "execution_count": 42,
      "outputs": []
    },
    {
      "cell_type": "code",
      "source": [
        "y_pred = random_forest_tuned.predict(X_test)\n",
        "cm = confusion_matrix(y_test,y_pred)\n",
        "print(classification_report(y_test,y_pred))"
      ],
      "metadata": {
        "colab": {
          "base_uri": "https://localhost:8080/"
        },
        "id": "4vmjqvFwFfq6",
        "outputId": "a01c854a-586a-4ee1-80a3-649d41ae458c"
      },
      "execution_count": 43,
      "outputs": [
        {
          "output_type": "stream",
          "name": "stdout",
          "text": [
            "              precision    recall  f1-score   support\n",
            "\n",
            "         0.0       0.78      0.82      0.80       108\n",
            "         1.0       0.65      0.58      0.61        60\n",
            "\n",
            "    accuracy                           0.74       168\n",
            "   macro avg       0.71      0.70      0.71       168\n",
            "weighted avg       0.73      0.74      0.73       168\n",
            "\n"
          ]
        }
      ]
    },
    {
      "cell_type": "code",
      "source": [
        "Importances = pd.DataFrame({\"Importance\":random_forest_tuned.feature_importances_*100},index=X_train.columns)\n",
        "Importances.head()"
      ],
      "metadata": {
        "colab": {
          "base_uri": "https://localhost:8080/",
          "height": 206
        },
        "id": "3PKYPQvyFpoa",
        "outputId": "03d55421-09af-454d-982a-796851ed9ed0"
      },
      "execution_count": 44,
      "outputs": [
        {
          "output_type": "execute_result",
          "data": {
            "text/html": [
              "\n",
              "  <div id=\"df-71314229-88f3-4a33-9e3a-51971b154337\">\n",
              "    <div class=\"colab-df-container\">\n",
              "      <div>\n",
              "<style scoped>\n",
              "    .dataframe tbody tr th:only-of-type {\n",
              "        vertical-align: middle;\n",
              "    }\n",
              "\n",
              "    .dataframe tbody tr th {\n",
              "        vertical-align: top;\n",
              "    }\n",
              "\n",
              "    .dataframe thead th {\n",
              "        text-align: right;\n",
              "    }\n",
              "</style>\n",
              "<table border=\"1\" class=\"dataframe\">\n",
              "  <thead>\n",
              "    <tr style=\"text-align: right;\">\n",
              "      <th></th>\n",
              "      <th>Importance</th>\n",
              "    </tr>\n",
              "  </thead>\n",
              "  <tbody>\n",
              "    <tr>\n",
              "      <th>PREGNANCIES</th>\n",
              "      <td>2.992675</td>\n",
              "    </tr>\n",
              "    <tr>\n",
              "      <th>GLUCOSE</th>\n",
              "      <td>23.801095</td>\n",
              "    </tr>\n",
              "    <tr>\n",
              "      <th>BLOODPRESSURE</th>\n",
              "      <td>2.082817</td>\n",
              "    </tr>\n",
              "    <tr>\n",
              "      <th>SKINTHICKNESS</th>\n",
              "      <td>2.729077</td>\n",
              "    </tr>\n",
              "    <tr>\n",
              "      <th>INSULIN</th>\n",
              "      <td>5.836529</td>\n",
              "    </tr>\n",
              "  </tbody>\n",
              "</table>\n",
              "</div>\n",
              "      <button class=\"colab-df-convert\" onclick=\"convertToInteractive('df-71314229-88f3-4a33-9e3a-51971b154337')\"\n",
              "              title=\"Convert this dataframe to an interactive table.\"\n",
              "              style=\"display:none;\">\n",
              "        \n",
              "  <svg xmlns=\"http://www.w3.org/2000/svg\" height=\"24px\"viewBox=\"0 0 24 24\"\n",
              "       width=\"24px\">\n",
              "    <path d=\"M0 0h24v24H0V0z\" fill=\"none\"/>\n",
              "    <path d=\"M18.56 5.44l.94 2.06.94-2.06 2.06-.94-2.06-.94-.94-2.06-.94 2.06-2.06.94zm-11 1L8.5 8.5l.94-2.06 2.06-.94-2.06-.94L8.5 2.5l-.94 2.06-2.06.94zm10 10l.94 2.06.94-2.06 2.06-.94-2.06-.94-.94-2.06-.94 2.06-2.06.94z\"/><path d=\"M17.41 7.96l-1.37-1.37c-.4-.4-.92-.59-1.43-.59-.52 0-1.04.2-1.43.59L10.3 9.45l-7.72 7.72c-.78.78-.78 2.05 0 2.83L4 21.41c.39.39.9.59 1.41.59.51 0 1.02-.2 1.41-.59l7.78-7.78 2.81-2.81c.8-.78.8-2.07 0-2.86zM5.41 20L4 18.59l7.72-7.72 1.47 1.35L5.41 20z\"/>\n",
              "  </svg>\n",
              "      </button>\n",
              "      \n",
              "  <style>\n",
              "    .colab-df-container {\n",
              "      display:flex;\n",
              "      flex-wrap:wrap;\n",
              "      gap: 12px;\n",
              "    }\n",
              "\n",
              "    .colab-df-convert {\n",
              "      background-color: #E8F0FE;\n",
              "      border: none;\n",
              "      border-radius: 50%;\n",
              "      cursor: pointer;\n",
              "      display: none;\n",
              "      fill: #1967D2;\n",
              "      height: 32px;\n",
              "      padding: 0 0 0 0;\n",
              "      width: 32px;\n",
              "    }\n",
              "\n",
              "    .colab-df-convert:hover {\n",
              "      background-color: #E2EBFA;\n",
              "      box-shadow: 0px 1px 2px rgba(60, 64, 67, 0.3), 0px 1px 3px 1px rgba(60, 64, 67, 0.15);\n",
              "      fill: #174EA6;\n",
              "    }\n",
              "\n",
              "    [theme=dark] .colab-df-convert {\n",
              "      background-color: #3B4455;\n",
              "      fill: #D2E3FC;\n",
              "    }\n",
              "\n",
              "    [theme=dark] .colab-df-convert:hover {\n",
              "      background-color: #434B5C;\n",
              "      box-shadow: 0px 1px 3px 1px rgba(0, 0, 0, 0.15);\n",
              "      filter: drop-shadow(0px 1px 2px rgba(0, 0, 0, 0.3));\n",
              "      fill: #FFFFFF;\n",
              "    }\n",
              "  </style>\n",
              "\n",
              "      <script>\n",
              "        const buttonEl =\n",
              "          document.querySelector('#df-71314229-88f3-4a33-9e3a-51971b154337 button.colab-df-convert');\n",
              "        buttonEl.style.display =\n",
              "          google.colab.kernel.accessAllowed ? 'block' : 'none';\n",
              "\n",
              "        async function convertToInteractive(key) {\n",
              "          const element = document.querySelector('#df-71314229-88f3-4a33-9e3a-51971b154337');\n",
              "          const dataTable =\n",
              "            await google.colab.kernel.invokeFunction('convertToInteractive',\n",
              "                                                     [key], {});\n",
              "          if (!dataTable) return;\n",
              "\n",
              "          const docLinkHtml = 'Like what you see? Visit the ' +\n",
              "            '<a target=\"_blank\" href=https://colab.research.google.com/notebooks/data_table.ipynb>data table notebook</a>'\n",
              "            + ' to learn more about interactive tables.';\n",
              "          element.innerHTML = '';\n",
              "          dataTable['output_type'] = 'display_data';\n",
              "          await google.colab.output.renderOutput(dataTable, element);\n",
              "          const docLink = document.createElement('div');\n",
              "          docLink.innerHTML = docLinkHtml;\n",
              "          element.appendChild(docLink);\n",
              "        }\n",
              "      </script>\n",
              "    </div>\n",
              "  </div>\n",
              "  "
            ],
            "text/plain": [
              "               Importance\n",
              "PREGNANCIES      2.992675\n",
              "GLUCOSE         23.801095\n",
              "BLOODPRESSURE    2.082817\n",
              "SKINTHICKNESS    2.729077\n",
              "INSULIN          5.836529"
            ]
          },
          "metadata": {},
          "execution_count": 44
        }
      ]
    },
    {
      "cell_type": "code",
      "source": [
        "Importances.sort_values(by=\"Importance\",axis=0,ascending=True).plot(kind=\"barh\",color=\"b\")\n",
        "plt.xlabel(\"Feature Importances\")\n",
        "plt.ylabel(\"Features\")\n",
        "plt.title(\"Feature Importances\")"
      ],
      "metadata": {
        "colab": {
          "base_uri": "https://localhost:8080/",
          "height": 312
        },
        "id": "Jaw3oiEQFucr",
        "outputId": "525b1949-bdff-4d21-bd50-bf5febe337b4"
      },
      "execution_count": 45,
      "outputs": [
        {
          "output_type": "execute_result",
          "data": {
            "text/plain": [
              "Text(0.5, 1.0, 'Feature Importances')"
            ]
          },
          "metadata": {},
          "execution_count": 45
        },
        {
          "output_type": "display_data",
          "data": {
            "image/png": "[encoded data removed]",
            "text/plain": [
              "<Figure size 432x288 with 1 Axes>"
            ]
          },
          "metadata": {
            "needs_background": "light"
          }
        }
      ]
    },
    {
      "cell_type": "code",
      "source": [
        "# XGBoost (Extreme Gradient Boosting) Classification\n",
        "X = df.drop(\"OUTCOME\",axis=1)\n",
        "y= df[\"OUTCOME\"] #We will predict Outcome(diabetes) \n",
        "\n",
        "X_train = X.iloc[:600]\n",
        "X_test = X.iloc[600:]\n",
        "y_train = y[:600]\n",
        "y_test = y[600:]\n",
        "\n",
        "xgb_classifier = XGBClassifier().fit(X_train,y_train)"
      ],
      "metadata": {
        "id": "d397CB2PF2n8"
      },
      "execution_count": 46,
      "outputs": []
    },
    {
      "cell_type": "code",
      "source": [
        "y_pred = xgb_classifier.predict(X_test)\n",
        "cm = confusion_matrix(y_test,y_pred)\n",
        "print(classification_report(y_test,y_pred))"
      ],
      "metadata": {
        "colab": {
          "base_uri": "https://localhost:8080/"
        },
        "id": "Hhbl9IjcGDrg",
        "outputId": "f5a006f4-0688-4f38-9519-eada8faa88f0"
      },
      "execution_count": 47,
      "outputs": [
        {
          "output_type": "stream",
          "name": "stdout",
          "text": [
            "              precision    recall  f1-score   support\n",
            "\n",
            "         0.0       0.82      0.87      0.85       108\n",
            "         1.0       0.74      0.67      0.70        60\n",
            "\n",
            "    accuracy                           0.80       168\n",
            "   macro avg       0.78      0.77      0.77       168\n",
            "weighted avg       0.79      0.80      0.80       168\n",
            "\n"
          ]
        }
      ]
    },
    {
      "cell_type": "code",
      "source": [
        "accuracies= cross_val_score(estimator=xgb_classifier,\n",
        "                            X=X_train,y=y_train,\n",
        "                            cv=10)\n",
        "print(\"Average Accuracy: {:.2f} %\".format(accuracies.mean()*100))\n",
        "print(\"Standart Deviation of Accuracies: {:.2f} %\".format(accuracies.std()*100))"
      ],
      "metadata": {
        "colab": {
          "base_uri": "https://localhost:8080/"
        },
        "id": "QMPPfDOFGJbw",
        "outputId": "d0019136-e738-4352-d286-b35cc40106a7"
      },
      "execution_count": 48,
      "outputs": [
        {
          "output_type": "stream",
          "name": "stdout",
          "text": [
            "Average Accuracy: 76.50 %\n",
            "Standart Deviation of Accuracies: 5.89 %\n"
          ]
        }
      ]
    },
    {
      "cell_type": "code",
      "source": [
        "xgboost_params ={\"learning_rate\":[0.1,0.01,0.02,0.05],\n",
        "                 \"subsample\":[0.6,0.8,1.0],\n",
        "                 \"max_depth\":[1,2,3,4,5],\n",
        "                 \"n_estimators\":[100,500]}"
      ],
      "metadata": {
        "id": "cIvbS7oMGQzN"
      },
      "execution_count": 49,
      "outputs": []
    },
    {
      "cell_type": "code",
      "source": [
        "xgboost_classifier = XGBClassifier()\n",
        "xgboost_cv = GridSearchCV(xgboost_classifier,xgboost_params,cv=9,n_jobs=-1,verbose=2)"
      ],
      "metadata": {
        "id": "AqgC4ETVGgqW"
      },
      "execution_count": 50,
      "outputs": []
    },
    {
      "cell_type": "code",
      "source": [
        "xgboost_cv.fit(X_train,y_train)"
      ],
      "metadata": {
        "colab": {
          "base_uri": "https://localhost:8080/"
        },
        "id": "ulkom-MbGjPo",
        "outputId": "8ec1a59f-6975-417c-db98-bcfa684abfc8"
      },
      "execution_count": 51,
      "outputs": [
        {
          "output_type": "stream",
          "name": "stdout",
          "text": [
            "Fitting 9 folds for each of 120 candidates, totalling 1080 fits\n"
          ]
        },
        {
          "output_type": "execute_result",
          "data": {
            "text/plain": [
              "GridSearchCV(cv=9, estimator=XGBClassifier(), n_jobs=-1,\n",
              "             param_grid={'learning_rate': [0.1, 0.01, 0.02, 0.05],\n",
              "                         'max_depth': [1, 2, 3, 4, 5],\n",
              "                         'n_estimators': [100, 500],\n",
              "                         'subsample': [0.6, 0.8, 1.0]},\n",
              "             verbose=2)"
            ]
          },
          "metadata": {},
          "execution_count": 51
        }
      ]
    },
    {
      "cell_type": "code",
      "source": [
        "#best parameters\n",
        "xgboost_cv.best_params_"
      ],
      "metadata": {
        "colab": {
          "base_uri": "https://localhost:8080/"
        },
        "id": "wjpvcN-ZHfky",
        "outputId": "85d4d68a-5495-4064-c110-5dacf53d5109"
      },
      "execution_count": 52,
      "outputs": [
        {
          "output_type": "execute_result",
          "data": {
            "text/plain": [
              "{'learning_rate': 0.02, 'max_depth': 4, 'n_estimators': 100, 'subsample': 1.0}"
            ]
          },
          "metadata": {},
          "execution_count": 52
        }
      ]
    },
    {
      "cell_type": "code",
      "source": [
        "xgboost_tuned = XGBClassifier(learning_rate=0.02,max_depth=4,\n",
        "                              subsample=1,n_estimators=100).fit(X_train,y_train)"
      ],
      "metadata": {
        "id": "Tr5ucgGXHiyM"
      },
      "execution_count": 53,
      "outputs": []
    },
    {
      "cell_type": "code",
      "source": [
        "y_pred = xgboost_tuned.predict(X_test)\n",
        "cm = confusion_matrix(y_test,y_pred)\n",
        "print(classification_report(y_test,y_pred))"
      ],
      "metadata": {
        "colab": {
          "base_uri": "https://localhost:8080/"
        },
        "id": "sFk-Bmp7HrCt",
        "outputId": "8d037fb2-d3c4-4e28-d166-ee982af57fe2"
      },
      "execution_count": 54,
      "outputs": [
        {
          "output_type": "stream",
          "name": "stdout",
          "text": [
            "              precision    recall  f1-score   support\n",
            "\n",
            "         0.0       0.80      0.81      0.81       108\n",
            "         1.0       0.66      0.63      0.64        60\n",
            "\n",
            "    accuracy                           0.75       168\n",
            "   macro avg       0.73      0.72      0.73       168\n",
            "weighted avg       0.75      0.75      0.75       168\n",
            "\n"
          ]
        }
      ]
    },
    {
      "cell_type": "code",
      "source": [
        "result = {'Model': ['Logistic Regression Classification', 'K - Nearest Neighbors(KNN)', 'Support Vector Classification(SVC) with Linear Kernel', \n",
        "                  'Support Vector Classification with Radial Basis Kernel','Decision Tree Classification',\n",
        "                  'Random Forests Classification','XGBoost Classification'], \n",
        "        'Accuracy': [0.77,0.71,0.77,0.74,0.77,0.74,0.75],\n",
        "        'F1 Score': [0.63,0.54,0.63,0.6,0.67,0.61,0.64]}  \n",
        "\n",
        "result = pd.DataFrame(result)  "
      ],
      "metadata": {
        "id": "Y2IDuoejIOMl"
      },
      "execution_count": 55,
      "outputs": []
    },
    {
      "cell_type": "code",
      "source": [
        "result"
      ],
      "metadata": {
        "colab": {
          "base_uri": "https://localhost:8080/",
          "height": 269
        },
        "id": "GRBjjxqWKlMU",
        "outputId": "28cce4ec-5252-477d-b25a-23c6a25bc5b6"
      },
      "execution_count": 56,
      "outputs": [
        {
          "output_type": "execute_result",
          "data": {
            "text/html": [
              "\n",
              "  <div id=\"df-eb9f5189-2343-4c20-b2a5-e1bd7ddf8807\">\n",
              "    <div class=\"colab-df-container\">\n",
              "      <div>\n",
              "<style scoped>\n",
              "    .dataframe tbody tr th:only-of-type {\n",
              "        vertical-align: middle;\n",
              "    }\n",
              "\n",
              "    .dataframe tbody tr th {\n",
              "        vertical-align: top;\n",
              "    }\n",
              "\n",
              "    .dataframe thead th {\n",
              "        text-align: right;\n",
              "    }\n",
              "</style>\n",
              "<table border=\"1\" class=\"dataframe\">\n",
              "  <thead>\n",
              "    <tr style=\"text-align: right;\">\n",
              "      <th></th>\n",
              "      <th>Model</th>\n",
              "      <th>Accuracy</th>\n",
              "      <th>F1 Score</th>\n",
              "    </tr>\n",
              "  </thead>\n",
              "  <tbody>\n",
              "    <tr>\n",
              "      <th>0</th>\n",
              "      <td>Logistic Regression Classification</td>\n",
              "      <td>0.77</td>\n",
              "      <td>0.63</td>\n",
              "    </tr>\n",
              "    <tr>\n",
              "      <th>1</th>\n",
              "      <td>K - Nearest Neighbors(KNN)</td>\n",
              "      <td>0.71</td>\n",
              "      <td>0.54</td>\n",
              "    </tr>\n",
              "    <tr>\n",
              "      <th>2</th>\n",
              "      <td>Support Vector Classification(SVC) with Linear...</td>\n",
              "      <td>0.77</td>\n",
              "      <td>0.63</td>\n",
              "    </tr>\n",
              "    <tr>\n",
              "      <th>3</th>\n",
              "      <td>Support Vector Classification with Radial Basi...</td>\n",
              "      <td>0.74</td>\n",
              "      <td>0.60</td>\n",
              "    </tr>\n",
              "    <tr>\n",
              "      <th>4</th>\n",
              "      <td>Decision Tree Classification</td>\n",
              "      <td>0.77</td>\n",
              "      <td>0.67</td>\n",
              "    </tr>\n",
              "    <tr>\n",
              "      <th>5</th>\n",
              "      <td>Random Forests Classification</td>\n",
              "      <td>0.74</td>\n",
              "      <td>0.61</td>\n",
              "    </tr>\n",
              "    <tr>\n",
              "      <th>6</th>\n",
              "      <td>XGBoost Classification</td>\n",
              "      <td>0.75</td>\n",
              "      <td>0.64</td>\n",
              "    </tr>\n",
              "  </tbody>\n",
              "</table>\n",
              "</div>\n",
              "      <button class=\"colab-df-convert\" onclick=\"convertToInteractive('df-eb9f5189-2343-4c20-b2a5-e1bd7ddf8807')\"\n",
              "              title=\"Convert this dataframe to an interactive table.\"\n",
              "              style=\"display:none;\">\n",
              "        \n",
              "  <svg xmlns=\"http://www.w3.org/2000/svg\" height=\"24px\"viewBox=\"0 0 24 24\"\n",
              "       width=\"24px\">\n",
              "    <path d=\"M0 0h24v24H0V0z\" fill=\"none\"/>\n",
              "    <path d=\"M18.56 5.44l.94 2.06.94-2.06 2.06-.94-2.06-.94-.94-2.06-.94 2.06-2.06.94zm-11 1L8.5 8.5l.94-2.06 2.06-.94-2.06-.94L8.5 2.5l-.94 2.06-2.06.94zm10 10l.94 2.06.94-2.06 2.06-.94-2.06-.94-.94-2.06-.94 2.06-2.06.94z\"/><path d=\"M17.41 7.96l-1.37-1.37c-.4-.4-.92-.59-1.43-.59-.52 0-1.04.2-1.43.59L10.3 9.45l-7.72 7.72c-.78.78-.78 2.05 0 2.83L4 21.41c.39.39.9.59 1.41.59.51 0 1.02-.2 1.41-.59l7.78-7.78 2.81-2.81c.8-.78.8-2.07 0-2.86zM5.41 20L4 18.59l7.72-7.72 1.47 1.35L5.41 20z\"/>\n",
              "  </svg>\n",
              "      </button>\n",
              "      \n",
              "  <style>\n",
              "    .colab-df-container {\n",
              "      display:flex;\n",
              "      flex-wrap:wrap;\n",
              "      gap: 12px;\n",
              "    }\n",
              "\n",
              "    .colab-df-convert {\n",
              "      background-color: #E8F0FE;\n",
              "      border: none;\n",
              "      border-radius: 50%;\n",
              "      cursor: pointer;\n",
              "      display: none;\n",
              "      fill: #1967D2;\n",
              "      height: 32px;\n",
              "      padding: 0 0 0 0;\n",
              "      width: 32px;\n",
              "    }\n",
              "\n",
              "    .colab-df-convert:hover {\n",
              "      background-color: #E2EBFA;\n",
              "      box-shadow: 0px 1px 2px rgba(60, 64, 67, 0.3), 0px 1px 3px 1px rgba(60, 64, 67, 0.15);\n",
              "      fill: #174EA6;\n",
              "    }\n",
              "\n",
              "    [theme=dark] .colab-df-convert {\n",
              "      background-color: #3B4455;\n",
              "      fill: #D2E3FC;\n",
              "    }\n",
              "\n",
              "    [theme=dark] .colab-df-convert:hover {\n",
              "      background-color: #434B5C;\n",
              "      box-shadow: 0px 1px 3px 1px rgba(0, 0, 0, 0.15);\n",
              "      filter: drop-shadow(0px 1px 2px rgba(0, 0, 0, 0.3));\n",
              "      fill: #FFFFFF;\n",
              "    }\n",
              "  </style>\n",
              "\n",
              "      <script>\n",
              "        const buttonEl =\n",
              "          document.querySelector('#df-eb9f5189-2343-4c20-b2a5-e1bd7ddf8807 button.colab-df-convert');\n",
              "        buttonEl.style.display =\n",
              "          google.colab.kernel.accessAllowed ? 'block' : 'none';\n",
              "\n",
              "        async function convertToInteractive(key) {\n",
              "          const element = document.querySelector('#df-eb9f5189-2343-4c20-b2a5-e1bd7ddf8807');\n",
              "          const dataTable =\n",
              "            await google.colab.kernel.invokeFunction('convertToInteractive',\n",
              "                                                     [key], {});\n",
              "          if (!dataTable) return;\n",
              "\n",
              "          const docLinkHtml = 'Like what you see? Visit the ' +\n",
              "            '<a target=\"_blank\" href=https://colab.research.google.com/notebooks/data_table.ipynb>data table notebook</a>'\n",
              "            + ' to learn more about interactive tables.';\n",
              "          element.innerHTML = '';\n",
              "          dataTable['output_type'] = 'display_data';\n",
              "          await google.colab.output.renderOutput(dataTable, element);\n",
              "          const docLink = document.createElement('div');\n",
              "          docLink.innerHTML = docLinkHtml;\n",
              "          element.appendChild(docLink);\n",
              "        }\n",
              "      </script>\n",
              "    </div>\n",
              "  </div>\n",
              "  "
            ],
            "text/plain": [
              "                                               Model  Accuracy  F1 Score\n",
              "0                 Logistic Regression Classification      0.77      0.63\n",
              "1                         K - Nearest Neighbors(KNN)      0.71      0.54\n",
              "2  Support Vector Classification(SVC) with Linear...      0.77      0.63\n",
              "3  Support Vector Classification with Radial Basi...      0.74      0.60\n",
              "4                       Decision Tree Classification      0.77      0.67\n",
              "5                      Random Forests Classification      0.74      0.61\n",
              "6                             XGBoost Classification      0.75      0.64"
            ]
          },
          "metadata": {},
          "execution_count": 56
        }
      ]
    }
  ]
}